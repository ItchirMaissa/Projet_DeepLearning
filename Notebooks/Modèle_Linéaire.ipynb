{
 "cells": [
  {
   "cell_type": "code",
   "execution_count": 1,
   "id": "96a9a940",
   "metadata": {
    "_cell_guid": "b1076dfc-b9ad-4769-8c92-a6c4dae69d19",
    "_uuid": "8f2839f25d086af736a60e9eeb907d3b93b6e0e5",
    "execution": {
     "iopub.execute_input": "2024-11-15T20:05:49.744141Z",
     "iopub.status.busy": "2024-11-15T20:05:49.743711Z",
     "iopub.status.idle": "2024-11-15T20:05:52.923825Z",
     "shell.execute_reply": "2024-11-15T20:05:52.922399Z"
    },
    "papermill": {
     "duration": 3.199391,
     "end_time": "2024-11-15T20:05:52.926575",
     "exception": false,
     "start_time": "2024-11-15T20:05:49.727184",
     "status": "completed"
    },
    "tags": []
   },
   "outputs": [
    {
     "name": "stdout",
     "output_type": "stream",
     "text": [
      "/kaggle/input/child-mind-institute-problematic-internet-use/sample_submission.csv\n",
      "/kaggle/input/child-mind-institute-problematic-internet-use/data_dictionary.csv\n",
      "/kaggle/input/child-mind-institute-problematic-internet-use/train.csv\n",
      "/kaggle/input/child-mind-institute-problematic-internet-use/test.csv\n",
      "/kaggle/input/child-mind-institute-problematic-internet-use/series_test.parquet/id=00115b9f/part-0.parquet\n",
      "/kaggle/input/child-mind-institute-problematic-internet-use/series_test.parquet/id=001f3379/part-0.parquet\n",
      "/kaggle/input/child-mind-institute-problematic-internet-use/series_train.parquet/id=0745c390/part-0.parquet\n",
      "/kaggle/input/child-mind-institute-problematic-internet-use/series_train.parquet/id=eaab7a96/part-0.parquet\n",
      "/kaggle/input/child-mind-institute-problematic-internet-use/series_train.parquet/id=8ec2cc63/part-0.parquet\n",
      "/kaggle/input/child-mind-institute-problematic-internet-use/series_train.parquet/id=b2987a65/part-0.parquet\n",
      "/kaggle/input/child-mind-institute-problematic-internet-use/series_train.parquet/id=7b8842c3/part-0.parquet\n",
      "/kaggle/input/child-mind-institute-problematic-internet-use/series_train.parquet/id=b120a337/part-0.parquet\n",
      "/kaggle/input/child-mind-institute-problematic-internet-use/series_train.parquet/id=5f9dddb4/part-0.parquet\n",
      "/kaggle/input/child-mind-institute-problematic-internet-use/series_train.parquet/id=2c3b09db/part-0.parquet\n",
      "/kaggle/input/child-mind-institute-problematic-internet-use/series_train.parquet/id=3ab539f0/part-0.parquet\n",
      "/kaggle/input/child-mind-institute-problematic-internet-use/series_train.parquet/id=9f9be55c/part-0.parquet\n",
      "/kaggle/input/child-mind-institute-problematic-internet-use/series_train.parquet/id=15dbc929/part-0.parquet\n",
      "/kaggle/input/child-mind-institute-problematic-internet-use/series_train.parquet/id=e7d08824/part-0.parquet\n",
      "/kaggle/input/child-mind-institute-problematic-internet-use/series_train.parquet/id=2a3fcf9a/part-0.parquet\n",
      "/kaggle/input/child-mind-institute-problematic-internet-use/series_train.parquet/id=7c194077/part-0.parquet\n",
      "/kaggle/input/child-mind-institute-problematic-internet-use/series_train.parquet/id=38cccd6d/part-0.parquet\n",
      "/kaggle/input/child-mind-institute-problematic-internet-use/series_train.parquet/id=f4d2f5af/part-0.parquet\n",
      "/kaggle/input/child-mind-institute-problematic-internet-use/series_train.parquet/id=948a7025/part-0.parquet\n",
      "/kaggle/input/child-mind-institute-problematic-internet-use/series_train.parquet/id=25849c6c/part-0.parquet\n",
      "/kaggle/input/child-mind-institute-problematic-internet-use/series_train.parquet/id=c00c663c/part-0.parquet\n",
      "/kaggle/input/child-mind-institute-problematic-internet-use/series_train.parquet/id=79bd36b6/part-0.parquet\n",
      "/kaggle/input/child-mind-institute-problematic-internet-use/series_train.parquet/id=f44f1227/part-0.parquet\n",
      "/kaggle/input/child-mind-institute-problematic-internet-use/series_train.parquet/id=a922ef3f/part-0.parquet\n",
      "/kaggle/input/child-mind-institute-problematic-internet-use/series_train.parquet/id=b95aad8d/part-0.parquet\n",
      "/kaggle/input/child-mind-institute-problematic-internet-use/series_train.parquet/id=93904b23/part-0.parquet\n",
      "/kaggle/input/child-mind-institute-problematic-internet-use/series_train.parquet/id=f028534c/part-0.parquet\n",
      "/kaggle/input/child-mind-institute-problematic-internet-use/series_train.parquet/id=a221c60c/part-0.parquet\n",
      "/kaggle/input/child-mind-institute-problematic-internet-use/series_train.parquet/id=cd39e576/part-0.parquet\n",
      "/kaggle/input/child-mind-institute-problematic-internet-use/series_train.parquet/id=cb2752bc/part-0.parquet\n",
      "/kaggle/input/child-mind-institute-problematic-internet-use/series_train.parquet/id=d9c82502/part-0.parquet\n",
      "/kaggle/input/child-mind-institute-problematic-internet-use/series_train.parquet/id=35d2aa41/part-0.parquet\n",
      "/kaggle/input/child-mind-institute-problematic-internet-use/series_train.parquet/id=93c06d4c/part-0.parquet\n",
      "/kaggle/input/child-mind-institute-problematic-internet-use/series_train.parquet/id=bd8397cb/part-0.parquet\n",
      "/kaggle/input/child-mind-institute-problematic-internet-use/series_train.parquet/id=0a418b57/part-0.parquet\n",
      "/kaggle/input/child-mind-institute-problematic-internet-use/series_train.parquet/id=8abbbc38/part-0.parquet\n",
      "/kaggle/input/child-mind-institute-problematic-internet-use/series_train.parquet/id=91656d27/part-0.parquet\n",
      "/kaggle/input/child-mind-institute-problematic-internet-use/series_train.parquet/id=75c13e08/part-0.parquet\n",
      "/kaggle/input/child-mind-institute-problematic-internet-use/series_train.parquet/id=3acb5be3/part-0.parquet\n",
      "/kaggle/input/child-mind-institute-problematic-internet-use/series_train.parquet/id=57de6095/part-0.parquet\n",
      "/kaggle/input/child-mind-institute-problematic-internet-use/series_train.parquet/id=3ba48ca7/part-0.parquet\n",
      "/kaggle/input/child-mind-institute-problematic-internet-use/series_train.parquet/id=29c54890/part-0.parquet\n",
      "/kaggle/input/child-mind-institute-problematic-internet-use/series_train.parquet/id=ac1ad4a7/part-0.parquet\n",
      "/kaggle/input/child-mind-institute-problematic-internet-use/series_train.parquet/id=9cee3c19/part-0.parquet\n",
      "/kaggle/input/child-mind-institute-problematic-internet-use/series_train.parquet/id=860f4f9c/part-0.parquet\n",
      "/kaggle/input/child-mind-institute-problematic-internet-use/series_train.parquet/id=6795027a/part-0.parquet\n",
      "/kaggle/input/child-mind-institute-problematic-internet-use/series_train.parquet/id=73ec551e/part-0.parquet\n",
      "/kaggle/input/child-mind-institute-problematic-internet-use/series_train.parquet/id=215ca39b/part-0.parquet\n",
      "/kaggle/input/child-mind-institute-problematic-internet-use/series_train.parquet/id=15f2e240/part-0.parquet\n",
      "/kaggle/input/child-mind-institute-problematic-internet-use/series_train.parquet/id=75ad73ee/part-0.parquet\n",
      "/kaggle/input/child-mind-institute-problematic-internet-use/series_train.parquet/id=c2b40d6f/part-0.parquet\n",
      "/kaggle/input/child-mind-institute-problematic-internet-use/series_train.parquet/id=218faf6f/part-0.parquet\n",
      "/kaggle/input/child-mind-institute-problematic-internet-use/series_train.parquet/id=678598dd/part-0.parquet\n",
      "/kaggle/input/child-mind-institute-problematic-internet-use/series_train.parquet/id=bebff291/part-0.parquet\n",
      "/kaggle/input/child-mind-institute-problematic-internet-use/series_train.parquet/id=de3ecca9/part-0.parquet\n",
      "/kaggle/input/child-mind-institute-problematic-internet-use/series_train.parquet/id=09331bb8/part-0.parquet\n",
      "/kaggle/input/child-mind-institute-problematic-internet-use/series_train.parquet/id=bc6bd8b2/part-0.parquet\n",
      "/kaggle/input/child-mind-institute-problematic-internet-use/series_train.parquet/id=adbd6839/part-0.parquet\n",
      "/kaggle/input/child-mind-institute-problematic-internet-use/series_train.parquet/id=d2d9b474/part-0.parquet\n",
      "/kaggle/input/child-mind-institute-problematic-internet-use/series_train.parquet/id=e7401605/part-0.parquet\n",
      "/kaggle/input/child-mind-institute-problematic-internet-use/series_train.parquet/id=8e80deb7/part-0.parquet\n",
      "/kaggle/input/child-mind-institute-problematic-internet-use/series_train.parquet/id=04cb2c30/part-0.parquet\n",
      "/kaggle/input/child-mind-institute-problematic-internet-use/series_train.parquet/id=8f015125/part-0.parquet\n",
      "/kaggle/input/child-mind-institute-problematic-internet-use/series_train.parquet/id=c6ead822/part-0.parquet\n",
      "/kaggle/input/child-mind-institute-problematic-internet-use/series_train.parquet/id=bc4eaf77/part-0.parquet\n",
      "/kaggle/input/child-mind-institute-problematic-internet-use/series_train.parquet/id=a4e0447e/part-0.parquet\n",
      "/kaggle/input/child-mind-institute-problematic-internet-use/series_train.parquet/id=3d3b87db/part-0.parquet\n",
      "/kaggle/input/child-mind-institute-problematic-internet-use/series_train.parquet/id=0bfe4fc9/part-0.parquet\n",
      "/kaggle/input/child-mind-institute-problematic-internet-use/series_train.parquet/id=436dd613/part-0.parquet\n",
      "/kaggle/input/child-mind-institute-problematic-internet-use/series_train.parquet/id=429cc266/part-0.parquet\n",
      "/kaggle/input/child-mind-institute-problematic-internet-use/series_train.parquet/id=eef79620/part-0.parquet\n",
      "/kaggle/input/child-mind-institute-problematic-internet-use/series_train.parquet/id=e683d2c9/part-0.parquet\n",
      "/kaggle/input/child-mind-institute-problematic-internet-use/series_train.parquet/id=2ca2206f/part-0.parquet\n",
      "/kaggle/input/child-mind-institute-problematic-internet-use/series_train.parquet/id=e37d000b/part-0.parquet\n",
      "/kaggle/input/child-mind-institute-problematic-internet-use/series_train.parquet/id=39fb1ad0/part-0.parquet\n",
      "/kaggle/input/child-mind-institute-problematic-internet-use/series_train.parquet/id=c96b9609/part-0.parquet\n",
      "/kaggle/input/child-mind-institute-problematic-internet-use/series_train.parquet/id=e315fdd7/part-0.parquet\n",
      "/kaggle/input/child-mind-institute-problematic-internet-use/series_train.parquet/id=f09e7b33/part-0.parquet\n",
      "/kaggle/input/child-mind-institute-problematic-internet-use/series_train.parquet/id=0c98f822/part-0.parquet\n",
      "/kaggle/input/child-mind-institute-problematic-internet-use/series_train.parquet/id=56cb7161/part-0.parquet\n",
      "/kaggle/input/child-mind-institute-problematic-internet-use/series_train.parquet/id=7860b64c/part-0.parquet\n",
      "/kaggle/input/child-mind-institute-problematic-internet-use/series_train.parquet/id=9e027e04/part-0.parquet\n",
      "/kaggle/input/child-mind-institute-problematic-internet-use/series_train.parquet/id=8ba98f12/part-0.parquet\n",
      "/kaggle/input/child-mind-institute-problematic-internet-use/series_train.parquet/id=f4114031/part-0.parquet\n",
      "/kaggle/input/child-mind-institute-problematic-internet-use/series_train.parquet/id=19098ef0/part-0.parquet\n",
      "/kaggle/input/child-mind-institute-problematic-internet-use/series_train.parquet/id=dd689eb0/part-0.parquet\n",
      "/kaggle/input/child-mind-institute-problematic-internet-use/series_train.parquet/id=c2e15338/part-0.parquet\n",
      "/kaggle/input/child-mind-institute-problematic-internet-use/series_train.parquet/id=9cf04c41/part-0.parquet\n",
      "/kaggle/input/child-mind-institute-problematic-internet-use/series_train.parquet/id=6c6cd633/part-0.parquet\n",
      "/kaggle/input/child-mind-institute-problematic-internet-use/series_train.parquet/id=2a6a6b92/part-0.parquet\n",
      "/kaggle/input/child-mind-institute-problematic-internet-use/series_train.parquet/id=c7d9e964/part-0.parquet\n",
      "/kaggle/input/child-mind-institute-problematic-internet-use/series_train.parquet/id=1eda934b/part-0.parquet\n",
      "/kaggle/input/child-mind-institute-problematic-internet-use/series_train.parquet/id=54fef303/part-0.parquet\n",
      "/kaggle/input/child-mind-institute-problematic-internet-use/series_train.parquet/id=5ef3d64e/part-0.parquet\n",
      "/kaggle/input/child-mind-institute-problematic-internet-use/series_train.parquet/id=14a6e58e/part-0.parquet\n",
      "/kaggle/input/child-mind-institute-problematic-internet-use/series_train.parquet/id=5779f2e9/part-0.parquet\n",
      "/kaggle/input/child-mind-institute-problematic-internet-use/series_train.parquet/id=537dc410/part-0.parquet\n",
      "/kaggle/input/child-mind-institute-problematic-internet-use/series_train.parquet/id=adaf7461/part-0.parquet\n",
      "/kaggle/input/child-mind-institute-problematic-internet-use/series_train.parquet/id=893293dd/part-0.parquet\n",
      "/kaggle/input/child-mind-institute-problematic-internet-use/series_train.parquet/id=a6969e1a/part-0.parquet\n",
      "/kaggle/input/child-mind-institute-problematic-internet-use/series_train.parquet/id=5b2c9b83/part-0.parquet\n",
      "/kaggle/input/child-mind-institute-problematic-internet-use/series_train.parquet/id=3e398bf9/part-0.parquet\n",
      "/kaggle/input/child-mind-institute-problematic-internet-use/series_train.parquet/id=ce6eeadf/part-0.parquet\n",
      "/kaggle/input/child-mind-institute-problematic-internet-use/series_train.parquet/id=8a77c3e9/part-0.parquet\n",
      "/kaggle/input/child-mind-institute-problematic-internet-use/series_train.parquet/id=db746de0/part-0.parquet\n",
      "/kaggle/input/child-mind-institute-problematic-internet-use/series_train.parquet/id=6b773506/part-0.parquet\n",
      "/kaggle/input/child-mind-institute-problematic-internet-use/series_train.parquet/id=eeedcd5e/part-0.parquet\n",
      "/kaggle/input/child-mind-institute-problematic-internet-use/series_train.parquet/id=ab987c75/part-0.parquet\n",
      "/kaggle/input/child-mind-institute-problematic-internet-use/series_train.parquet/id=9061cc9c/part-0.parquet\n",
      "/kaggle/input/child-mind-institute-problematic-internet-use/series_train.parquet/id=00115b9f/part-0.parquet\n",
      "/kaggle/input/child-mind-institute-problematic-internet-use/series_train.parquet/id=f1baae47/part-0.parquet\n",
      "/kaggle/input/child-mind-institute-problematic-internet-use/series_train.parquet/id=137baaec/part-0.parquet\n",
      "/kaggle/input/child-mind-institute-problematic-internet-use/series_train.parquet/id=428c37ea/part-0.parquet\n",
      "/kaggle/input/child-mind-institute-problematic-internet-use/series_train.parquet/id=4859a9f9/part-0.parquet\n",
      "/kaggle/input/child-mind-institute-problematic-internet-use/series_train.parquet/id=055156e2/part-0.parquet\n",
      "/kaggle/input/child-mind-institute-problematic-internet-use/series_train.parquet/id=10ad8c48/part-0.parquet\n",
      "/kaggle/input/child-mind-institute-problematic-internet-use/series_train.parquet/id=23dafdab/part-0.parquet\n",
      "/kaggle/input/child-mind-institute-problematic-internet-use/series_train.parquet/id=5f78f7b9/part-0.parquet\n",
      "/kaggle/input/child-mind-institute-problematic-internet-use/series_train.parquet/id=5cd83147/part-0.parquet\n",
      "/kaggle/input/child-mind-institute-problematic-internet-use/series_train.parquet/id=5ea2c305/part-0.parquet\n",
      "/kaggle/input/child-mind-institute-problematic-internet-use/series_train.parquet/id=ed711416/part-0.parquet\n",
      "/kaggle/input/child-mind-institute-problematic-internet-use/series_train.parquet/id=24a3b16d/part-0.parquet\n",
      "/kaggle/input/child-mind-institute-problematic-internet-use/series_train.parquet/id=4a17b463/part-0.parquet\n",
      "/kaggle/input/child-mind-institute-problematic-internet-use/series_train.parquet/id=fe3cbf02/part-0.parquet\n",
      "/kaggle/input/child-mind-institute-problematic-internet-use/series_train.parquet/id=3d36fe8b/part-0.parquet\n",
      "/kaggle/input/child-mind-institute-problematic-internet-use/series_train.parquet/id=8c1f9196/part-0.parquet\n",
      "/kaggle/input/child-mind-institute-problematic-internet-use/series_train.parquet/id=a5974a7d/part-0.parquet\n",
      "/kaggle/input/child-mind-institute-problematic-internet-use/series_train.parquet/id=9105b812/part-0.parquet\n",
      "/kaggle/input/child-mind-institute-problematic-internet-use/series_train.parquet/id=63fc9770/part-0.parquet\n",
      "/kaggle/input/child-mind-institute-problematic-internet-use/series_train.parquet/id=8376acc5/part-0.parquet\n",
      "/kaggle/input/child-mind-institute-problematic-internet-use/series_train.parquet/id=0eddd8e5/part-0.parquet\n",
      "/kaggle/input/child-mind-institute-problematic-internet-use/series_train.parquet/id=9d1b2d2c/part-0.parquet\n",
      "/kaggle/input/child-mind-institute-problematic-internet-use/series_train.parquet/id=3e5d5b58/part-0.parquet\n",
      "/kaggle/input/child-mind-institute-problematic-internet-use/series_train.parquet/id=fc8e4de4/part-0.parquet\n",
      "/kaggle/input/child-mind-institute-problematic-internet-use/series_train.parquet/id=5f7537cf/part-0.parquet\n",
      "/kaggle/input/child-mind-institute-problematic-internet-use/series_train.parquet/id=dc33dcef/part-0.parquet\n",
      "/kaggle/input/child-mind-institute-problematic-internet-use/series_train.parquet/id=0b518637/part-0.parquet\n",
      "/kaggle/input/child-mind-institute-problematic-internet-use/series_train.parquet/id=a40c8316/part-0.parquet\n",
      "/kaggle/input/child-mind-institute-problematic-internet-use/series_train.parquet/id=ea4619ec/part-0.parquet\n",
      "/kaggle/input/child-mind-institute-problematic-internet-use/series_train.parquet/id=b69bf1f7/part-0.parquet\n",
      "/kaggle/input/child-mind-institute-problematic-internet-use/series_train.parquet/id=c38a5c9b/part-0.parquet\n",
      "/kaggle/input/child-mind-institute-problematic-internet-use/series_train.parquet/id=080698b7/part-0.parquet\n",
      "/kaggle/input/child-mind-institute-problematic-internet-use/series_train.parquet/id=7494989e/part-0.parquet\n",
      "/kaggle/input/child-mind-institute-problematic-internet-use/series_train.parquet/id=b9c085ab/part-0.parquet\n",
      "/kaggle/input/child-mind-institute-problematic-internet-use/series_train.parquet/id=b3f5c066/part-0.parquet\n",
      "/kaggle/input/child-mind-institute-problematic-internet-use/series_train.parquet/id=36c060b9/part-0.parquet\n",
      "/kaggle/input/child-mind-institute-problematic-internet-use/series_train.parquet/id=1911731d/part-0.parquet\n",
      "/kaggle/input/child-mind-institute-problematic-internet-use/series_train.parquet/id=62b873a2/part-0.parquet\n",
      "/kaggle/input/child-mind-institute-problematic-internet-use/series_train.parquet/id=ca33a5e7/part-0.parquet\n",
      "/kaggle/input/child-mind-institute-problematic-internet-use/series_train.parquet/id=b25abc27/part-0.parquet\n",
      "/kaggle/input/child-mind-institute-problematic-internet-use/series_train.parquet/id=3c0aba64/part-0.parquet\n",
      "/kaggle/input/child-mind-institute-problematic-internet-use/series_train.parquet/id=95cc96cc/part-0.parquet\n",
      "/kaggle/input/child-mind-institute-problematic-internet-use/series_train.parquet/id=7015528d/part-0.parquet\n",
      "/kaggle/input/child-mind-institute-problematic-internet-use/series_train.parquet/id=432aff11/part-0.parquet\n",
      "/kaggle/input/child-mind-institute-problematic-internet-use/series_train.parquet/id=86bd716a/part-0.parquet\n",
      "/kaggle/input/child-mind-institute-problematic-internet-use/series_train.parquet/id=48e69212/part-0.parquet\n",
      "/kaggle/input/child-mind-institute-problematic-internet-use/series_train.parquet/id=7a6d26a2/part-0.parquet\n",
      "/kaggle/input/child-mind-institute-problematic-internet-use/series_train.parquet/id=f47a67cc/part-0.parquet\n",
      "/kaggle/input/child-mind-institute-problematic-internet-use/series_train.parquet/id=0720320e/part-0.parquet\n",
      "/kaggle/input/child-mind-institute-problematic-internet-use/series_train.parquet/id=7e46b693/part-0.parquet\n",
      "/kaggle/input/child-mind-institute-problematic-internet-use/series_train.parquet/id=051680a0/part-0.parquet\n",
      "/kaggle/input/child-mind-institute-problematic-internet-use/series_train.parquet/id=0983654b/part-0.parquet\n",
      "/kaggle/input/child-mind-institute-problematic-internet-use/series_train.parquet/id=04afb6f9/part-0.parquet\n",
      "/kaggle/input/child-mind-institute-problematic-internet-use/series_train.parquet/id=9fa5cdfd/part-0.parquet\n",
      "/kaggle/input/child-mind-institute-problematic-internet-use/series_train.parquet/id=f869d220/part-0.parquet\n",
      "/kaggle/input/child-mind-institute-problematic-internet-use/series_train.parquet/id=6187d0dc/part-0.parquet\n",
      "/kaggle/input/child-mind-institute-problematic-internet-use/series_train.parquet/id=8823b020/part-0.parquet\n",
      "/kaggle/input/child-mind-institute-problematic-internet-use/series_train.parquet/id=7fa7ccc4/part-0.parquet\n",
      "/kaggle/input/child-mind-institute-problematic-internet-use/series_train.parquet/id=4950e24c/part-0.parquet\n",
      "/kaggle/input/child-mind-institute-problematic-internet-use/series_train.parquet/id=4a9f92ca/part-0.parquet\n",
      "/kaggle/input/child-mind-institute-problematic-internet-use/series_train.parquet/id=c6313b18/part-0.parquet\n",
      "/kaggle/input/child-mind-institute-problematic-internet-use/series_train.parquet/id=4b0f961e/part-0.parquet\n",
      "/kaggle/input/child-mind-institute-problematic-internet-use/series_train.parquet/id=26190ddd/part-0.parquet\n",
      "/kaggle/input/child-mind-institute-problematic-internet-use/series_train.parquet/id=12a607f6/part-0.parquet\n",
      "/kaggle/input/child-mind-institute-problematic-internet-use/series_train.parquet/id=d3da09e8/part-0.parquet\n",
      "/kaggle/input/child-mind-institute-problematic-internet-use/series_train.parquet/id=f74eda33/part-0.parquet\n",
      "/kaggle/input/child-mind-institute-problematic-internet-use/series_train.parquet/id=a302a015/part-0.parquet\n",
      "/kaggle/input/child-mind-institute-problematic-internet-use/series_train.parquet/id=4940a214/part-0.parquet\n",
      "/kaggle/input/child-mind-institute-problematic-internet-use/series_train.parquet/id=a9c53cdb/part-0.parquet\n",
      "/kaggle/input/child-mind-institute-problematic-internet-use/series_train.parquet/id=807d8908/part-0.parquet\n",
      "/kaggle/input/child-mind-institute-problematic-internet-use/series_train.parquet/id=ae712150/part-0.parquet\n",
      "/kaggle/input/child-mind-institute-problematic-internet-use/series_train.parquet/id=fa3e1e21/part-0.parquet\n",
      "/kaggle/input/child-mind-institute-problematic-internet-use/series_train.parquet/id=d6251195/part-0.parquet\n",
      "/kaggle/input/child-mind-institute-problematic-internet-use/series_train.parquet/id=cba39753/part-0.parquet\n",
      "/kaggle/input/child-mind-institute-problematic-internet-use/series_train.parquet/id=154d1191/part-0.parquet\n",
      "/kaggle/input/child-mind-institute-problematic-internet-use/series_train.parquet/id=6e1d28b6/part-0.parquet\n",
      "/kaggle/input/child-mind-institute-problematic-internet-use/series_train.parquet/id=76781cd8/part-0.parquet\n",
      "/kaggle/input/child-mind-institute-problematic-internet-use/series_train.parquet/id=37ae1239/part-0.parquet\n",
      "/kaggle/input/child-mind-institute-problematic-internet-use/series_train.parquet/id=f8bf4a1c/part-0.parquet\n",
      "/kaggle/input/child-mind-institute-problematic-internet-use/series_train.parquet/id=c5cfaeae/part-0.parquet\n",
      "/kaggle/input/child-mind-institute-problematic-internet-use/series_train.parquet/id=37995242/part-0.parquet\n",
      "/kaggle/input/child-mind-institute-problematic-internet-use/series_train.parquet/id=ebf2b0c9/part-0.parquet\n",
      "/kaggle/input/child-mind-institute-problematic-internet-use/series_train.parquet/id=89a26502/part-0.parquet\n",
      "/kaggle/input/child-mind-institute-problematic-internet-use/series_train.parquet/id=cfcf9dc9/part-0.parquet\n",
      "/kaggle/input/child-mind-institute-problematic-internet-use/series_train.parquet/id=fb9c5a33/part-0.parquet\n",
      "/kaggle/input/child-mind-institute-problematic-internet-use/series_train.parquet/id=1c063ebc/part-0.parquet\n",
      "/kaggle/input/child-mind-institute-problematic-internet-use/series_train.parquet/id=836b4de3/part-0.parquet\n",
      "/kaggle/input/child-mind-institute-problematic-internet-use/series_train.parquet/id=fa9a0add/part-0.parquet\n",
      "/kaggle/input/child-mind-institute-problematic-internet-use/series_train.parquet/id=93c93585/part-0.parquet\n",
      "/kaggle/input/child-mind-institute-problematic-internet-use/series_train.parquet/id=86a8e0d6/part-0.parquet\n",
      "/kaggle/input/child-mind-institute-problematic-internet-use/series_train.parquet/id=5c186496/part-0.parquet\n",
      "/kaggle/input/child-mind-institute-problematic-internet-use/series_train.parquet/id=c3adae87/part-0.parquet\n",
      "/kaggle/input/child-mind-institute-problematic-internet-use/series_train.parquet/id=8e59a69a/part-0.parquet\n",
      "/kaggle/input/child-mind-institute-problematic-internet-use/series_train.parquet/id=58ada72e/part-0.parquet\n",
      "/kaggle/input/child-mind-institute-problematic-internet-use/series_train.parquet/id=f32a9580/part-0.parquet\n",
      "/kaggle/input/child-mind-institute-problematic-internet-use/series_train.parquet/id=697c41d7/part-0.parquet\n",
      "/kaggle/input/child-mind-institute-problematic-internet-use/series_train.parquet/id=ce379a6a/part-0.parquet\n",
      "/kaggle/input/child-mind-institute-problematic-internet-use/series_train.parquet/id=de3750cc/part-0.parquet\n",
      "/kaggle/input/child-mind-institute-problematic-internet-use/series_train.parquet/id=01085eb3/part-0.parquet\n",
      "/kaggle/input/child-mind-institute-problematic-internet-use/series_train.parquet/id=1470a1df/part-0.parquet\n",
      "/kaggle/input/child-mind-institute-problematic-internet-use/series_train.parquet/id=87af775e/part-0.parquet\n",
      "/kaggle/input/child-mind-institute-problematic-internet-use/series_train.parquet/id=e243119c/part-0.parquet\n",
      "/kaggle/input/child-mind-institute-problematic-internet-use/series_train.parquet/id=1cd37b36/part-0.parquet\n",
      "/kaggle/input/child-mind-institute-problematic-internet-use/series_train.parquet/id=677038b5/part-0.parquet\n",
      "/kaggle/input/child-mind-institute-problematic-internet-use/series_train.parquet/id=cadd4ae5/part-0.parquet\n",
      "/kaggle/input/child-mind-institute-problematic-internet-use/series_train.parquet/id=65fe69c0/part-0.parquet\n",
      "/kaggle/input/child-mind-institute-problematic-internet-use/series_train.parquet/id=0ed2a3c8/part-0.parquet\n",
      "/kaggle/input/child-mind-institute-problematic-internet-use/series_train.parquet/id=1b329556/part-0.parquet\n",
      "/kaggle/input/child-mind-institute-problematic-internet-use/series_train.parquet/id=c9600298/part-0.parquet\n",
      "/kaggle/input/child-mind-institute-problematic-internet-use/series_train.parquet/id=b823508b/part-0.parquet\n",
      "/kaggle/input/child-mind-institute-problematic-internet-use/series_train.parquet/id=fab75c2c/part-0.parquet\n",
      "/kaggle/input/child-mind-institute-problematic-internet-use/series_train.parquet/id=4d19854c/part-0.parquet\n",
      "/kaggle/input/child-mind-institute-problematic-internet-use/series_train.parquet/id=108b8659/part-0.parquet\n",
      "/kaggle/input/child-mind-institute-problematic-internet-use/series_train.parquet/id=83846d0c/part-0.parquet\n",
      "/kaggle/input/child-mind-institute-problematic-internet-use/series_train.parquet/id=33fe1b04/part-0.parquet\n",
      "/kaggle/input/child-mind-institute-problematic-internet-use/series_train.parquet/id=e1ea8dd7/part-0.parquet\n",
      "/kaggle/input/child-mind-institute-problematic-internet-use/series_train.parquet/id=c8270746/part-0.parquet\n",
      "/kaggle/input/child-mind-institute-problematic-internet-use/series_train.parquet/id=ea544af3/part-0.parquet\n",
      "/kaggle/input/child-mind-institute-problematic-internet-use/series_train.parquet/id=3b091b83/part-0.parquet\n",
      "/kaggle/input/child-mind-institute-problematic-internet-use/series_train.parquet/id=2fba6cf4/part-0.parquet\n",
      "/kaggle/input/child-mind-institute-problematic-internet-use/series_train.parquet/id=ab16a20d/part-0.parquet\n",
      "/kaggle/input/child-mind-institute-problematic-internet-use/series_train.parquet/id=1fed3943/part-0.parquet\n",
      "/kaggle/input/child-mind-institute-problematic-internet-use/series_train.parquet/id=48db8ecf/part-0.parquet\n",
      "/kaggle/input/child-mind-institute-problematic-internet-use/series_train.parquet/id=36c1f189/part-0.parquet\n",
      "/kaggle/input/child-mind-institute-problematic-internet-use/series_train.parquet/id=04bb1a76/part-0.parquet\n",
      "/kaggle/input/child-mind-institute-problematic-internet-use/series_train.parquet/id=327ef356/part-0.parquet\n",
      "/kaggle/input/child-mind-institute-problematic-internet-use/series_train.parquet/id=54945f30/part-0.parquet\n",
      "/kaggle/input/child-mind-institute-problematic-internet-use/series_train.parquet/id=43f5d3c5/part-0.parquet\n",
      "/kaggle/input/child-mind-institute-problematic-internet-use/series_train.parquet/id=58391429/part-0.parquet\n",
      "/kaggle/input/child-mind-institute-problematic-internet-use/series_train.parquet/id=cefdb7fe/part-0.parquet\n",
      "/kaggle/input/child-mind-institute-problematic-internet-use/series_train.parquet/id=fdc11b96/part-0.parquet\n",
      "/kaggle/input/child-mind-institute-problematic-internet-use/series_train.parquet/id=1837456f/part-0.parquet\n",
      "/kaggle/input/child-mind-institute-problematic-internet-use/series_train.parquet/id=83379672/part-0.parquet\n",
      "/kaggle/input/child-mind-institute-problematic-internet-use/series_train.parquet/id=c09d41cd/part-0.parquet\n",
      "/kaggle/input/child-mind-institute-problematic-internet-use/series_train.parquet/id=0668373f/part-0.parquet\n",
      "/kaggle/input/child-mind-institute-problematic-internet-use/series_train.parquet/id=7d8f1716/part-0.parquet\n",
      "/kaggle/input/child-mind-institute-problematic-internet-use/series_train.parquet/id=f6b719ee/part-0.parquet\n",
      "/kaggle/input/child-mind-institute-problematic-internet-use/series_train.parquet/id=b4e69f09/part-0.parquet\n",
      "/kaggle/input/child-mind-institute-problematic-internet-use/series_train.parquet/id=440acf4f/part-0.parquet\n",
      "/kaggle/input/child-mind-institute-problematic-internet-use/series_train.parquet/id=17c1ae23/part-0.parquet\n",
      "/kaggle/input/child-mind-institute-problematic-internet-use/series_train.parquet/id=4dfb4e1d/part-0.parquet\n",
      "/kaggle/input/child-mind-institute-problematic-internet-use/series_train.parquet/id=6f5677b7/part-0.parquet\n",
      "/kaggle/input/child-mind-institute-problematic-internet-use/series_train.parquet/id=da5a8921/part-0.parquet\n",
      "/kaggle/input/child-mind-institute-problematic-internet-use/series_train.parquet/id=97bb0cc0/part-0.parquet\n",
      "/kaggle/input/child-mind-institute-problematic-internet-use/series_train.parquet/id=7ce36c38/part-0.parquet\n",
      "/kaggle/input/child-mind-institute-problematic-internet-use/series_train.parquet/id=bb808a71/part-0.parquet\n",
      "/kaggle/input/child-mind-institute-problematic-internet-use/series_train.parquet/id=22b4191a/part-0.parquet\n",
      "/kaggle/input/child-mind-institute-problematic-internet-use/series_train.parquet/id=3f1f23e7/part-0.parquet\n",
      "/kaggle/input/child-mind-institute-problematic-internet-use/series_train.parquet/id=2a88cbe9/part-0.parquet\n",
      "/kaggle/input/child-mind-institute-problematic-internet-use/series_train.parquet/id=ab2ad965/part-0.parquet\n",
      "/kaggle/input/child-mind-institute-problematic-internet-use/series_train.parquet/id=4307d287/part-0.parquet\n",
      "/kaggle/input/child-mind-institute-problematic-internet-use/series_train.parquet/id=6a864b11/part-0.parquet\n",
      "/kaggle/input/child-mind-institute-problematic-internet-use/series_train.parquet/id=3950aa00/part-0.parquet\n",
      "/kaggle/input/child-mind-institute-problematic-internet-use/series_train.parquet/id=4a62661a/part-0.parquet\n",
      "/kaggle/input/child-mind-institute-problematic-internet-use/series_train.parquet/id=e5349ce2/part-0.parquet\n",
      "/kaggle/input/child-mind-institute-problematic-internet-use/series_train.parquet/id=93559639/part-0.parquet\n",
      "/kaggle/input/child-mind-institute-problematic-internet-use/series_train.parquet/id=fdb6b48b/part-0.parquet\n",
      "/kaggle/input/child-mind-institute-problematic-internet-use/series_train.parquet/id=e8e82627/part-0.parquet\n",
      "/kaggle/input/child-mind-institute-problematic-internet-use/series_train.parquet/id=a0522c83/part-0.parquet\n",
      "/kaggle/input/child-mind-institute-problematic-internet-use/series_train.parquet/id=2afea280/part-0.parquet\n",
      "/kaggle/input/child-mind-institute-problematic-internet-use/series_train.parquet/id=a8c1aab5/part-0.parquet\n",
      "/kaggle/input/child-mind-institute-problematic-internet-use/series_train.parquet/id=b37281d5/part-0.parquet\n",
      "/kaggle/input/child-mind-institute-problematic-internet-use/series_train.parquet/id=0fbb3ca5/part-0.parquet\n",
      "/kaggle/input/child-mind-institute-problematic-internet-use/series_train.parquet/id=2e5f5207/part-0.parquet\n",
      "/kaggle/input/child-mind-institute-problematic-internet-use/series_train.parquet/id=cb3b7c3c/part-0.parquet\n",
      "/kaggle/input/child-mind-institute-problematic-internet-use/series_train.parquet/id=897da2c8/part-0.parquet\n",
      "/kaggle/input/child-mind-institute-problematic-internet-use/series_train.parquet/id=26d541c2/part-0.parquet\n",
      "/kaggle/input/child-mind-institute-problematic-internet-use/series_train.parquet/id=7f44236f/part-0.parquet\n",
      "/kaggle/input/child-mind-institute-problematic-internet-use/series_train.parquet/id=ebd6f819/part-0.parquet\n",
      "/kaggle/input/child-mind-institute-problematic-internet-use/series_train.parquet/id=7347b54e/part-0.parquet\n",
      "/kaggle/input/child-mind-institute-problematic-internet-use/series_train.parquet/id=812f6873/part-0.parquet\n",
      "/kaggle/input/child-mind-institute-problematic-internet-use/series_train.parquet/id=e328a032/part-0.parquet\n",
      "/kaggle/input/child-mind-institute-problematic-internet-use/series_train.parquet/id=113f5798/part-0.parquet\n",
      "/kaggle/input/child-mind-institute-problematic-internet-use/series_train.parquet/id=a8b0428d/part-0.parquet\n",
      "/kaggle/input/child-mind-institute-problematic-internet-use/series_train.parquet/id=40aae75f/part-0.parquet\n",
      "/kaggle/input/child-mind-institute-problematic-internet-use/series_train.parquet/id=1957153d/part-0.parquet\n",
      "/kaggle/input/child-mind-institute-problematic-internet-use/series_train.parquet/id=5985f299/part-0.parquet\n",
      "/kaggle/input/child-mind-institute-problematic-internet-use/series_train.parquet/id=22375702/part-0.parquet\n",
      "/kaggle/input/child-mind-institute-problematic-internet-use/series_train.parquet/id=2f1af08a/part-0.parquet\n",
      "/kaggle/input/child-mind-institute-problematic-internet-use/series_train.parquet/id=98413061/part-0.parquet\n",
      "/kaggle/input/child-mind-institute-problematic-internet-use/series_train.parquet/id=e9ca5586/part-0.parquet\n",
      "/kaggle/input/child-mind-institute-problematic-internet-use/series_train.parquet/id=f5b2acf0/part-0.parquet\n",
      "/kaggle/input/child-mind-institute-problematic-internet-use/series_train.parquet/id=a808ad0a/part-0.parquet\n",
      "/kaggle/input/child-mind-institute-problematic-internet-use/series_train.parquet/id=732b2327/part-0.parquet\n",
      "/kaggle/input/child-mind-institute-problematic-internet-use/series_train.parquet/id=7a0136e0/part-0.parquet\n",
      "/kaggle/input/child-mind-institute-problematic-internet-use/series_train.parquet/id=9b96b0e4/part-0.parquet\n",
      "/kaggle/input/child-mind-institute-problematic-internet-use/series_train.parquet/id=3216b978/part-0.parquet\n",
      "/kaggle/input/child-mind-institute-problematic-internet-use/series_train.parquet/id=4decbcd8/part-0.parquet\n",
      "/kaggle/input/child-mind-institute-problematic-internet-use/series_train.parquet/id=8c0ca955/part-0.parquet\n",
      "/kaggle/input/child-mind-institute-problematic-internet-use/series_train.parquet/id=9d0670dd/part-0.parquet\n",
      "/kaggle/input/child-mind-institute-problematic-internet-use/series_train.parquet/id=da09ed4b/part-0.parquet\n",
      "/kaggle/input/child-mind-institute-problematic-internet-use/series_train.parquet/id=76fb4afb/part-0.parquet\n",
      "/kaggle/input/child-mind-institute-problematic-internet-use/series_train.parquet/id=f11e17c0/part-0.parquet\n",
      "/kaggle/input/child-mind-institute-problematic-internet-use/series_train.parquet/id=93c72a97/part-0.parquet\n",
      "/kaggle/input/child-mind-institute-problematic-internet-use/series_train.parquet/id=e40319d7/part-0.parquet\n",
      "/kaggle/input/child-mind-institute-problematic-internet-use/series_train.parquet/id=2d0bbbd3/part-0.parquet\n",
      "/kaggle/input/child-mind-institute-problematic-internet-use/series_train.parquet/id=5b66b6f2/part-0.parquet\n",
      "/kaggle/input/child-mind-institute-problematic-internet-use/series_train.parquet/id=5ed5f205/part-0.parquet\n",
      "/kaggle/input/child-mind-institute-problematic-internet-use/series_train.parquet/id=93fd93c4/part-0.parquet\n",
      "/kaggle/input/child-mind-institute-problematic-internet-use/series_train.parquet/id=e9d94c4e/part-0.parquet\n",
      "/kaggle/input/child-mind-institute-problematic-internet-use/series_train.parquet/id=c5462e87/part-0.parquet\n",
      "/kaggle/input/child-mind-institute-problematic-internet-use/series_train.parquet/id=cda90e9e/part-0.parquet\n",
      "/kaggle/input/child-mind-institute-problematic-internet-use/series_train.parquet/id=2c54d6c5/part-0.parquet\n",
      "/kaggle/input/child-mind-institute-problematic-internet-use/series_train.parquet/id=82ec9747/part-0.parquet\n",
      "/kaggle/input/child-mind-institute-problematic-internet-use/series_train.parquet/id=2812951b/part-0.parquet\n",
      "/kaggle/input/child-mind-institute-problematic-internet-use/series_train.parquet/id=0d01bbf2/part-0.parquet\n",
      "/kaggle/input/child-mind-institute-problematic-internet-use/series_train.parquet/id=001f3379/part-0.parquet\n",
      "/kaggle/input/child-mind-institute-problematic-internet-use/series_train.parquet/id=d5b089a4/part-0.parquet\n",
      "/kaggle/input/child-mind-institute-problematic-internet-use/series_train.parquet/id=1314bc8c/part-0.parquet\n",
      "/kaggle/input/child-mind-institute-problematic-internet-use/series_train.parquet/id=c3a3f61e/part-0.parquet\n",
      "/kaggle/input/child-mind-institute-problematic-internet-use/series_train.parquet/id=dacc2f83/part-0.parquet\n",
      "/kaggle/input/child-mind-institute-problematic-internet-use/series_train.parquet/id=f6c0e2b7/part-0.parquet\n",
      "/kaggle/input/child-mind-institute-problematic-internet-use/series_train.parquet/id=f5ad7abc/part-0.parquet\n",
      "/kaggle/input/child-mind-institute-problematic-internet-use/series_train.parquet/id=9ff73d95/part-0.parquet\n",
      "/kaggle/input/child-mind-institute-problematic-internet-use/series_train.parquet/id=e4ab3b12/part-0.parquet\n",
      "/kaggle/input/child-mind-institute-problematic-internet-use/series_train.parquet/id=04d06a9c/part-0.parquet\n",
      "/kaggle/input/child-mind-institute-problematic-internet-use/series_train.parquet/id=649ff6d9/part-0.parquet\n",
      "/kaggle/input/child-mind-institute-problematic-internet-use/series_train.parquet/id=92622443/part-0.parquet\n",
      "/kaggle/input/child-mind-institute-problematic-internet-use/series_train.parquet/id=8a4e5d1a/part-0.parquet\n",
      "/kaggle/input/child-mind-institute-problematic-internet-use/series_train.parquet/id=9cba0d0e/part-0.parquet\n",
      "/kaggle/input/child-mind-institute-problematic-internet-use/series_train.parquet/id=86335468/part-0.parquet\n",
      "/kaggle/input/child-mind-institute-problematic-internet-use/series_train.parquet/id=aae9800e/part-0.parquet\n",
      "/kaggle/input/child-mind-institute-problematic-internet-use/series_train.parquet/id=f81598bf/part-0.parquet\n",
      "/kaggle/input/child-mind-institute-problematic-internet-use/series_train.parquet/id=a9b84b96/part-0.parquet\n",
      "/kaggle/input/child-mind-institute-problematic-internet-use/series_train.parquet/id=9a7e4c38/part-0.parquet\n",
      "/kaggle/input/child-mind-institute-problematic-internet-use/series_train.parquet/id=75b0446f/part-0.parquet\n",
      "/kaggle/input/child-mind-institute-problematic-internet-use/series_train.parquet/id=e8b64419/part-0.parquet\n",
      "/kaggle/input/child-mind-institute-problematic-internet-use/series_train.parquet/id=f8674e15/part-0.parquet\n",
      "/kaggle/input/child-mind-institute-problematic-internet-use/series_train.parquet/id=9570bfb7/part-0.parquet\n",
      "/kaggle/input/child-mind-institute-problematic-internet-use/series_train.parquet/id=6abd21d4/part-0.parquet\n",
      "/kaggle/input/child-mind-institute-problematic-internet-use/series_train.parquet/id=c9902f48/part-0.parquet\n",
      "/kaggle/input/child-mind-institute-problematic-internet-use/series_train.parquet/id=3f1cf5ba/part-0.parquet\n",
      "/kaggle/input/child-mind-institute-problematic-internet-use/series_train.parquet/id=9c1ea003/part-0.parquet\n",
      "/kaggle/input/child-mind-institute-problematic-internet-use/series_train.parquet/id=11739de2/part-0.parquet\n",
      "/kaggle/input/child-mind-institute-problematic-internet-use/series_train.parquet/id=554e46e9/part-0.parquet\n",
      "/kaggle/input/child-mind-institute-problematic-internet-use/series_train.parquet/id=d5fde276/part-0.parquet\n",
      "/kaggle/input/child-mind-institute-problematic-internet-use/series_train.parquet/id=898096eb/part-0.parquet\n",
      "/kaggle/input/child-mind-institute-problematic-internet-use/series_train.parquet/id=83711ef5/part-0.parquet\n",
      "/kaggle/input/child-mind-institute-problematic-internet-use/series_train.parquet/id=d6776176/part-0.parquet\n",
      "/kaggle/input/child-mind-institute-problematic-internet-use/series_train.parquet/id=8a6b6912/part-0.parquet\n",
      "/kaggle/input/child-mind-institute-problematic-internet-use/series_train.parquet/id=48df987b/part-0.parquet\n",
      "/kaggle/input/child-mind-institute-problematic-internet-use/series_train.parquet/id=8078b7de/part-0.parquet\n",
      "/kaggle/input/child-mind-institute-problematic-internet-use/series_train.parquet/id=49a1931d/part-0.parquet\n",
      "/kaggle/input/child-mind-institute-problematic-internet-use/series_train.parquet/id=8f753551/part-0.parquet\n",
      "/kaggle/input/child-mind-institute-problematic-internet-use/series_train.parquet/id=ec8f8f95/part-0.parquet\n",
      "/kaggle/input/child-mind-institute-problematic-internet-use/series_train.parquet/id=b9b22bff/part-0.parquet\n",
      "/kaggle/input/child-mind-institute-problematic-internet-use/series_train.parquet/id=1f5835cd/part-0.parquet\n",
      "/kaggle/input/child-mind-institute-problematic-internet-use/series_train.parquet/id=d08806a2/part-0.parquet\n",
      "/kaggle/input/child-mind-institute-problematic-internet-use/series_train.parquet/id=d4d9f7f9/part-0.parquet\n",
      "/kaggle/input/child-mind-institute-problematic-internet-use/series_train.parquet/id=3fcef947/part-0.parquet\n",
      "/kaggle/input/child-mind-institute-problematic-internet-use/series_train.parquet/id=d506f4c7/part-0.parquet\n",
      "/kaggle/input/child-mind-institute-problematic-internet-use/series_train.parquet/id=90161e10/part-0.parquet\n",
      "/kaggle/input/child-mind-institute-problematic-internet-use/series_train.parquet/id=de742c5c/part-0.parquet\n",
      "/kaggle/input/child-mind-institute-problematic-internet-use/series_train.parquet/id=c45068a1/part-0.parquet\n",
      "/kaggle/input/child-mind-institute-problematic-internet-use/series_train.parquet/id=63d4ab9a/part-0.parquet\n",
      "/kaggle/input/child-mind-institute-problematic-internet-use/series_train.parquet/id=b1de4423/part-0.parquet\n",
      "/kaggle/input/child-mind-institute-problematic-internet-use/series_train.parquet/id=05bbed1b/part-0.parquet\n",
      "/kaggle/input/child-mind-institute-problematic-internet-use/series_train.parquet/id=3ca35642/part-0.parquet\n",
      "/kaggle/input/child-mind-institute-problematic-internet-use/series_train.parquet/id=464a75fb/part-0.parquet\n",
      "/kaggle/input/child-mind-institute-problematic-internet-use/series_train.parquet/id=966161e7/part-0.parquet\n",
      "/kaggle/input/child-mind-institute-problematic-internet-use/series_train.parquet/id=21a76448/part-0.parquet\n",
      "/kaggle/input/child-mind-institute-problematic-internet-use/series_train.parquet/id=7b0a4060/part-0.parquet\n",
      "/kaggle/input/child-mind-institute-problematic-internet-use/series_train.parquet/id=5f37ceb1/part-0.parquet\n",
      "/kaggle/input/child-mind-institute-problematic-internet-use/series_train.parquet/id=5e359a08/part-0.parquet\n",
      "/kaggle/input/child-mind-institute-problematic-internet-use/series_train.parquet/id=06c8b2fb/part-0.parquet\n",
      "/kaggle/input/child-mind-institute-problematic-internet-use/series_train.parquet/id=9b328d6c/part-0.parquet\n",
      "/kaggle/input/child-mind-institute-problematic-internet-use/series_train.parquet/id=9bdd6964/part-0.parquet\n",
      "/kaggle/input/child-mind-institute-problematic-internet-use/series_train.parquet/id=ac66c144/part-0.parquet\n",
      "/kaggle/input/child-mind-institute-problematic-internet-use/series_train.parquet/id=e1ccc3d1/part-0.parquet\n",
      "/kaggle/input/child-mind-institute-problematic-internet-use/series_train.parquet/id=8148c785/part-0.parquet\n",
      "/kaggle/input/child-mind-institute-problematic-internet-use/series_train.parquet/id=72c9c38d/part-0.parquet\n",
      "/kaggle/input/child-mind-institute-problematic-internet-use/series_train.parquet/id=1606f203/part-0.parquet\n",
      "/kaggle/input/child-mind-institute-problematic-internet-use/series_train.parquet/id=34ec5de4/part-0.parquet\n",
      "/kaggle/input/child-mind-institute-problematic-internet-use/series_train.parquet/id=089a6b19/part-0.parquet\n",
      "/kaggle/input/child-mind-institute-problematic-internet-use/series_train.parquet/id=f1bd0f59/part-0.parquet\n",
      "/kaggle/input/child-mind-institute-problematic-internet-use/series_train.parquet/id=7e87087b/part-0.parquet\n",
      "/kaggle/input/child-mind-institute-problematic-internet-use/series_train.parquet/id=3d3dd3ae/part-0.parquet\n",
      "/kaggle/input/child-mind-institute-problematic-internet-use/series_train.parquet/id=43a7386d/part-0.parquet\n",
      "/kaggle/input/child-mind-institute-problematic-internet-use/series_train.parquet/id=62cd5c74/part-0.parquet\n",
      "/kaggle/input/child-mind-institute-problematic-internet-use/series_train.parquet/id=f420b05a/part-0.parquet\n",
      "/kaggle/input/child-mind-institute-problematic-internet-use/series_train.parquet/id=b1f064ac/part-0.parquet\n",
      "/kaggle/input/child-mind-institute-problematic-internet-use/series_train.parquet/id=6f49c8d0/part-0.parquet\n",
      "/kaggle/input/child-mind-institute-problematic-internet-use/series_train.parquet/id=af4f064e/part-0.parquet\n",
      "/kaggle/input/child-mind-institute-problematic-internet-use/series_train.parquet/id=e4e58096/part-0.parquet\n",
      "/kaggle/input/child-mind-institute-problematic-internet-use/series_train.parquet/id=5f574f3d/part-0.parquet\n",
      "/kaggle/input/child-mind-institute-problematic-internet-use/series_train.parquet/id=4177e5e5/part-0.parquet\n",
      "/kaggle/input/child-mind-institute-problematic-internet-use/series_train.parquet/id=a3b146ca/part-0.parquet\n",
      "/kaggle/input/child-mind-institute-problematic-internet-use/series_train.parquet/id=857baaa6/part-0.parquet\n",
      "/kaggle/input/child-mind-institute-problematic-internet-use/series_train.parquet/id=b447e66d/part-0.parquet\n",
      "/kaggle/input/child-mind-institute-problematic-internet-use/series_train.parquet/id=3065aa2f/part-0.parquet\n",
      "/kaggle/input/child-mind-institute-problematic-internet-use/series_train.parquet/id=c6cc7467/part-0.parquet\n",
      "/kaggle/input/child-mind-institute-problematic-internet-use/series_train.parquet/id=9e052412/part-0.parquet\n",
      "/kaggle/input/child-mind-institute-problematic-internet-use/series_train.parquet/id=a4530b41/part-0.parquet\n",
      "/kaggle/input/child-mind-institute-problematic-internet-use/series_train.parquet/id=cd144127/part-0.parquet\n",
      "/kaggle/input/child-mind-institute-problematic-internet-use/series_train.parquet/id=1b2eea8f/part-0.parquet\n",
      "/kaggle/input/child-mind-institute-problematic-internet-use/series_train.parquet/id=bdcc7d10/part-0.parquet\n",
      "/kaggle/input/child-mind-institute-problematic-internet-use/series_train.parquet/id=03a9019b/part-0.parquet\n",
      "/kaggle/input/child-mind-institute-problematic-internet-use/series_train.parquet/id=cb73fed9/part-0.parquet\n",
      "/kaggle/input/child-mind-institute-problematic-internet-use/series_train.parquet/id=1aae1de3/part-0.parquet\n",
      "/kaggle/input/child-mind-institute-problematic-internet-use/series_train.parquet/id=df556fd2/part-0.parquet\n",
      "/kaggle/input/child-mind-institute-problematic-internet-use/series_train.parquet/id=c73dd2e4/part-0.parquet\n",
      "/kaggle/input/child-mind-institute-problematic-internet-use/series_train.parquet/id=2cd9b5a3/part-0.parquet\n",
      "/kaggle/input/child-mind-institute-problematic-internet-use/series_train.parquet/id=3e5ee48c/part-0.parquet\n",
      "/kaggle/input/child-mind-institute-problematic-internet-use/series_train.parquet/id=2c2dc20d/part-0.parquet\n",
      "/kaggle/input/child-mind-institute-problematic-internet-use/series_train.parquet/id=6c2edc91/part-0.parquet\n",
      "/kaggle/input/child-mind-institute-problematic-internet-use/series_train.parquet/id=55f9338e/part-0.parquet\n",
      "/kaggle/input/child-mind-institute-problematic-internet-use/series_train.parquet/id=a8d9de72/part-0.parquet\n",
      "/kaggle/input/child-mind-institute-problematic-internet-use/series_train.parquet/id=a4481101/part-0.parquet\n",
      "/kaggle/input/child-mind-institute-problematic-internet-use/series_train.parquet/id=3983d3cd/part-0.parquet\n",
      "/kaggle/input/child-mind-institute-problematic-internet-use/series_train.parquet/id=e51193d1/part-0.parquet\n",
      "/kaggle/input/child-mind-institute-problematic-internet-use/series_train.parquet/id=0d4fa8f4/part-0.parquet\n",
      "/kaggle/input/child-mind-institute-problematic-internet-use/series_train.parquet/id=c0f2a046/part-0.parquet\n",
      "/kaggle/input/child-mind-institute-problematic-internet-use/series_train.parquet/id=7265f1e5/part-0.parquet\n",
      "/kaggle/input/child-mind-institute-problematic-internet-use/series_train.parquet/id=a4f13c0d/part-0.parquet\n",
      "/kaggle/input/child-mind-institute-problematic-internet-use/series_train.parquet/id=8e749c85/part-0.parquet\n",
      "/kaggle/input/child-mind-institute-problematic-internet-use/series_train.parquet/id=81d3ab22/part-0.parquet\n",
      "/kaggle/input/child-mind-institute-problematic-internet-use/series_train.parquet/id=66f619e3/part-0.parquet\n",
      "/kaggle/input/child-mind-institute-problematic-internet-use/series_train.parquet/id=3875d4de/part-0.parquet\n",
      "/kaggle/input/child-mind-institute-problematic-internet-use/series_train.parquet/id=b08f0ca4/part-0.parquet\n",
      "/kaggle/input/child-mind-institute-problematic-internet-use/series_train.parquet/id=a814e825/part-0.parquet\n",
      "/kaggle/input/child-mind-institute-problematic-internet-use/series_train.parquet/id=325afd3d/part-0.parquet\n",
      "/kaggle/input/child-mind-institute-problematic-internet-use/series_train.parquet/id=1e87baed/part-0.parquet\n",
      "/kaggle/input/child-mind-institute-problematic-internet-use/series_train.parquet/id=372a7950/part-0.parquet\n",
      "/kaggle/input/child-mind-institute-problematic-internet-use/series_train.parquet/id=26aeacdf/part-0.parquet\n",
      "/kaggle/input/child-mind-institute-problematic-internet-use/series_train.parquet/id=f7b1374e/part-0.parquet\n",
      "/kaggle/input/child-mind-institute-problematic-internet-use/series_train.parquet/id=0d279d77/part-0.parquet\n",
      "/kaggle/input/child-mind-institute-problematic-internet-use/series_train.parquet/id=5d885b20/part-0.parquet\n",
      "/kaggle/input/child-mind-institute-problematic-internet-use/series_train.parquet/id=9fa68512/part-0.parquet\n",
      "/kaggle/input/child-mind-institute-problematic-internet-use/series_train.parquet/id=c829500d/part-0.parquet\n",
      "/kaggle/input/child-mind-institute-problematic-internet-use/series_train.parquet/id=98ed2153/part-0.parquet\n",
      "/kaggle/input/child-mind-institute-problematic-internet-use/series_train.parquet/id=12380b06/part-0.parquet\n",
      "/kaggle/input/child-mind-institute-problematic-internet-use/series_train.parquet/id=ef9617e7/part-0.parquet\n",
      "/kaggle/input/child-mind-institute-problematic-internet-use/series_train.parquet/id=101774f0/part-0.parquet\n",
      "/kaggle/input/child-mind-institute-problematic-internet-use/series_train.parquet/id=9e964060/part-0.parquet\n",
      "/kaggle/input/child-mind-institute-problematic-internet-use/series_train.parquet/id=9d65adbf/part-0.parquet\n",
      "/kaggle/input/child-mind-institute-problematic-internet-use/series_train.parquet/id=6826f0be/part-0.parquet\n",
      "/kaggle/input/child-mind-institute-problematic-internet-use/series_train.parquet/id=89739b1a/part-0.parquet\n",
      "/kaggle/input/child-mind-institute-problematic-internet-use/series_train.parquet/id=d5a8d9b0/part-0.parquet\n",
      "/kaggle/input/child-mind-institute-problematic-internet-use/series_train.parquet/id=f3020788/part-0.parquet\n",
      "/kaggle/input/child-mind-institute-problematic-internet-use/series_train.parquet/id=4f20b188/part-0.parquet\n",
      "/kaggle/input/child-mind-institute-problematic-internet-use/series_train.parquet/id=71850348/part-0.parquet\n",
      "/kaggle/input/child-mind-institute-problematic-internet-use/series_train.parquet/id=06eb8adb/part-0.parquet\n",
      "/kaggle/input/child-mind-institute-problematic-internet-use/series_train.parquet/id=f35b607c/part-0.parquet\n",
      "/kaggle/input/child-mind-institute-problematic-internet-use/series_train.parquet/id=2ac0bd9f/part-0.parquet\n",
      "/kaggle/input/child-mind-institute-problematic-internet-use/series_train.parquet/id=6ac5763a/part-0.parquet\n",
      "/kaggle/input/child-mind-institute-problematic-internet-use/series_train.parquet/id=cd8f3c61/part-0.parquet\n",
      "/kaggle/input/child-mind-institute-problematic-internet-use/series_train.parquet/id=6247cc15/part-0.parquet\n",
      "/kaggle/input/child-mind-institute-problematic-internet-use/series_train.parquet/id=331733c7/part-0.parquet\n",
      "/kaggle/input/child-mind-institute-problematic-internet-use/series_train.parquet/id=119d7562/part-0.parquet\n",
      "/kaggle/input/child-mind-institute-problematic-internet-use/series_train.parquet/id=56d9dead/part-0.parquet\n",
      "/kaggle/input/child-mind-institute-problematic-internet-use/series_train.parquet/id=29587a31/part-0.parquet\n",
      "/kaggle/input/child-mind-institute-problematic-internet-use/series_train.parquet/id=9eb283e4/part-0.parquet\n",
      "/kaggle/input/child-mind-institute-problematic-internet-use/series_train.parquet/id=ec9195be/part-0.parquet\n",
      "/kaggle/input/child-mind-institute-problematic-internet-use/series_train.parquet/id=53814642/part-0.parquet\n",
      "/kaggle/input/child-mind-institute-problematic-internet-use/series_train.parquet/id=350dbeba/part-0.parquet\n",
      "/kaggle/input/child-mind-institute-problematic-internet-use/series_train.parquet/id=4a475a9f/part-0.parquet\n",
      "/kaggle/input/child-mind-institute-problematic-internet-use/series_train.parquet/id=a5078c62/part-0.parquet\n",
      "/kaggle/input/child-mind-institute-problematic-internet-use/series_train.parquet/id=50707f1e/part-0.parquet\n",
      "/kaggle/input/child-mind-institute-problematic-internet-use/series_train.parquet/id=f62b317d/part-0.parquet\n",
      "/kaggle/input/child-mind-institute-problematic-internet-use/series_train.parquet/id=4a6af685/part-0.parquet\n",
      "/kaggle/input/child-mind-institute-problematic-internet-use/series_train.parquet/id=a614af1b/part-0.parquet\n",
      "/kaggle/input/child-mind-institute-problematic-internet-use/series_train.parquet/id=e0db55b1/part-0.parquet\n",
      "/kaggle/input/child-mind-institute-problematic-internet-use/series_train.parquet/id=fc2c2c08/part-0.parquet\n",
      "/kaggle/input/child-mind-institute-problematic-internet-use/series_train.parquet/id=f57de847/part-0.parquet\n",
      "/kaggle/input/child-mind-institute-problematic-internet-use/series_train.parquet/id=c9dabad5/part-0.parquet\n",
      "/kaggle/input/child-mind-institute-problematic-internet-use/series_train.parquet/id=a1ab89aa/part-0.parquet\n",
      "/kaggle/input/child-mind-institute-problematic-internet-use/series_train.parquet/id=fa633e39/part-0.parquet\n",
      "/kaggle/input/child-mind-institute-problematic-internet-use/series_train.parquet/id=4f059221/part-0.parquet\n",
      "/kaggle/input/child-mind-institute-problematic-internet-use/series_train.parquet/id=913bea9f/part-0.parquet\n",
      "/kaggle/input/child-mind-institute-problematic-internet-use/series_train.parquet/id=1eea8df2/part-0.parquet\n",
      "/kaggle/input/child-mind-institute-problematic-internet-use/series_train.parquet/id=43f44f6c/part-0.parquet\n",
      "/kaggle/input/child-mind-institute-problematic-internet-use/series_train.parquet/id=a148b46f/part-0.parquet\n",
      "/kaggle/input/child-mind-institute-problematic-internet-use/series_train.parquet/id=ebf30e46/part-0.parquet\n",
      "/kaggle/input/child-mind-institute-problematic-internet-use/series_train.parquet/id=6c0fe935/part-0.parquet\n",
      "/kaggle/input/child-mind-institute-problematic-internet-use/series_train.parquet/id=082df556/part-0.parquet\n",
      "/kaggle/input/child-mind-institute-problematic-internet-use/series_train.parquet/id=059eed01/part-0.parquet\n",
      "/kaggle/input/child-mind-institute-problematic-internet-use/series_train.parquet/id=52e9e467/part-0.parquet\n",
      "/kaggle/input/child-mind-institute-problematic-internet-use/series_train.parquet/id=9402b885/part-0.parquet\n",
      "/kaggle/input/child-mind-institute-problematic-internet-use/series_train.parquet/id=bba6ff20/part-0.parquet\n",
      "/kaggle/input/child-mind-institute-problematic-internet-use/series_train.parquet/id=6ac5eaaf/part-0.parquet\n",
      "/kaggle/input/child-mind-institute-problematic-internet-use/series_train.parquet/id=6d707ac3/part-0.parquet\n",
      "/kaggle/input/child-mind-institute-problematic-internet-use/series_train.parquet/id=4d5a8ce7/part-0.parquet\n",
      "/kaggle/input/child-mind-institute-problematic-internet-use/series_train.parquet/id=ef07f833/part-0.parquet\n",
      "/kaggle/input/child-mind-institute-problematic-internet-use/series_train.parquet/id=eb93a46a/part-0.parquet\n",
      "/kaggle/input/child-mind-institute-problematic-internet-use/series_train.parquet/id=6ebfdc95/part-0.parquet\n",
      "/kaggle/input/child-mind-institute-problematic-internet-use/series_train.parquet/id=c731458f/part-0.parquet\n",
      "/kaggle/input/child-mind-institute-problematic-internet-use/series_train.parquet/id=d791703f/part-0.parquet\n",
      "/kaggle/input/child-mind-institute-problematic-internet-use/series_train.parquet/id=3c620257/part-0.parquet\n",
      "/kaggle/input/child-mind-institute-problematic-internet-use/series_train.parquet/id=cfe4cf40/part-0.parquet\n",
      "/kaggle/input/child-mind-institute-problematic-internet-use/series_train.parquet/id=fdf4691f/part-0.parquet\n",
      "/kaggle/input/child-mind-institute-problematic-internet-use/series_train.parquet/id=85d9c915/part-0.parquet\n",
      "/kaggle/input/child-mind-institute-problematic-internet-use/series_train.parquet/id=a08ebf6e/part-0.parquet\n",
      "/kaggle/input/child-mind-institute-problematic-internet-use/series_train.parquet/id=641697e6/part-0.parquet\n",
      "/kaggle/input/child-mind-institute-problematic-internet-use/series_train.parquet/id=69b65679/part-0.parquet\n",
      "/kaggle/input/child-mind-institute-problematic-internet-use/series_train.parquet/id=21eb6d47/part-0.parquet\n",
      "/kaggle/input/child-mind-institute-problematic-internet-use/series_train.parquet/id=28e973b1/part-0.parquet\n",
      "/kaggle/input/child-mind-institute-problematic-internet-use/series_train.parquet/id=f75c957f/part-0.parquet\n",
      "/kaggle/input/child-mind-institute-problematic-internet-use/series_train.parquet/id=abac67cc/part-0.parquet\n",
      "/kaggle/input/child-mind-institute-problematic-internet-use/series_train.parquet/id=c9e419e7/part-0.parquet\n",
      "/kaggle/input/child-mind-institute-problematic-internet-use/series_train.parquet/id=e3bce7e1/part-0.parquet\n",
      "/kaggle/input/child-mind-institute-problematic-internet-use/series_train.parquet/id=8ddb6b8d/part-0.parquet\n",
      "/kaggle/input/child-mind-institute-problematic-internet-use/series_train.parquet/id=b23b9220/part-0.parquet\n",
      "/kaggle/input/child-mind-institute-problematic-internet-use/series_train.parquet/id=4b71830a/part-0.parquet\n",
      "/kaggle/input/child-mind-institute-problematic-internet-use/series_train.parquet/id=b802aec3/part-0.parquet\n",
      "/kaggle/input/child-mind-institute-problematic-internet-use/series_train.parquet/id=31f01671/part-0.parquet\n",
      "/kaggle/input/child-mind-institute-problematic-internet-use/series_train.parquet/id=012e3869/part-0.parquet\n",
      "/kaggle/input/child-mind-institute-problematic-internet-use/series_train.parquet/id=4cde1e34/part-0.parquet\n",
      "/kaggle/input/child-mind-institute-problematic-internet-use/series_train.parquet/id=8f2d131f/part-0.parquet\n",
      "/kaggle/input/child-mind-institute-problematic-internet-use/series_train.parquet/id=aaefeff0/part-0.parquet\n",
      "/kaggle/input/child-mind-institute-problematic-internet-use/series_train.parquet/id=edb9d0f3/part-0.parquet\n",
      "/kaggle/input/child-mind-institute-problematic-internet-use/series_train.parquet/id=35daea65/part-0.parquet\n",
      "/kaggle/input/child-mind-institute-problematic-internet-use/series_train.parquet/id=7b543871/part-0.parquet\n",
      "/kaggle/input/child-mind-institute-problematic-internet-use/series_train.parquet/id=1f2164a4/part-0.parquet\n",
      "/kaggle/input/child-mind-institute-problematic-internet-use/series_train.parquet/id=ca3204b0/part-0.parquet\n",
      "/kaggle/input/child-mind-institute-problematic-internet-use/series_train.parquet/id=22c72c4e/part-0.parquet\n",
      "/kaggle/input/child-mind-institute-problematic-internet-use/series_train.parquet/id=e46417a7/part-0.parquet\n",
      "/kaggle/input/child-mind-institute-problematic-internet-use/series_train.parquet/id=13fca10c/part-0.parquet\n",
      "/kaggle/input/child-mind-institute-problematic-internet-use/series_train.parquet/id=099e3614/part-0.parquet\n",
      "/kaggle/input/child-mind-institute-problematic-internet-use/series_train.parquet/id=6e128c6b/part-0.parquet\n",
      "/kaggle/input/child-mind-institute-problematic-internet-use/series_train.parquet/id=427037b2/part-0.parquet\n",
      "/kaggle/input/child-mind-institute-problematic-internet-use/series_train.parquet/id=5ee595e8/part-0.parquet\n",
      "/kaggle/input/child-mind-institute-problematic-internet-use/series_train.parquet/id=a297d1b9/part-0.parquet\n",
      "/kaggle/input/child-mind-institute-problematic-internet-use/series_train.parquet/id=2c406043/part-0.parquet\n",
      "/kaggle/input/child-mind-institute-problematic-internet-use/series_train.parquet/id=d445fb74/part-0.parquet\n",
      "/kaggle/input/child-mind-institute-problematic-internet-use/series_train.parquet/id=c308b134/part-0.parquet\n",
      "/kaggle/input/child-mind-institute-problematic-internet-use/series_train.parquet/id=d19e1025/part-0.parquet\n",
      "/kaggle/input/child-mind-institute-problematic-internet-use/series_train.parquet/id=419d05c6/part-0.parquet\n",
      "/kaggle/input/child-mind-institute-problematic-internet-use/series_train.parquet/id=3c8f474a/part-0.parquet\n",
      "/kaggle/input/child-mind-institute-problematic-internet-use/series_train.parquet/id=aecc7e74/part-0.parquet\n",
      "/kaggle/input/child-mind-institute-problematic-internet-use/series_train.parquet/id=83912085/part-0.parquet\n",
      "/kaggle/input/child-mind-institute-problematic-internet-use/series_train.parquet/id=60c1ff37/part-0.parquet\n",
      "/kaggle/input/child-mind-institute-problematic-internet-use/series_train.parquet/id=a49eda7f/part-0.parquet\n",
      "/kaggle/input/child-mind-institute-problematic-internet-use/series_train.parquet/id=045a0a94/part-0.parquet\n",
      "/kaggle/input/child-mind-institute-problematic-internet-use/series_train.parquet/id=e88aa867/part-0.parquet\n",
      "/kaggle/input/child-mind-institute-problematic-internet-use/series_train.parquet/id=6a4df6ff/part-0.parquet\n",
      "/kaggle/input/child-mind-institute-problematic-internet-use/series_train.parquet/id=a1942b0b/part-0.parquet\n",
      "/kaggle/input/child-mind-institute-problematic-internet-use/series_train.parquet/id=8a645723/part-0.parquet\n",
      "/kaggle/input/child-mind-institute-problematic-internet-use/series_train.parquet/id=22e44415/part-0.parquet\n",
      "/kaggle/input/child-mind-institute-problematic-internet-use/series_train.parquet/id=52ce9b8b/part-0.parquet\n",
      "/kaggle/input/child-mind-institute-problematic-internet-use/series_train.parquet/id=0b7d7aec/part-0.parquet\n",
      "/kaggle/input/child-mind-institute-problematic-internet-use/series_train.parquet/id=f2d4efd8/part-0.parquet\n",
      "/kaggle/input/child-mind-institute-problematic-internet-use/series_train.parquet/id=34362a9a/part-0.parquet\n",
      "/kaggle/input/child-mind-institute-problematic-internet-use/series_train.parquet/id=9dc74359/part-0.parquet\n",
      "/kaggle/input/child-mind-institute-problematic-internet-use/series_train.parquet/id=9052579b/part-0.parquet\n",
      "/kaggle/input/child-mind-institute-problematic-internet-use/series_train.parquet/id=c79039af/part-0.parquet\n",
      "/kaggle/input/child-mind-institute-problematic-internet-use/series_train.parquet/id=8d8b8553/part-0.parquet\n",
      "/kaggle/input/child-mind-institute-problematic-internet-use/series_train.parquet/id=14568d61/part-0.parquet\n",
      "/kaggle/input/child-mind-institute-problematic-internet-use/series_train.parquet/id=d77ac332/part-0.parquet\n",
      "/kaggle/input/child-mind-institute-problematic-internet-use/series_train.parquet/id=8f21c613/part-0.parquet\n",
      "/kaggle/input/child-mind-institute-problematic-internet-use/series_train.parquet/id=ad380962/part-0.parquet\n",
      "/kaggle/input/child-mind-institute-problematic-internet-use/series_train.parquet/id=709457f3/part-0.parquet\n",
      "/kaggle/input/child-mind-institute-problematic-internet-use/series_train.parquet/id=6699c999/part-0.parquet\n",
      "/kaggle/input/child-mind-institute-problematic-internet-use/series_train.parquet/id=5f1b07e1/part-0.parquet\n",
      "/kaggle/input/child-mind-institute-problematic-internet-use/series_train.parquet/id=764d8b42/part-0.parquet\n",
      "/kaggle/input/child-mind-institute-problematic-internet-use/series_train.parquet/id=b712b69b/part-0.parquet\n",
      "/kaggle/input/child-mind-institute-problematic-internet-use/series_train.parquet/id=ee2bf575/part-0.parquet\n",
      "/kaggle/input/child-mind-institute-problematic-internet-use/series_train.parquet/id=1b6fb363/part-0.parquet\n",
      "/kaggle/input/child-mind-institute-problematic-internet-use/series_train.parquet/id=68be3d5c/part-0.parquet\n",
      "/kaggle/input/child-mind-institute-problematic-internet-use/series_train.parquet/id=5ddbac80/part-0.parquet\n",
      "/kaggle/input/child-mind-institute-problematic-internet-use/series_train.parquet/id=6c737069/part-0.parquet\n",
      "/kaggle/input/child-mind-institute-problematic-internet-use/series_train.parquet/id=1d78b3c3/part-0.parquet\n",
      "/kaggle/input/child-mind-institute-problematic-internet-use/series_train.parquet/id=a5710c0a/part-0.parquet\n",
      "/kaggle/input/child-mind-institute-problematic-internet-use/series_train.parquet/id=5e57bd12/part-0.parquet\n",
      "/kaggle/input/child-mind-institute-problematic-internet-use/series_train.parquet/id=23e71e7c/part-0.parquet\n",
      "/kaggle/input/child-mind-institute-problematic-internet-use/series_train.parquet/id=0d4800c8/part-0.parquet\n",
      "/kaggle/input/child-mind-institute-problematic-internet-use/series_train.parquet/id=27d7e5e4/part-0.parquet\n",
      "/kaggle/input/child-mind-institute-problematic-internet-use/series_train.parquet/id=0ec403df/part-0.parquet\n",
      "/kaggle/input/child-mind-institute-problematic-internet-use/series_train.parquet/id=a65b2226/part-0.parquet\n",
      "/kaggle/input/child-mind-institute-problematic-internet-use/series_train.parquet/id=14391970/part-0.parquet\n",
      "/kaggle/input/child-mind-institute-problematic-internet-use/series_train.parquet/id=15f217a6/part-0.parquet\n",
      "/kaggle/input/child-mind-institute-problematic-internet-use/series_train.parquet/id=09b29113/part-0.parquet\n",
      "/kaggle/input/child-mind-institute-problematic-internet-use/series_train.parquet/id=abaf745c/part-0.parquet\n",
      "/kaggle/input/child-mind-institute-problematic-internet-use/series_train.parquet/id=5af79adb/part-0.parquet\n",
      "/kaggle/input/child-mind-institute-problematic-internet-use/series_train.parquet/id=96de5f57/part-0.parquet\n",
      "/kaggle/input/child-mind-institute-problematic-internet-use/series_train.parquet/id=ff18b749/part-0.parquet\n",
      "/kaggle/input/child-mind-institute-problematic-internet-use/series_train.parquet/id=d8037389/part-0.parquet\n",
      "/kaggle/input/child-mind-institute-problematic-internet-use/series_train.parquet/id=2ee0a1e8/part-0.parquet\n",
      "/kaggle/input/child-mind-institute-problematic-internet-use/series_train.parquet/id=83eda373/part-0.parquet\n",
      "/kaggle/input/child-mind-institute-problematic-internet-use/series_train.parquet/id=035c96dd/part-0.parquet\n",
      "/kaggle/input/child-mind-institute-problematic-internet-use/series_train.parquet/id=f67908e7/part-0.parquet\n",
      "/kaggle/input/child-mind-institute-problematic-internet-use/series_train.parquet/id=6197a2ce/part-0.parquet\n",
      "/kaggle/input/child-mind-institute-problematic-internet-use/series_train.parquet/id=1649ce22/part-0.parquet\n",
      "/kaggle/input/child-mind-institute-problematic-internet-use/series_train.parquet/id=d661ddf7/part-0.parquet\n",
      "/kaggle/input/child-mind-institute-problematic-internet-use/series_train.parquet/id=4442c376/part-0.parquet\n",
      "/kaggle/input/child-mind-institute-problematic-internet-use/series_train.parquet/id=fa34f945/part-0.parquet\n",
      "/kaggle/input/child-mind-institute-problematic-internet-use/series_train.parquet/id=3d736110/part-0.parquet\n",
      "/kaggle/input/child-mind-institute-problematic-internet-use/series_train.parquet/id=806d877f/part-0.parquet\n",
      "/kaggle/input/child-mind-institute-problematic-internet-use/series_train.parquet/id=c8cc2e1b/part-0.parquet\n",
      "/kaggle/input/child-mind-institute-problematic-internet-use/series_train.parquet/id=e3f71f7a/part-0.parquet\n",
      "/kaggle/input/child-mind-institute-problematic-internet-use/series_train.parquet/id=95d57ff9/part-0.parquet\n",
      "/kaggle/input/child-mind-institute-problematic-internet-use/series_train.parquet/id=a6fbb2e7/part-0.parquet\n",
      "/kaggle/input/child-mind-institute-problematic-internet-use/series_train.parquet/id=57c4f2b4/part-0.parquet\n",
      "/kaggle/input/child-mind-institute-problematic-internet-use/series_train.parquet/id=bf31e0a7/part-0.parquet\n",
      "/kaggle/input/child-mind-institute-problematic-internet-use/series_train.parquet/id=08660d12/part-0.parquet\n",
      "/kaggle/input/child-mind-institute-problematic-internet-use/series_train.parquet/id=a3858c6a/part-0.parquet\n",
      "/kaggle/input/child-mind-institute-problematic-internet-use/series_train.parquet/id=7fa51811/part-0.parquet\n",
      "/kaggle/input/child-mind-institute-problematic-internet-use/series_train.parquet/id=f584742f/part-0.parquet\n",
      "/kaggle/input/child-mind-institute-problematic-internet-use/series_train.parquet/id=f93010a8/part-0.parquet\n",
      "/kaggle/input/child-mind-institute-problematic-internet-use/series_train.parquet/id=db9eae59/part-0.parquet\n",
      "/kaggle/input/child-mind-institute-problematic-internet-use/series_train.parquet/id=f6c20447/part-0.parquet\n",
      "/kaggle/input/child-mind-institute-problematic-internet-use/series_train.parquet/id=144a9a79/part-0.parquet\n",
      "/kaggle/input/child-mind-institute-problematic-internet-use/series_train.parquet/id=012cadd8/part-0.parquet\n",
      "/kaggle/input/child-mind-institute-problematic-internet-use/series_train.parquet/id=1e5f6199/part-0.parquet\n",
      "/kaggle/input/child-mind-institute-problematic-internet-use/series_train.parquet/id=92bb8516/part-0.parquet\n",
      "/kaggle/input/child-mind-institute-problematic-internet-use/series_train.parquet/id=2898269f/part-0.parquet\n",
      "/kaggle/input/child-mind-institute-problematic-internet-use/series_train.parquet/id=855c6099/part-0.parquet\n",
      "/kaggle/input/child-mind-institute-problematic-internet-use/series_train.parquet/id=51364c23/part-0.parquet\n",
      "/kaggle/input/child-mind-institute-problematic-internet-use/series_train.parquet/id=05e94f88/part-0.parquet\n",
      "/kaggle/input/child-mind-institute-problematic-internet-use/series_train.parquet/id=a00c85e7/part-0.parquet\n",
      "/kaggle/input/child-mind-institute-problematic-internet-use/series_train.parquet/id=6d5944a9/part-0.parquet\n",
      "/kaggle/input/child-mind-institute-problematic-internet-use/series_train.parquet/id=b2b56219/part-0.parquet\n",
      "/kaggle/input/child-mind-institute-problematic-internet-use/series_train.parquet/id=f0d76b32/part-0.parquet\n",
      "/kaggle/input/child-mind-institute-problematic-internet-use/series_train.parquet/id=7c21ad67/part-0.parquet\n",
      "/kaggle/input/child-mind-institute-problematic-internet-use/series_train.parquet/id=07048067/part-0.parquet\n",
      "/kaggle/input/child-mind-institute-problematic-internet-use/series_train.parquet/id=c73f149c/part-0.parquet\n",
      "/kaggle/input/child-mind-institute-problematic-internet-use/series_train.parquet/id=31648caa/part-0.parquet\n",
      "/kaggle/input/child-mind-institute-problematic-internet-use/series_train.parquet/id=2b34dcf3/part-0.parquet\n",
      "/kaggle/input/child-mind-institute-problematic-internet-use/series_train.parquet/id=4fd7e043/part-0.parquet\n",
      "/kaggle/input/child-mind-institute-problematic-internet-use/series_train.parquet/id=f6d879aa/part-0.parquet\n",
      "/kaggle/input/child-mind-institute-problematic-internet-use/series_train.parquet/id=e0655da2/part-0.parquet\n",
      "/kaggle/input/child-mind-institute-problematic-internet-use/series_train.parquet/id=6a2fd807/part-0.parquet\n",
      "/kaggle/input/child-mind-institute-problematic-internet-use/series_train.parquet/id=070386b2/part-0.parquet\n",
      "/kaggle/input/child-mind-institute-problematic-internet-use/series_train.parquet/id=408bed19/part-0.parquet\n",
      "/kaggle/input/child-mind-institute-problematic-internet-use/series_train.parquet/id=7f26f78c/part-0.parquet\n",
      "/kaggle/input/child-mind-institute-problematic-internet-use/series_train.parquet/id=df4ab9b1/part-0.parquet\n",
      "/kaggle/input/child-mind-institute-problematic-internet-use/series_train.parquet/id=221e37e0/part-0.parquet\n",
      "/kaggle/input/child-mind-institute-problematic-internet-use/series_train.parquet/id=8f9c03c6/part-0.parquet\n",
      "/kaggle/input/child-mind-institute-problematic-internet-use/series_train.parquet/id=e23a8a0a/part-0.parquet\n",
      "/kaggle/input/child-mind-institute-problematic-internet-use/series_train.parquet/id=0b50f3fa/part-0.parquet\n",
      "/kaggle/input/child-mind-institute-problematic-internet-use/series_train.parquet/id=bb0d7d92/part-0.parquet\n",
      "/kaggle/input/child-mind-institute-problematic-internet-use/series_train.parquet/id=563ebc00/part-0.parquet\n",
      "/kaggle/input/child-mind-institute-problematic-internet-use/series_train.parquet/id=e76ad778/part-0.parquet\n",
      "/kaggle/input/child-mind-institute-problematic-internet-use/series_train.parquet/id=75b53bd4/part-0.parquet\n",
      "/kaggle/input/child-mind-institute-problematic-internet-use/series_train.parquet/id=2bbcfd43/part-0.parquet\n",
      "/kaggle/input/child-mind-institute-problematic-internet-use/series_train.parquet/id=25a3a723/part-0.parquet\n",
      "/kaggle/input/child-mind-institute-problematic-internet-use/series_train.parquet/id=22536a61/part-0.parquet\n",
      "/kaggle/input/child-mind-institute-problematic-internet-use/series_train.parquet/id=47350ac6/part-0.parquet\n",
      "/kaggle/input/child-mind-institute-problematic-internet-use/series_train.parquet/id=f6cc80a9/part-0.parquet\n",
      "/kaggle/input/child-mind-institute-problematic-internet-use/series_train.parquet/id=02cf7384/part-0.parquet\n",
      "/kaggle/input/child-mind-institute-problematic-internet-use/series_train.parquet/id=467c549f/part-0.parquet\n",
      "/kaggle/input/child-mind-institute-problematic-internet-use/series_train.parquet/id=11f9b26c/part-0.parquet\n",
      "/kaggle/input/child-mind-institute-problematic-internet-use/series_train.parquet/id=2da6bf6e/part-0.parquet\n",
      "/kaggle/input/child-mind-institute-problematic-internet-use/series_train.parquet/id=22f43a12/part-0.parquet\n",
      "/kaggle/input/child-mind-institute-problematic-internet-use/series_train.parquet/id=721ea536/part-0.parquet\n",
      "/kaggle/input/child-mind-institute-problematic-internet-use/series_train.parquet/id=4570c8b8/part-0.parquet\n",
      "/kaggle/input/child-mind-institute-problematic-internet-use/series_train.parquet/id=e63000c5/part-0.parquet\n",
      "/kaggle/input/child-mind-institute-problematic-internet-use/series_train.parquet/id=32b8490d/part-0.parquet\n",
      "/kaggle/input/child-mind-institute-problematic-internet-use/series_train.parquet/id=93fda84a/part-0.parquet\n",
      "/kaggle/input/child-mind-institute-problematic-internet-use/series_train.parquet/id=fc49ba65/part-0.parquet\n",
      "/kaggle/input/child-mind-institute-problematic-internet-use/series_train.parquet/id=72a0c969/part-0.parquet\n",
      "/kaggle/input/child-mind-institute-problematic-internet-use/series_train.parquet/id=3826be66/part-0.parquet\n",
      "/kaggle/input/child-mind-institute-problematic-internet-use/series_train.parquet/id=481a1861/part-0.parquet\n",
      "/kaggle/input/child-mind-institute-problematic-internet-use/series_train.parquet/id=13eee030/part-0.parquet\n",
      "/kaggle/input/child-mind-institute-problematic-internet-use/series_train.parquet/id=2a9e0dee/part-0.parquet\n",
      "/kaggle/input/child-mind-institute-problematic-internet-use/series_train.parquet/id=0e3b0bd2/part-0.parquet\n",
      "/kaggle/input/child-mind-institute-problematic-internet-use/series_train.parquet/id=e4d396d7/part-0.parquet\n",
      "/kaggle/input/child-mind-institute-problematic-internet-use/series_train.parquet/id=c6da0d4b/part-0.parquet\n",
      "/kaggle/input/child-mind-institute-problematic-internet-use/series_train.parquet/id=94a1053b/part-0.parquet\n",
      "/kaggle/input/child-mind-institute-problematic-internet-use/series_train.parquet/id=e4614ec6/part-0.parquet\n",
      "/kaggle/input/child-mind-institute-problematic-internet-use/series_train.parquet/id=c294b507/part-0.parquet\n",
      "/kaggle/input/child-mind-institute-problematic-internet-use/series_train.parquet/id=2840643b/part-0.parquet\n",
      "/kaggle/input/child-mind-institute-problematic-internet-use/series_train.parquet/id=2f8ec752/part-0.parquet\n",
      "/kaggle/input/child-mind-institute-problematic-internet-use/series_train.parquet/id=4a4a0f78/part-0.parquet\n",
      "/kaggle/input/child-mind-institute-problematic-internet-use/series_train.parquet/id=37bcfa7e/part-0.parquet\n",
      "/kaggle/input/child-mind-institute-problematic-internet-use/series_train.parquet/id=a5099438/part-0.parquet\n",
      "/kaggle/input/child-mind-institute-problematic-internet-use/series_train.parquet/id=4cabd7aa/part-0.parquet\n",
      "/kaggle/input/child-mind-institute-problematic-internet-use/series_train.parquet/id=e0869709/part-0.parquet\n",
      "/kaggle/input/child-mind-institute-problematic-internet-use/series_train.parquet/id=71c1b1d2/part-0.parquet\n",
      "/kaggle/input/child-mind-institute-problematic-internet-use/series_train.parquet/id=cf1b9d44/part-0.parquet\n",
      "/kaggle/input/child-mind-institute-problematic-internet-use/series_train.parquet/id=54391716/part-0.parquet\n",
      "/kaggle/input/child-mind-institute-problematic-internet-use/series_train.parquet/id=233b9425/part-0.parquet\n",
      "/kaggle/input/child-mind-institute-problematic-internet-use/series_train.parquet/id=cd1fff5a/part-0.parquet\n",
      "/kaggle/input/child-mind-institute-problematic-internet-use/series_train.parquet/id=9ab4909f/part-0.parquet\n",
      "/kaggle/input/child-mind-institute-problematic-internet-use/series_train.parquet/id=9ebb73c7/part-0.parquet\n",
      "/kaggle/input/child-mind-institute-problematic-internet-use/series_train.parquet/id=b074f33b/part-0.parquet\n",
      "/kaggle/input/child-mind-institute-problematic-internet-use/series_train.parquet/id=bd4ccd4c/part-0.parquet\n",
      "/kaggle/input/child-mind-institute-problematic-internet-use/series_train.parquet/id=ad0bbf35/part-0.parquet\n",
      "/kaggle/input/child-mind-institute-problematic-internet-use/series_train.parquet/id=5a313293/part-0.parquet\n",
      "/kaggle/input/child-mind-institute-problematic-internet-use/series_train.parquet/id=05db1b9b/part-0.parquet\n",
      "/kaggle/input/child-mind-institute-problematic-internet-use/series_train.parquet/id=c6575d38/part-0.parquet\n",
      "/kaggle/input/child-mind-institute-problematic-internet-use/series_train.parquet/id=35fa2ebf/part-0.parquet\n",
      "/kaggle/input/child-mind-institute-problematic-internet-use/series_train.parquet/id=af485add/part-0.parquet\n",
      "/kaggle/input/child-mind-institute-problematic-internet-use/series_train.parquet/id=cbcf8cf2/part-0.parquet\n",
      "/kaggle/input/child-mind-institute-problematic-internet-use/series_train.parquet/id=c3a86e3e/part-0.parquet\n",
      "/kaggle/input/child-mind-institute-problematic-internet-use/series_train.parquet/id=a7b9546a/part-0.parquet\n",
      "/kaggle/input/child-mind-institute-problematic-internet-use/series_train.parquet/id=a774c63b/part-0.parquet\n",
      "/kaggle/input/child-mind-institute-problematic-internet-use/series_train.parquet/id=ed0b3906/part-0.parquet\n",
      "/kaggle/input/child-mind-institute-problematic-internet-use/series_train.parquet/id=e0283d3d/part-0.parquet\n",
      "/kaggle/input/child-mind-institute-problematic-internet-use/series_train.parquet/id=2fef897e/part-0.parquet\n",
      "/kaggle/input/child-mind-institute-problematic-internet-use/series_train.parquet/id=1301f65d/part-0.parquet\n",
      "/kaggle/input/child-mind-institute-problematic-internet-use/series_train.parquet/id=658e66ec/part-0.parquet\n",
      "/kaggle/input/child-mind-institute-problematic-internet-use/series_train.parquet/id=9fb96ae3/part-0.parquet\n",
      "/kaggle/input/child-mind-institute-problematic-internet-use/series_train.parquet/id=0d924604/part-0.parquet\n",
      "/kaggle/input/child-mind-institute-problematic-internet-use/series_train.parquet/id=c4c2076b/part-0.parquet\n",
      "/kaggle/input/child-mind-institute-problematic-internet-use/series_train.parquet/id=3d970ce4/part-0.parquet\n",
      "/kaggle/input/child-mind-institute-problematic-internet-use/series_train.parquet/id=adba23f0/part-0.parquet\n",
      "/kaggle/input/child-mind-institute-problematic-internet-use/series_train.parquet/id=ba73bc7c/part-0.parquet\n",
      "/kaggle/input/child-mind-institute-problematic-internet-use/series_train.parquet/id=de91310c/part-0.parquet\n",
      "/kaggle/input/child-mind-institute-problematic-internet-use/series_train.parquet/id=260f542b/part-0.parquet\n",
      "/kaggle/input/child-mind-institute-problematic-internet-use/series_train.parquet/id=8a9e653f/part-0.parquet\n",
      "/kaggle/input/child-mind-institute-problematic-internet-use/series_train.parquet/id=d0ac4f1c/part-0.parquet\n",
      "/kaggle/input/child-mind-institute-problematic-internet-use/series_train.parquet/id=ec13a1b9/part-0.parquet\n",
      "/kaggle/input/child-mind-institute-problematic-internet-use/series_train.parquet/id=f64ae747/part-0.parquet\n",
      "/kaggle/input/child-mind-institute-problematic-internet-use/series_train.parquet/id=4926b18a/part-0.parquet\n",
      "/kaggle/input/child-mind-institute-problematic-internet-use/series_train.parquet/id=b08423c5/part-0.parquet\n",
      "/kaggle/input/child-mind-institute-problematic-internet-use/series_train.parquet/id=1a803bfe/part-0.parquet\n",
      "/kaggle/input/child-mind-institute-problematic-internet-use/series_train.parquet/id=e072b994/part-0.parquet\n",
      "/kaggle/input/child-mind-institute-problematic-internet-use/series_train.parquet/id=7c39c8e5/part-0.parquet\n",
      "/kaggle/input/child-mind-institute-problematic-internet-use/series_train.parquet/id=9ddfb9e6/part-0.parquet\n",
      "/kaggle/input/child-mind-institute-problematic-internet-use/series_train.parquet/id=2bac0893/part-0.parquet\n",
      "/kaggle/input/child-mind-institute-problematic-internet-use/series_train.parquet/id=1aff6762/part-0.parquet\n",
      "/kaggle/input/child-mind-institute-problematic-internet-use/series_train.parquet/id=ffed1dd5/part-0.parquet\n",
      "/kaggle/input/child-mind-institute-problematic-internet-use/series_train.parquet/id=c0442863/part-0.parquet\n",
      "/kaggle/input/child-mind-institute-problematic-internet-use/series_train.parquet/id=416b6ba2/part-0.parquet\n",
      "/kaggle/input/child-mind-institute-problematic-internet-use/series_train.parquet/id=aa1700c7/part-0.parquet\n",
      "/kaggle/input/child-mind-institute-problematic-internet-use/series_train.parquet/id=a402c6c8/part-0.parquet\n",
      "/kaggle/input/child-mind-institute-problematic-internet-use/series_train.parquet/id=2e17c497/part-0.parquet\n",
      "/kaggle/input/child-mind-institute-problematic-internet-use/series_train.parquet/id=81feecad/part-0.parquet\n",
      "/kaggle/input/child-mind-institute-problematic-internet-use/series_train.parquet/id=04f094a8/part-0.parquet\n",
      "/kaggle/input/child-mind-institute-problematic-internet-use/series_train.parquet/id=b7a61f8d/part-0.parquet\n",
      "/kaggle/input/child-mind-institute-problematic-internet-use/series_train.parquet/id=397efe7a/part-0.parquet\n",
      "/kaggle/input/child-mind-institute-problematic-internet-use/series_train.parquet/id=9f3ca269/part-0.parquet\n",
      "/kaggle/input/child-mind-institute-problematic-internet-use/series_train.parquet/id=9540fa8e/part-0.parquet\n",
      "/kaggle/input/child-mind-institute-problematic-internet-use/series_train.parquet/id=29b37b4a/part-0.parquet\n",
      "/kaggle/input/child-mind-institute-problematic-internet-use/series_train.parquet/id=ea7adcd6/part-0.parquet\n",
      "/kaggle/input/child-mind-institute-problematic-internet-use/series_train.parquet/id=9aa1a2ae/part-0.parquet\n",
      "/kaggle/input/child-mind-institute-problematic-internet-use/series_train.parquet/id=9271574b/part-0.parquet\n",
      "/kaggle/input/child-mind-institute-problematic-internet-use/series_train.parquet/id=b9cf3f7c/part-0.parquet\n",
      "/kaggle/input/child-mind-institute-problematic-internet-use/series_train.parquet/id=5124169c/part-0.parquet\n",
      "/kaggle/input/child-mind-institute-problematic-internet-use/series_train.parquet/id=fc41be2f/part-0.parquet\n",
      "/kaggle/input/child-mind-institute-problematic-internet-use/series_train.parquet/id=71852781/part-0.parquet\n",
      "/kaggle/input/child-mind-institute-problematic-internet-use/series_train.parquet/id=f6d6f400/part-0.parquet\n",
      "/kaggle/input/child-mind-institute-problematic-internet-use/series_train.parquet/id=b41cee02/part-0.parquet\n",
      "/kaggle/input/child-mind-institute-problematic-internet-use/series_train.parquet/id=db3b1dd1/part-0.parquet\n",
      "/kaggle/input/child-mind-institute-problematic-internet-use/series_train.parquet/id=338146bd/part-0.parquet\n",
      "/kaggle/input/child-mind-institute-problematic-internet-use/series_train.parquet/id=56ef356c/part-0.parquet\n",
      "/kaggle/input/child-mind-institute-problematic-internet-use/series_train.parquet/id=3c2cf08e/part-0.parquet\n",
      "/kaggle/input/child-mind-institute-problematic-internet-use/series_train.parquet/id=1c23295e/part-0.parquet\n",
      "/kaggle/input/child-mind-institute-problematic-internet-use/series_train.parquet/id=685cc0f1/part-0.parquet\n",
      "/kaggle/input/child-mind-institute-problematic-internet-use/series_train.parquet/id=2a922ca4/part-0.parquet\n",
      "/kaggle/input/child-mind-institute-problematic-internet-use/series_train.parquet/id=84b7d89d/part-0.parquet\n",
      "/kaggle/input/child-mind-institute-problematic-internet-use/series_train.parquet/id=1c5ba087/part-0.parquet\n",
      "/kaggle/input/child-mind-institute-problematic-internet-use/series_train.parquet/id=19455336/part-0.parquet\n",
      "/kaggle/input/child-mind-institute-problematic-internet-use/series_train.parquet/id=ad536dea/part-0.parquet\n",
      "/kaggle/input/child-mind-institute-problematic-internet-use/series_train.parquet/id=4aa87859/part-0.parquet\n",
      "/kaggle/input/child-mind-institute-problematic-internet-use/series_train.parquet/id=d87e2d01/part-0.parquet\n",
      "/kaggle/input/child-mind-institute-problematic-internet-use/series_train.parquet/id=4bc2bee9/part-0.parquet\n",
      "/kaggle/input/child-mind-institute-problematic-internet-use/series_train.parquet/id=f285b43c/part-0.parquet\n",
      "/kaggle/input/child-mind-institute-problematic-internet-use/series_train.parquet/id=bfb421f9/part-0.parquet\n",
      "/kaggle/input/child-mind-institute-problematic-internet-use/series_train.parquet/id=e0ad6550/part-0.parquet\n",
      "/kaggle/input/child-mind-institute-problematic-internet-use/series_train.parquet/id=84875079/part-0.parquet\n",
      "/kaggle/input/child-mind-institute-problematic-internet-use/series_train.parquet/id=6774ba64/part-0.parquet\n",
      "/kaggle/input/child-mind-institute-problematic-internet-use/series_train.parquet/id=6fb28c2a/part-0.parquet\n",
      "/kaggle/input/child-mind-institute-problematic-internet-use/series_train.parquet/id=ab54c39e/part-0.parquet\n",
      "/kaggle/input/child-mind-institute-problematic-internet-use/series_train.parquet/id=f1049268/part-0.parquet\n",
      "/kaggle/input/child-mind-institute-problematic-internet-use/series_train.parquet/id=4e6c7a75/part-0.parquet\n",
      "/kaggle/input/child-mind-institute-problematic-internet-use/series_train.parquet/id=10e46254/part-0.parquet\n",
      "/kaggle/input/child-mind-institute-problematic-internet-use/series_train.parquet/id=214f46e8/part-0.parquet\n",
      "/kaggle/input/child-mind-institute-problematic-internet-use/series_train.parquet/id=b94ec4a1/part-0.parquet\n",
      "/kaggle/input/child-mind-institute-problematic-internet-use/series_train.parquet/id=b3b200af/part-0.parquet\n",
      "/kaggle/input/child-mind-institute-problematic-internet-use/series_train.parquet/id=53905a2c/part-0.parquet\n",
      "/kaggle/input/child-mind-institute-problematic-internet-use/series_train.parquet/id=0b4014f0/part-0.parquet\n",
      "/kaggle/input/child-mind-institute-problematic-internet-use/series_train.parquet/id=b452f767/part-0.parquet\n",
      "/kaggle/input/child-mind-institute-problematic-internet-use/series_train.parquet/id=067b9287/part-0.parquet\n",
      "/kaggle/input/child-mind-institute-problematic-internet-use/series_train.parquet/id=3d6143f3/part-0.parquet\n",
      "/kaggle/input/child-mind-institute-problematic-internet-use/series_train.parquet/id=db38d1f9/part-0.parquet\n",
      "/kaggle/input/child-mind-institute-problematic-internet-use/series_train.parquet/id=da19c97e/part-0.parquet\n",
      "/kaggle/input/child-mind-institute-problematic-internet-use/series_train.parquet/id=9f70688f/part-0.parquet\n",
      "/kaggle/input/child-mind-institute-problematic-internet-use/series_train.parquet/id=350cf38b/part-0.parquet\n",
      "/kaggle/input/child-mind-institute-problematic-internet-use/series_train.parquet/id=50b2b84b/part-0.parquet\n",
      "/kaggle/input/child-mind-institute-problematic-internet-use/series_train.parquet/id=9e171735/part-0.parquet\n",
      "/kaggle/input/child-mind-institute-problematic-internet-use/series_train.parquet/id=e1a4575f/part-0.parquet\n",
      "/kaggle/input/child-mind-institute-problematic-internet-use/series_train.parquet/id=579e50bd/part-0.parquet\n",
      "/kaggle/input/child-mind-institute-problematic-internet-use/series_train.parquet/id=7bdbf66f/part-0.parquet\n",
      "/kaggle/input/child-mind-institute-problematic-internet-use/series_train.parquet/id=a0182b17/part-0.parquet\n",
      "/kaggle/input/child-mind-institute-problematic-internet-use/series_train.parquet/id=9a2082cf/part-0.parquet\n",
      "/kaggle/input/child-mind-institute-problematic-internet-use/series_train.parquet/id=f9334e08/part-0.parquet\n",
      "/kaggle/input/child-mind-institute-problematic-internet-use/series_train.parquet/id=101c27f1/part-0.parquet\n",
      "/kaggle/input/child-mind-institute-problematic-internet-use/series_train.parquet/id=428970d4/part-0.parquet\n",
      "/kaggle/input/child-mind-institute-problematic-internet-use/series_train.parquet/id=57f6fa6c/part-0.parquet\n",
      "/kaggle/input/child-mind-institute-problematic-internet-use/series_train.parquet/id=9027c805/part-0.parquet\n",
      "/kaggle/input/child-mind-institute-problematic-internet-use/series_train.parquet/id=11be5d2e/part-0.parquet\n",
      "/kaggle/input/child-mind-institute-problematic-internet-use/series_train.parquet/id=d05f5d71/part-0.parquet\n",
      "/kaggle/input/child-mind-institute-problematic-internet-use/series_train.parquet/id=47240aa3/part-0.parquet\n",
      "/kaggle/input/child-mind-institute-problematic-internet-use/series_train.parquet/id=c3dde859/part-0.parquet\n",
      "/kaggle/input/child-mind-institute-problematic-internet-use/series_train.parquet/id=ee67eb55/part-0.parquet\n",
      "/kaggle/input/child-mind-institute-problematic-internet-use/series_train.parquet/id=cd703872/part-0.parquet\n",
      "/kaggle/input/child-mind-institute-problematic-internet-use/series_train.parquet/id=fd028ecc/part-0.parquet\n",
      "/kaggle/input/child-mind-institute-problematic-internet-use/series_train.parquet/id=8c6c52a2/part-0.parquet\n",
      "/kaggle/input/child-mind-institute-problematic-internet-use/series_train.parquet/id=c274a243/part-0.parquet\n",
      "/kaggle/input/child-mind-institute-problematic-internet-use/series_train.parquet/id=e4b47411/part-0.parquet\n",
      "/kaggle/input/child-mind-institute-problematic-internet-use/series_train.parquet/id=daf3969c/part-0.parquet\n",
      "/kaggle/input/child-mind-institute-problematic-internet-use/series_train.parquet/id=9d6b1410/part-0.parquet\n",
      "/kaggle/input/child-mind-institute-problematic-internet-use/series_train.parquet/id=4e85505f/part-0.parquet\n",
      "/kaggle/input/child-mind-institute-problematic-internet-use/series_train.parquet/id=c6d4b453/part-0.parquet\n",
      "/kaggle/input/child-mind-institute-problematic-internet-use/series_train.parquet/id=321202d4/part-0.parquet\n",
      "/kaggle/input/child-mind-institute-problematic-internet-use/series_train.parquet/id=2f16cad4/part-0.parquet\n",
      "/kaggle/input/child-mind-institute-problematic-internet-use/series_train.parquet/id=949f94e5/part-0.parquet\n",
      "/kaggle/input/child-mind-institute-problematic-internet-use/series_train.parquet/id=c55187b4/part-0.parquet\n",
      "/kaggle/input/child-mind-institute-problematic-internet-use/series_train.parquet/id=92293b06/part-0.parquet\n",
      "/kaggle/input/child-mind-institute-problematic-internet-use/series_train.parquet/id=64b4005d/part-0.parquet\n",
      "/kaggle/input/child-mind-institute-problematic-internet-use/series_train.parquet/id=00f332d1/part-0.parquet\n",
      "/kaggle/input/child-mind-institute-problematic-internet-use/series_train.parquet/id=9ce139d3/part-0.parquet\n",
      "/kaggle/input/child-mind-institute-problematic-internet-use/series_train.parquet/id=380029ef/part-0.parquet\n",
      "/kaggle/input/child-mind-institute-problematic-internet-use/series_train.parquet/id=4ca242ea/part-0.parquet\n",
      "/kaggle/input/child-mind-institute-problematic-internet-use/series_train.parquet/id=a28c7891/part-0.parquet\n",
      "/kaggle/input/child-mind-institute-problematic-internet-use/series_train.parquet/id=38d53b92/part-0.parquet\n",
      "/kaggle/input/child-mind-institute-problematic-internet-use/series_train.parquet/id=fd56e059/part-0.parquet\n",
      "/kaggle/input/child-mind-institute-problematic-internet-use/series_train.parquet/id=384c3f27/part-0.parquet\n",
      "/kaggle/input/child-mind-institute-problematic-internet-use/series_train.parquet/id=a26c3e8f/part-0.parquet\n",
      "/kaggle/input/child-mind-institute-problematic-internet-use/series_train.parquet/id=9ddb06db/part-0.parquet\n",
      "/kaggle/input/child-mind-institute-problematic-internet-use/series_train.parquet/id=745e6065/part-0.parquet\n",
      "/kaggle/input/child-mind-institute-problematic-internet-use/series_train.parquet/id=d74e4d7c/part-0.parquet\n",
      "/kaggle/input/child-mind-institute-problematic-internet-use/series_train.parquet/id=a5dbb00a/part-0.parquet\n",
      "/kaggle/input/child-mind-institute-problematic-internet-use/series_train.parquet/id=0d570d3e/part-0.parquet\n",
      "/kaggle/input/child-mind-institute-problematic-internet-use/series_train.parquet/id=9a5aed6c/part-0.parquet\n",
      "/kaggle/input/child-mind-institute-problematic-internet-use/series_train.parquet/id=0c4e2d68/part-0.parquet\n",
      "/kaggle/input/child-mind-institute-problematic-internet-use/series_train.parquet/id=80b46ffb/part-0.parquet\n",
      "/kaggle/input/child-mind-institute-problematic-internet-use/series_train.parquet/id=ac3ba541/part-0.parquet\n",
      "/kaggle/input/child-mind-institute-problematic-internet-use/series_train.parquet/id=23e024bd/part-0.parquet\n",
      "/kaggle/input/child-mind-institute-problematic-internet-use/series_train.parquet/id=2760be91/part-0.parquet\n",
      "/kaggle/input/child-mind-institute-problematic-internet-use/series_train.parquet/id=c446e1c5/part-0.parquet\n",
      "/kaggle/input/child-mind-institute-problematic-internet-use/series_train.parquet/id=bdbff28b/part-0.parquet\n",
      "/kaggle/input/child-mind-institute-problematic-internet-use/series_train.parquet/id=4b3c7594/part-0.parquet\n",
      "/kaggle/input/child-mind-institute-problematic-internet-use/series_train.parquet/id=fb3c2c87/part-0.parquet\n",
      "/kaggle/input/child-mind-institute-problematic-internet-use/series_train.parquet/id=119e181e/part-0.parquet\n",
      "/kaggle/input/child-mind-institute-problematic-internet-use/series_train.parquet/id=1e08b1dc/part-0.parquet\n",
      "/kaggle/input/child-mind-institute-problematic-internet-use/series_train.parquet/id=3268c574/part-0.parquet\n",
      "/kaggle/input/child-mind-institute-problematic-internet-use/series_train.parquet/id=ab36aa48/part-0.parquet\n",
      "/kaggle/input/child-mind-institute-problematic-internet-use/series_train.parquet/id=659fec57/part-0.parquet\n",
      "/kaggle/input/child-mind-institute-problematic-internet-use/series_train.parquet/id=02cebf33/part-0.parquet\n",
      "/kaggle/input/child-mind-institute-problematic-internet-use/series_train.parquet/id=43720c15/part-0.parquet\n",
      "/kaggle/input/child-mind-institute-problematic-internet-use/series_train.parquet/id=6e9beaee/part-0.parquet\n",
      "/kaggle/input/child-mind-institute-problematic-internet-use/series_train.parquet/id=5c22f241/part-0.parquet\n",
      "/kaggle/input/child-mind-institute-problematic-internet-use/series_train.parquet/id=6595d479/part-0.parquet\n",
      "/kaggle/input/child-mind-institute-problematic-internet-use/series_train.parquet/id=7187caec/part-0.parquet\n",
      "/kaggle/input/child-mind-institute-problematic-internet-use/series_train.parquet/id=24398aed/part-0.parquet\n",
      "/kaggle/input/child-mind-institute-problematic-internet-use/series_train.parquet/id=4a1440d9/part-0.parquet\n",
      "/kaggle/input/child-mind-institute-problematic-internet-use/series_train.parquet/id=0417c91e/part-0.parquet\n",
      "/kaggle/input/child-mind-institute-problematic-internet-use/series_train.parquet/id=621066ff/part-0.parquet\n",
      "/kaggle/input/child-mind-institute-problematic-internet-use/series_train.parquet/id=526f719b/part-0.parquet\n",
      "/kaggle/input/child-mind-institute-problematic-internet-use/series_train.parquet/id=7dc65b92/part-0.parquet\n",
      "/kaggle/input/child-mind-institute-problematic-internet-use/series_train.parquet/id=5c2c136d/part-0.parquet\n",
      "/kaggle/input/child-mind-institute-problematic-internet-use/series_train.parquet/id=0cbe4e54/part-0.parquet\n",
      "/kaggle/input/child-mind-institute-problematic-internet-use/series_train.parquet/id=9e4385f7/part-0.parquet\n",
      "/kaggle/input/child-mind-institute-problematic-internet-use/series_train.parquet/id=fecc07d6/part-0.parquet\n",
      "/kaggle/input/child-mind-institute-problematic-internet-use/series_train.parquet/id=613fc399/part-0.parquet\n",
      "/kaggle/input/child-mind-institute-problematic-internet-use/series_train.parquet/id=6a16089d/part-0.parquet\n",
      "/kaggle/input/child-mind-institute-problematic-internet-use/series_train.parquet/id=ee21612e/part-0.parquet\n",
      "/kaggle/input/child-mind-institute-problematic-internet-use/series_train.parquet/id=5132511c/part-0.parquet\n",
      "/kaggle/input/child-mind-institute-problematic-internet-use/series_train.parquet/id=64ed48c4/part-0.parquet\n",
      "/kaggle/input/child-mind-institute-problematic-internet-use/series_train.parquet/id=c0a7d046/part-0.parquet\n",
      "/kaggle/input/child-mind-institute-problematic-internet-use/series_train.parquet/id=1eedf45e/part-0.parquet\n",
      "/kaggle/input/child-mind-institute-problematic-internet-use/series_train.parquet/id=51f38b37/part-0.parquet\n",
      "/kaggle/input/child-mind-institute-problematic-internet-use/series_train.parquet/id=be210bc7/part-0.parquet\n",
      "/kaggle/input/child-mind-institute-problematic-internet-use/series_train.parquet/id=2a0b8386/part-0.parquet\n",
      "/kaggle/input/child-mind-institute-problematic-internet-use/series_train.parquet/id=c9879365/part-0.parquet\n",
      "/kaggle/input/child-mind-institute-problematic-internet-use/series_train.parquet/id=3a594acf/part-0.parquet\n",
      "/kaggle/input/child-mind-institute-problematic-internet-use/series_train.parquet/id=fdea7d9e/part-0.parquet\n",
      "/kaggle/input/child-mind-institute-problematic-internet-use/series_train.parquet/id=24ab10c6/part-0.parquet\n",
      "/kaggle/input/child-mind-institute-problematic-internet-use/series_train.parquet/id=33d60f7d/part-0.parquet\n",
      "/kaggle/input/child-mind-institute-problematic-internet-use/series_train.parquet/id=bbd71a7c/part-0.parquet\n",
      "/kaggle/input/child-mind-institute-problematic-internet-use/series_train.parquet/id=5e55e9fd/part-0.parquet\n",
      "/kaggle/input/child-mind-institute-problematic-internet-use/series_train.parquet/id=87050a09/part-0.parquet\n",
      "/kaggle/input/child-mind-institute-problematic-internet-use/series_train.parquet/id=e754411f/part-0.parquet\n",
      "/kaggle/input/child-mind-institute-problematic-internet-use/series_train.parquet/id=36530d36/part-0.parquet\n",
      "/kaggle/input/child-mind-institute-problematic-internet-use/series_train.parquet/id=fd0d9bca/part-0.parquet\n",
      "/kaggle/input/child-mind-institute-problematic-internet-use/series_train.parquet/id=cd89d5f1/part-0.parquet\n",
      "/kaggle/input/child-mind-institute-problematic-internet-use/series_train.parquet/id=dd747bba/part-0.parquet\n",
      "/kaggle/input/child-mind-institute-problematic-internet-use/series_train.parquet/id=3d48430d/part-0.parquet\n",
      "/kaggle/input/child-mind-institute-problematic-internet-use/series_train.parquet/id=0a431608/part-0.parquet\n",
      "/kaggle/input/child-mind-institute-problematic-internet-use/series_train.parquet/id=d57f6c9e/part-0.parquet\n",
      "/kaggle/input/child-mind-institute-problematic-internet-use/series_train.parquet/id=f7fc97cf/part-0.parquet\n",
      "/kaggle/input/child-mind-institute-problematic-internet-use/series_train.parquet/id=6fcdcb2a/part-0.parquet\n",
      "/kaggle/input/child-mind-institute-problematic-internet-use/series_train.parquet/id=c8fbbc8a/part-0.parquet\n",
      "/kaggle/input/child-mind-institute-problematic-internet-use/series_train.parquet/id=71ee31f8/part-0.parquet\n",
      "/kaggle/input/child-mind-institute-problematic-internet-use/series_train.parquet/id=81a4b826/part-0.parquet\n",
      "/kaggle/input/child-mind-institute-problematic-internet-use/series_train.parquet/id=a95b4487/part-0.parquet\n",
      "/kaggle/input/child-mind-institute-problematic-internet-use/series_train.parquet/id=029a19c9/part-0.parquet\n",
      "/kaggle/input/child-mind-institute-problematic-internet-use/series_train.parquet/id=d859115e/part-0.parquet\n",
      "/kaggle/input/child-mind-institute-problematic-internet-use/series_train.parquet/id=954a4c2e/part-0.parquet\n",
      "/kaggle/input/child-mind-institute-problematic-internet-use/series_train.parquet/id=2c483245/part-0.parquet\n",
      "/kaggle/input/child-mind-institute-problematic-internet-use/series_train.parquet/id=c38585c5/part-0.parquet\n",
      "/kaggle/input/child-mind-institute-problematic-internet-use/series_train.parquet/id=5d3b6ea5/part-0.parquet\n",
      "/kaggle/input/child-mind-institute-problematic-internet-use/series_train.parquet/id=bea525dc/part-0.parquet\n",
      "/kaggle/input/child-mind-institute-problematic-internet-use/series_train.parquet/id=863e40c7/part-0.parquet\n",
      "/kaggle/input/child-mind-institute-problematic-internet-use/series_train.parquet/id=31d61741/part-0.parquet\n",
      "/kaggle/input/child-mind-institute-problematic-internet-use/series_train.parquet/id=b7c410a9/part-0.parquet\n",
      "/kaggle/input/child-mind-institute-problematic-internet-use/series_train.parquet/id=d6cca65e/part-0.parquet\n",
      "/kaggle/input/child-mind-institute-problematic-internet-use/series_train.parquet/id=278e8a51/part-0.parquet\n",
      "/kaggle/input/child-mind-institute-problematic-internet-use/series_train.parquet/id=6b6467f4/part-0.parquet\n",
      "/kaggle/input/child-mind-institute-problematic-internet-use/series_train.parquet/id=e21255e2/part-0.parquet\n",
      "/kaggle/input/child-mind-institute-problematic-internet-use/series_train.parquet/id=ef58dd3c/part-0.parquet\n",
      "/kaggle/input/child-mind-institute-problematic-internet-use/series_train.parquet/id=1b5b34bc/part-0.parquet\n",
      "/kaggle/input/child-mind-institute-problematic-internet-use/series_train.parquet/id=15227eef/part-0.parquet\n",
      "/kaggle/input/child-mind-institute-problematic-internet-use/series_train.parquet/id=70de1c63/part-0.parquet\n",
      "/kaggle/input/child-mind-institute-problematic-internet-use/series_train.parquet/id=1b32427b/part-0.parquet\n",
      "/kaggle/input/child-mind-institute-problematic-internet-use/series_train.parquet/id=dcfcd574/part-0.parquet\n",
      "/kaggle/input/child-mind-institute-problematic-internet-use/series_train.parquet/id=68fa4631/part-0.parquet\n",
      "/kaggle/input/child-mind-institute-problematic-internet-use/series_train.parquet/id=4dc4ed56/part-0.parquet\n",
      "/kaggle/input/child-mind-institute-problematic-internet-use/series_train.parquet/id=994ee014/part-0.parquet\n",
      "/kaggle/input/child-mind-institute-problematic-internet-use/series_train.parquet/id=0c4eabac/part-0.parquet\n",
      "/kaggle/input/child-mind-institute-problematic-internet-use/series_train.parquet/id=99b15811/part-0.parquet\n",
      "/kaggle/input/child-mind-institute-problematic-internet-use/series_train.parquet/id=d28f0d44/part-0.parquet\n",
      "/kaggle/input/child-mind-institute-problematic-internet-use/series_train.parquet/id=32dcc8ab/part-0.parquet\n",
      "/kaggle/input/child-mind-institute-problematic-internet-use/series_train.parquet/id=85d99199/part-0.parquet\n",
      "/kaggle/input/child-mind-institute-problematic-internet-use/series_train.parquet/id=bbe5bedd/part-0.parquet\n",
      "/kaggle/input/child-mind-institute-problematic-internet-use/series_train.parquet/id=a3391798/part-0.parquet\n",
      "/kaggle/input/child-mind-institute-problematic-internet-use/series_train.parquet/id=4280076d/part-0.parquet\n",
      "/kaggle/input/child-mind-institute-problematic-internet-use/series_train.parquet/id=ecd25dd1/part-0.parquet\n",
      "/kaggle/input/child-mind-institute-problematic-internet-use/series_train.parquet/id=2496c491/part-0.parquet\n",
      "/kaggle/input/child-mind-institute-problematic-internet-use/series_train.parquet/id=063b16fc/part-0.parquet\n",
      "/kaggle/input/child-mind-institute-problematic-internet-use/series_train.parquet/id=8cab7bc4/part-0.parquet\n",
      "/kaggle/input/child-mind-institute-problematic-internet-use/series_train.parquet/id=ea7277b4/part-0.parquet\n",
      "/kaggle/input/child-mind-institute-problematic-internet-use/series_train.parquet/id=30d2fd47/part-0.parquet\n",
      "/kaggle/input/child-mind-institute-problematic-internet-use/series_train.parquet/id=1f7bd44c/part-0.parquet\n",
      "/kaggle/input/child-mind-institute-problematic-internet-use/series_train.parquet/id=6dfe4a75/part-0.parquet\n",
      "/kaggle/input/child-mind-institute-problematic-internet-use/series_train.parquet/id=35198c2d/part-0.parquet\n",
      "/kaggle/input/child-mind-institute-problematic-internet-use/series_train.parquet/id=f47abc42/part-0.parquet\n",
      "/kaggle/input/child-mind-institute-problematic-internet-use/series_train.parquet/id=c3d46daf/part-0.parquet\n",
      "/kaggle/input/child-mind-institute-problematic-internet-use/series_train.parquet/id=2f154763/part-0.parquet\n",
      "/kaggle/input/child-mind-institute-problematic-internet-use/series_train.parquet/id=9130a22e/part-0.parquet\n",
      "/kaggle/input/child-mind-institute-problematic-internet-use/series_train.parquet/id=c1373df0/part-0.parquet\n",
      "/kaggle/input/child-mind-institute-problematic-internet-use/series_train.parquet/id=6282e693/part-0.parquet\n",
      "/kaggle/input/child-mind-institute-problematic-internet-use/series_train.parquet/id=49e4eade/part-0.parquet\n",
      "/kaggle/input/child-mind-institute-problematic-internet-use/series_train.parquet/id=ad9f821d/part-0.parquet\n",
      "/kaggle/input/child-mind-institute-problematic-internet-use/series_train.parquet/id=fad07fce/part-0.parquet\n",
      "/kaggle/input/child-mind-institute-problematic-internet-use/series_train.parquet/id=5d762840/part-0.parquet\n",
      "/kaggle/input/child-mind-institute-problematic-internet-use/series_train.parquet/id=4d61a44e/part-0.parquet\n",
      "/kaggle/input/child-mind-institute-problematic-internet-use/series_train.parquet/id=f9384fa2/part-0.parquet\n",
      "/kaggle/input/child-mind-institute-problematic-internet-use/series_train.parquet/id=23567787/part-0.parquet\n",
      "/kaggle/input/child-mind-institute-problematic-internet-use/series_train.parquet/id=c3061b23/part-0.parquet\n",
      "/kaggle/input/child-mind-institute-problematic-internet-use/series_train.parquet/id=8875387b/part-0.parquet\n",
      "/kaggle/input/child-mind-institute-problematic-internet-use/series_train.parquet/id=fe9c71d8/part-0.parquet\n",
      "/kaggle/input/child-mind-institute-problematic-internet-use/series_train.parquet/id=7f2715b4/part-0.parquet\n",
      "/kaggle/input/child-mind-institute-problematic-internet-use/series_train.parquet/id=a3bd8858/part-0.parquet\n",
      "/kaggle/input/child-mind-institute-problematic-internet-use/series_train.parquet/id=0f6b71c4/part-0.parquet\n",
      "/kaggle/input/child-mind-institute-problematic-internet-use/series_train.parquet/id=08577722/part-0.parquet\n",
      "/kaggle/input/child-mind-institute-problematic-internet-use/series_train.parquet/id=8a44ea3a/part-0.parquet\n",
      "/kaggle/input/child-mind-institute-problematic-internet-use/series_train.parquet/id=2cda86bd/part-0.parquet\n",
      "/kaggle/input/child-mind-institute-problematic-internet-use/series_train.parquet/id=b9e90f7f/part-0.parquet\n",
      "/kaggle/input/child-mind-institute-problematic-internet-use/series_train.parquet/id=2cb0db2c/part-0.parquet\n",
      "/kaggle/input/child-mind-institute-problematic-internet-use/series_train.parquet/id=e1958a83/part-0.parquet\n",
      "/kaggle/input/child-mind-institute-problematic-internet-use/series_train.parquet/id=1f65fa82/part-0.parquet\n",
      "/kaggle/input/child-mind-institute-problematic-internet-use/series_train.parquet/id=0bd89878/part-0.parquet\n",
      "/kaggle/input/child-mind-institute-problematic-internet-use/series_train.parquet/id=adc2d620/part-0.parquet\n",
      "/kaggle/input/child-mind-institute-problematic-internet-use/series_train.parquet/id=224fc39a/part-0.parquet\n",
      "/kaggle/input/child-mind-institute-problematic-internet-use/series_train.parquet/id=d4d2f272/part-0.parquet\n",
      "/kaggle/input/child-mind-institute-problematic-internet-use/series_train.parquet/id=3b1b9538/part-0.parquet\n",
      "/kaggle/input/child-mind-institute-problematic-internet-use/series_train.parquet/id=e28c0bfa/part-0.parquet\n",
      "/kaggle/input/child-mind-institute-problematic-internet-use/series_train.parquet/id=31b74cd4/part-0.parquet\n",
      "/kaggle/input/child-mind-institute-problematic-internet-use/series_train.parquet/id=40087bc5/part-0.parquet\n",
      "/kaggle/input/child-mind-institute-problematic-internet-use/series_train.parquet/id=a8926a86/part-0.parquet\n",
      "/kaggle/input/child-mind-institute-problematic-internet-use/series_train.parquet/id=df98fbb4/part-0.parquet\n",
      "/kaggle/input/child-mind-institute-problematic-internet-use/series_train.parquet/id=25eba023/part-0.parquet\n",
      "/kaggle/input/child-mind-institute-problematic-internet-use/series_train.parquet/id=a2994e55/part-0.parquet\n",
      "/kaggle/input/child-mind-institute-problematic-internet-use/series_train.parquet/id=14b3d6e5/part-0.parquet\n",
      "/kaggle/input/child-mind-institute-problematic-internet-use/series_train.parquet/id=18b8b2f6/part-0.parquet\n",
      "/kaggle/input/child-mind-institute-problematic-internet-use/series_train.parquet/id=efa35d35/part-0.parquet\n",
      "/kaggle/input/child-mind-institute-problematic-internet-use/series_train.parquet/id=351cd4ec/part-0.parquet\n",
      "/kaggle/input/child-mind-institute-problematic-internet-use/series_train.parquet/id=5264bb0e/part-0.parquet\n",
      "/kaggle/input/child-mind-institute-problematic-internet-use/series_train.parquet/id=e1e02e28/part-0.parquet\n",
      "/kaggle/input/child-mind-institute-problematic-internet-use/series_train.parquet/id=b308c03e/part-0.parquet\n",
      "/kaggle/input/child-mind-institute-problematic-internet-use/series_train.parquet/id=f015a18c/part-0.parquet\n",
      "/kaggle/input/child-mind-institute-problematic-internet-use/series_train.parquet/id=fb04f7dd/part-0.parquet\n",
      "/kaggle/input/child-mind-institute-problematic-internet-use/series_train.parquet/id=064e8da5/part-0.parquet\n",
      "/kaggle/input/child-mind-institute-problematic-internet-use/series_train.parquet/id=58dfccdb/part-0.parquet\n",
      "/kaggle/input/child-mind-institute-problematic-internet-use/series_train.parquet/id=6e85a624/part-0.parquet\n",
      "/kaggle/input/child-mind-institute-problematic-internet-use/series_train.parquet/id=bc66f41d/part-0.parquet\n",
      "/kaggle/input/child-mind-institute-problematic-internet-use/series_train.parquet/id=0b7d9da6/part-0.parquet\n",
      "/kaggle/input/child-mind-institute-problematic-internet-use/series_train.parquet/id=1fc07a80/part-0.parquet\n",
      "/kaggle/input/child-mind-institute-problematic-internet-use/series_train.parquet/id=43629a34/part-0.parquet\n",
      "/kaggle/input/child-mind-institute-problematic-internet-use/series_train.parquet/id=7800a084/part-0.parquet\n",
      "/kaggle/input/child-mind-institute-problematic-internet-use/series_train.parquet/id=73ffa609/part-0.parquet\n",
      "/kaggle/input/child-mind-institute-problematic-internet-use/series_train.parquet/id=f0957ca1/part-0.parquet\n",
      "/kaggle/input/child-mind-institute-problematic-internet-use/series_train.parquet/id=948e1435/part-0.parquet\n",
      "/kaggle/input/child-mind-institute-problematic-internet-use/series_train.parquet/id=ec6b57b4/part-0.parquet\n",
      "/kaggle/input/child-mind-institute-problematic-internet-use/series_train.parquet/id=78704d22/part-0.parquet\n",
      "/kaggle/input/child-mind-institute-problematic-internet-use/series_train.parquet/id=5b9ff85e/part-0.parquet\n",
      "/kaggle/input/child-mind-institute-problematic-internet-use/series_train.parquet/id=e4762a2b/part-0.parquet\n",
      "/kaggle/input/child-mind-institute-problematic-internet-use/series_train.parquet/id=930c567c/part-0.parquet\n",
      "/kaggle/input/child-mind-institute-problematic-internet-use/series_train.parquet/id=e892aec6/part-0.parquet\n",
      "/kaggle/input/child-mind-institute-problematic-internet-use/series_train.parquet/id=ffcd4dbd/part-0.parquet\n",
      "/kaggle/input/child-mind-institute-problematic-internet-use/series_train.parquet/id=cd68643b/part-0.parquet\n",
      "/kaggle/input/child-mind-institute-problematic-internet-use/series_train.parquet/id=f8ff0bc8/part-0.parquet\n",
      "/kaggle/input/child-mind-institute-problematic-internet-use/series_train.parquet/id=db23fbe4/part-0.parquet\n",
      "/kaggle/input/child-mind-institute-problematic-internet-use/series_train.parquet/id=687c85e7/part-0.parquet\n",
      "/kaggle/input/child-mind-institute-problematic-internet-use/series_train.parquet/id=5f099188/part-0.parquet\n"
     ]
    }
   ],
   "source": [
    "# This Python 3 environment comes with many helpful analytics libraries installed\n",
    "# It is defined by the kaggle/python Docker image: https://github.com/kaggle/docker-python\n",
    "# For example, here's several helpful packages to load\n",
    "\n",
    "import numpy as np # linear algebra\n",
    "import pandas as pd # data processing, CSV file I/O (e.g. pd.read_csv)\n",
    "\n",
    "# Input data files are available in the read-only \"../input/\" directory\n",
    "# For example, running this (by clicking run or pressing Shift+Enter) will list all files under the input directory\n",
    "\n",
    "import os\n",
    "for dirname, _, filenames in os.walk('/kaggle/input'):\n",
    "    for filename in filenames:\n",
    "        print(os.path.join(dirname, filename))\n",
    "\n",
    "# You can write up to 20GB to the current directory (/kaggle/working/) that gets preserved as output when you create a version using \"Save & Run All\" \n",
    "# You can also write temporary files to /kaggle/temp/, but they won't be saved outside of the current session"
   ]
  },
  {
   "cell_type": "markdown",
   "id": "f1717465",
   "metadata": {
    "papermill": {
     "duration": 0.019467,
     "end_time": "2024-11-15T20:05:52.963749",
     "exception": false,
     "start_time": "2024-11-15T20:05:52.944282",
     "status": "completed"
    },
    "tags": []
   },
   "source": [
    "# Prétraitement des données\n"
   ]
  },
  {
   "cell_type": "markdown",
   "id": "2f171dd0",
   "metadata": {
    "papermill": {
     "duration": 0.016202,
     "end_time": "2024-11-15T20:05:52.997055",
     "exception": false,
     "start_time": "2024-11-15T20:05:52.980853",
     "status": "completed"
    },
    "tags": []
   },
   "source": [
    "1. Chargement et combinaison des données "
   ]
  },
  {
   "cell_type": "code",
   "execution_count": 2,
   "id": "f519bbc2",
   "metadata": {
    "execution": {
     "iopub.execute_input": "2024-11-15T20:05:53.032446Z",
     "iopub.status.busy": "2024-11-15T20:05:53.031887Z",
     "iopub.status.idle": "2024-11-15T20:09:23.833790Z",
     "shell.execute_reply": "2024-11-15T20:09:23.832576Z"
    },
    "papermill": {
     "duration": 210.822596,
     "end_time": "2024-11-15T20:09:23.836565",
     "exception": false,
     "start_time": "2024-11-15T20:05:53.013969",
     "status": "completed"
    },
    "tags": []
   },
   "outputs": [
    {
     "name": "stderr",
     "output_type": "stream",
     "text": [
      "100%|██████████| 996/996 [03:30<00:00,  4.74it/s]\n",
      "100%|██████████| 2/2 [00:00<00:00,  5.92it/s]\n"
     ]
    }
   ],
   "source": [
    "#  les données de la competition proviennent de deux types de fichiers : parquet et csv donc avant de passer au pretraitement on doit les combiner \n",
    "from tqdm import tqdm\n",
    "def process_file(file_path):\n",
    "    df = pd.read_parquet(file_path)\n",
    "    if 'step' in df.columns:\n",
    "        df = df.drop('step', axis=1)\n",
    "    stats = df.describe().values.reshape(-1)\n",
    "    id_value = os.path.basename(os.path.dirname(file_path)).split('=')[1]\n",
    "    return stats, id_value\n",
    "\n",
    "def load_time_series(directory):\n",
    "    ids = os.listdir(directory)\n",
    "    all_stats = []\n",
    "    all_ids = []\n",
    "    for id_dir in tqdm(ids):\n",
    "        file_path = os.path.join(directory, id_dir, 'part-0.parquet')\n",
    "        if os.path.exists(file_path):\n",
    "            stats, id_value = process_file(file_path)\n",
    "            all_stats.append(stats)\n",
    "            all_ids.append(id_value)\n",
    "    num_features = len(all_stats[0])\n",
    "    columns = [f\"TS_Feature_{i}\" for i in range(num_features)]\n",
    "    df = pd.DataFrame({\n",
    "        'id': all_ids\n",
    "    })\n",
    "    df[columns] = all_stats\n",
    "    return df\n",
    "\n",
    "series_train_df = load_time_series('/kaggle/input/child-mind-institute-problematic-internet-use/series_train.parquet')\n",
    "series_test_df = load_time_series('/kaggle/input/child-mind-institute-problematic-internet-use/series_test.parquet')\n",
    "\n",
    "# Load the datasets\n",
    "tabular_train_df = pd.read_csv('/kaggle/input/child-mind-institute-problematic-internet-use/train.csv')\n",
    "tabular_test_df = pd.read_csv('/kaggle/input/child-mind-institute-problematic-internet-use/test.csv')\n",
    "\n",
    "train_df = pd.merge(tabular_train_df, series_train_df, how='left', on='id')\n",
    "test_df = pd.merge(tabular_test_df, series_test_df, how='left', on='id')\n"
   ]
  },
  {
   "cell_type": "markdown",
   "id": "a91cac59",
   "metadata": {
    "papermill": {
     "duration": 0.096093,
     "end_time": "2024-11-15T20:09:24.030991",
     "exception": false,
     "start_time": "2024-11-15T20:09:23.934898",
     "status": "completed"
    },
    "tags": []
   },
   "source": [
    "2. Traitement des valeurs manquantes des données d'entrainement:\n",
    "   * on fait appel à la fonction select(num_features contient les noms des colonnes de type numérique , cat_features contient les noms des colonnes de types categorielle )"
   ]
  },
  {
   "cell_type": "code",
   "execution_count": 3,
   "id": "a003827b",
   "metadata": {
    "execution": {
     "iopub.execute_input": "2024-11-15T20:09:24.225171Z",
     "iopub.status.busy": "2024-11-15T20:09:24.224727Z",
     "iopub.status.idle": "2024-11-15T20:09:24.235807Z",
     "shell.execute_reply": "2024-11-15T20:09:24.234615Z"
    },
    "papermill": {
     "duration": 0.111268,
     "end_time": "2024-11-15T20:09:24.238579",
     "exception": false,
     "start_time": "2024-11-15T20:09:24.127311",
     "status": "completed"
    },
    "tags": []
   },
   "outputs": [],
   "source": [
    "num_features = train_df.select_dtypes(include= ['int64' , 'float64']).columns\n",
    "cat_features = train_df.select_dtypes(include = 'object').columns"
   ]
  },
  {
   "cell_type": "markdown",
   "id": "cc2475aa",
   "metadata": {
    "papermill": {
     "duration": 0.095742,
     "end_time": "2024-11-15T20:09:24.431389",
     "exception": false,
     "start_time": "2024-11-15T20:09:24.335647",
     "status": "completed"
    },
    "tags": []
   },
   "source": [
    "* les noms des colonnes qui ont des valeurs manquantes des données d'entrainement"
   ]
  },
  {
   "cell_type": "code",
   "execution_count": 4,
   "id": "b60ce35f",
   "metadata": {
    "execution": {
     "iopub.execute_input": "2024-11-15T20:09:24.624439Z",
     "iopub.status.busy": "2024-11-15T20:09:24.623966Z",
     "iopub.status.idle": "2024-11-15T20:09:24.638432Z",
     "shell.execute_reply": "2024-11-15T20:09:24.637147Z"
    },
    "papermill": {
     "duration": 0.113858,
     "end_time": "2024-11-15T20:09:24.641003",
     "exception": false,
     "start_time": "2024-11-15T20:09:24.527145",
     "status": "completed"
    },
    "tags": []
   },
   "outputs": [
    {
     "name": "stdout",
     "output_type": "stream",
     "text": [
      "PAQ_A-Season                    3485\n",
      "PAQ_A-PAQ_A_Total               3485\n",
      "Fitness_Endurance-Time_Sec      3220\n",
      "Fitness_Endurance-Time_Mins     3220\n",
      "Fitness_Endurance-Max_Stage     3217\n",
      "Physical-Waist_Circumference    3062\n",
      "TS_Feature_7                    2964\n",
      "TS_Feature_34                   2964\n",
      "TS_Feature_35                   2964\n",
      "TS_Feature_36                   2964\n",
      "TS_Feature_37                   2964\n",
      "TS_Feature_38                   2964\n",
      "TS_Feature_39                   2964\n",
      "TS_Feature_40                   2964\n",
      "TS_Feature_42                   2964\n",
      "TS_Feature_41                   2964\n",
      "TS_Feature_32                   2964\n",
      "TS_Feature_43                   2964\n",
      "TS_Feature_44                   2964\n",
      "TS_Feature_45                   2964\n",
      "TS_Feature_46                   2964\n",
      "TS_Feature_47                   2964\n",
      "TS_Feature_48                   2964\n",
      "TS_Feature_49                   2964\n",
      "TS_Feature_50                   2964\n",
      "TS_Feature_33                   2964\n",
      "TS_Feature_30                   2964\n",
      "TS_Feature_31                   2964\n",
      "TS_Feature_20                   2964\n",
      "TS_Feature_12                   2964\n",
      "TS_Feature_13                   2964\n",
      "TS_Feature_14                   2964\n",
      "TS_Feature_15                   2964\n",
      "TS_Feature_16                   2964\n",
      "TS_Feature_17                   2964\n",
      "TS_Feature_18                   2964\n",
      "TS_Feature_19                   2964\n",
      "TS_Feature_21                   2964\n",
      "TS_Feature_52                   2964\n",
      "TS_Feature_22                   2964\n",
      "TS_Feature_23                   2964\n",
      "TS_Feature_24                   2964\n",
      "TS_Feature_25                   2964\n",
      "TS_Feature_26                   2964\n",
      "TS_Feature_27                   2964\n",
      "TS_Feature_28                   2964\n",
      "TS_Feature_29                   2964\n",
      "TS_Feature_51                   2964\n",
      "TS_Feature_54                   2964\n",
      "TS_Feature_53                   2964\n",
      "dtype: int64\n"
     ]
    }
   ],
   "source": [
    "print(train_df.isnull().sum().sort_values(ascending=False) [:50])"
   ]
  },
  {
   "cell_type": "markdown",
   "id": "ce6c8a2a",
   "metadata": {
    "papermill": {
     "duration": 0.096823,
     "end_time": "2024-11-15T20:09:24.834431",
     "exception": false,
     "start_time": "2024-11-15T20:09:24.737608",
     "status": "completed"
    },
    "tags": []
   },
   "source": [
    "* Remplacer les valeurs manquantes numériques avec median"
   ]
  },
  {
   "cell_type": "code",
   "execution_count": 5,
   "id": "853bfde4",
   "metadata": {
    "execution": {
     "iopub.execute_input": "2024-11-15T20:09:25.038229Z",
     "iopub.status.busy": "2024-11-15T20:09:25.037765Z",
     "iopub.status.idle": "2024-11-15T20:09:25.152004Z",
     "shell.execute_reply": "2024-11-15T20:09:25.150642Z"
    },
    "papermill": {
     "duration": 0.218617,
     "end_time": "2024-11-15T20:09:25.155024",
     "exception": false,
     "start_time": "2024-11-15T20:09:24.936407",
     "status": "completed"
    },
    "tags": []
   },
   "outputs": [],
   "source": [
    "for i in num_features:\n",
    "    train_df[i] = train_df[i].fillna(train_df[i].median())\n",
    "    "
   ]
  },
  {
   "cell_type": "markdown",
   "id": "800c9b2b",
   "metadata": {
    "papermill": {
     "duration": 0.095803,
     "end_time": "2024-11-15T20:09:25.421737",
     "exception": false,
     "start_time": "2024-11-15T20:09:25.325934",
     "status": "completed"
    },
    "tags": []
   },
   "source": [
    "* Remplacer les valeurs manquantes catégorielles avec la valeur la plus fréquente dans la colonne correspendante "
   ]
  },
  {
   "cell_type": "code",
   "execution_count": 6,
   "id": "6ce05d6d",
   "metadata": {
    "execution": {
     "iopub.execute_input": "2024-11-15T20:09:25.616695Z",
     "iopub.status.busy": "2024-11-15T20:09:25.616251Z",
     "iopub.status.idle": "2024-11-15T20:09:25.647639Z",
     "shell.execute_reply": "2024-11-15T20:09:25.646618Z"
    },
    "papermill": {
     "duration": 0.132267,
     "end_time": "2024-11-15T20:09:25.650311",
     "exception": false,
     "start_time": "2024-11-15T20:09:25.518044",
     "status": "completed"
    },
    "tags": []
   },
   "outputs": [],
   "source": [
    "for col in cat_features:\n",
    "    most_frequent_value = train_df[col].mode()[0]  \n",
    "    train_df[col] = train_df[col].fillna(most_frequent_value)  "
   ]
  },
  {
   "cell_type": "markdown",
   "id": "3695e02a",
   "metadata": {
    "papermill": {
     "duration": 0.096443,
     "end_time": "2024-11-15T20:09:25.843024",
     "exception": false,
     "start_time": "2024-11-15T20:09:25.746581",
     "status": "completed"
    },
    "tags": []
   },
   "source": [
    "3.  Suppression des colonnes **`id`** , **`sii`** et création des cibles **`y_train`**. :"
   ]
  },
  {
   "cell_type": "code",
   "execution_count": 7,
   "id": "13d5ba0b",
   "metadata": {
    "execution": {
     "iopub.execute_input": "2024-11-15T20:09:26.038965Z",
     "iopub.status.busy": "2024-11-15T20:09:26.038509Z",
     "iopub.status.idle": "2024-11-15T20:09:26.057801Z",
     "shell.execute_reply": "2024-11-15T20:09:26.056440Z"
    },
    "papermill": {
     "duration": 0.119778,
     "end_time": "2024-11-15T20:09:26.060241",
     "exception": false,
     "start_time": "2024-11-15T20:09:25.940463",
     "status": "completed"
    },
    "tags": []
   },
   "outputs": [
    {
     "name": "stdout",
     "output_type": "stream",
     "text": [
      "(3960, 176)\n",
      "178\n",
      "Valeurs de y_train (sii) :\n",
      "0    2.0\n",
      "1    0.0\n",
      "2    0.0\n",
      "3    1.0\n",
      "4    0.0\n",
      "Name: sii, dtype: float64\n",
      "[2. 0. 1. 3.]\n"
     ]
    }
   ],
   "source": [
    "X_train = train_df.drop(['id', 'sii'], axis = 1)\n",
    "Y_train = train_df['sii']\n",
    "print(X_train.shape)\n",
    "print(train_df.shape[1])\n",
    "print(\"Valeurs de y_train (sii) :\")\n",
    "print(Y_train.head())\n",
    "print(Y_train.unique())"
   ]
  },
  {
   "cell_type": "code",
   "execution_count": 8,
   "id": "07f36878",
   "metadata": {
    "execution": {
     "iopub.execute_input": "2024-11-15T20:09:26.256687Z",
     "iopub.status.busy": "2024-11-15T20:09:26.256218Z",
     "iopub.status.idle": "2024-11-15T20:09:26.262046Z",
     "shell.execute_reply": "2024-11-15T20:09:26.261006Z"
    },
    "papermill": {
     "duration": 0.106932,
     "end_time": "2024-11-15T20:09:26.264545",
     "exception": false,
     "start_time": "2024-11-15T20:09:26.157613",
     "status": "completed"
    },
    "tags": []
   },
   "outputs": [
    {
     "name": "stdout",
     "output_type": "stream",
     "text": [
      "176\n"
     ]
    }
   ],
   "source": [
    "print(X_train.shape[1])"
   ]
  },
  {
   "cell_type": "markdown",
   "id": "9fb3304d",
   "metadata": {
    "papermill": {
     "duration": 0.096244,
     "end_time": "2024-11-15T20:09:26.457795",
     "exception": false,
     "start_time": "2024-11-15T20:09:26.361551",
     "status": "completed"
    },
    "tags": []
   },
   "source": [
    "4. Encodage des variables catégorielles de l'entrainement:"
   ]
  },
  {
   "cell_type": "code",
   "execution_count": 9,
   "id": "67ab67e3",
   "metadata": {
    "execution": {
     "iopub.execute_input": "2024-11-15T20:09:26.652439Z",
     "iopub.status.busy": "2024-11-15T20:09:26.651645Z",
     "iopub.status.idle": "2024-11-15T20:09:26.681746Z",
     "shell.execute_reply": "2024-11-15T20:09:26.680796Z"
    },
    "papermill": {
     "duration": 0.130375,
     "end_time": "2024-11-15T20:09:26.684434",
     "exception": false,
     "start_time": "2024-11-15T20:09:26.554059",
     "status": "completed"
    },
    "tags": []
   },
   "outputs": [],
   "source": [
    "X_train = pd.get_dummies(X_train)"
   ]
  },
  {
   "cell_type": "markdown",
   "id": "d445ca99",
   "metadata": {
    "papermill": {
     "duration": 0.098626,
     "end_time": "2024-11-15T20:09:26.879704",
     "exception": false,
     "start_time": "2024-11-15T20:09:26.781078",
     "status": "completed"
    },
    "tags": []
   },
   "source": [
    "* Aprés avoir encodé les valeurs categorielles , on aura plus de colonnes du coup le num_features n'est plus le meme , donc on redefinit num_features "
   ]
  },
  {
   "cell_type": "code",
   "execution_count": 10,
   "id": "a4f67ceb",
   "metadata": {
    "execution": {
     "iopub.execute_input": "2024-11-15T20:09:27.075833Z",
     "iopub.status.busy": "2024-11-15T20:09:27.075324Z",
     "iopub.status.idle": "2024-11-15T20:09:27.082035Z",
     "shell.execute_reply": "2024-11-15T20:09:27.080874Z"
    },
    "papermill": {
     "duration": 0.108251,
     "end_time": "2024-11-15T20:09:27.084613",
     "exception": false,
     "start_time": "2024-11-15T20:09:26.976362",
     "status": "completed"
    },
    "tags": []
   },
   "outputs": [],
   "source": [
    "num_features = X_train.select_dtypes(include=['int64', 'float64']).columns"
   ]
  },
  {
   "cell_type": "markdown",
   "id": "3275a6a6",
   "metadata": {
    "papermill": {
     "duration": 0.096564,
     "end_time": "2024-11-15T20:09:27.291228",
     "exception": false,
     "start_time": "2024-11-15T20:09:27.194664",
     "status": "completed"
    },
    "tags": []
   },
   "source": [
    "5. Division des données d'entraînement  en ensembles d'entraînement et de validation:\n"
   ]
  },
  {
   "cell_type": "code",
   "execution_count": 11,
   "id": "15f4d312",
   "metadata": {
    "execution": {
     "iopub.execute_input": "2024-11-15T20:09:27.493098Z",
     "iopub.status.busy": "2024-11-15T20:09:27.492657Z",
     "iopub.status.idle": "2024-11-15T20:09:28.978625Z",
     "shell.execute_reply": "2024-11-15T20:09:28.977457Z"
    },
    "papermill": {
     "duration": 1.588533,
     "end_time": "2024-11-15T20:09:28.981275",
     "exception": false,
     "start_time": "2024-11-15T20:09:27.392742",
     "status": "completed"
    },
    "tags": []
   },
   "outputs": [
    {
     "name": "stdout",
     "output_type": "stream",
     "text": [
      "Colonnes de x_train : (3168, 209)\n",
      "Colonnes de x_val : (792, 209)\n"
     ]
    }
   ],
   "source": [
    "from sklearn.model_selection import train_test_split\n",
    "x_train, x_val, y_train, y_val = train_test_split(X_train, Y_train, test_size=0.2, random_state=42)\n",
    "\n",
    "print(\"Colonnes de x_train :\", x_train.shape)\n",
    "print(\"Colonnes de x_val :\", x_val.shape) \n"
   ]
  },
  {
   "cell_type": "markdown",
   "id": "70cb7555",
   "metadata": {
    "papermill": {
     "duration": 0.097926,
     "end_time": "2024-11-15T20:09:29.176402",
     "exception": false,
     "start_time": "2024-11-15T20:09:29.078476",
     "status": "completed"
    },
    "tags": []
   },
   "source": [
    "6. Normalisation des données numériques d'entrainement et de validation :"
   ]
  },
  {
   "cell_type": "code",
   "execution_count": 12,
   "id": "2272d7c8",
   "metadata": {
    "execution": {
     "iopub.execute_input": "2024-11-15T20:09:29.373094Z",
     "iopub.status.busy": "2024-11-15T20:09:29.372449Z",
     "iopub.status.idle": "2024-11-15T20:09:29.439839Z",
     "shell.execute_reply": "2024-11-15T20:09:29.438866Z"
    },
    "papermill": {
     "duration": 0.169251,
     "end_time": "2024-11-15T20:09:29.442623",
     "exception": false,
     "start_time": "2024-11-15T20:09:29.273372",
     "status": "completed"
    },
    "tags": []
   },
   "outputs": [],
   "source": [
    "from sklearn.preprocessing import StandardScaler\n",
    "scaler = StandardScaler()\n",
    "x_train[num_features] = scaler.fit_transform(x_train[num_features])  # Normaliser x_train\n",
    "x_val[num_features] = scaler.transform(x_val[num_features])  # Normaliser x_val avec le même scaler\n"
   ]
  },
  {
   "cell_type": "markdown",
   "id": "4cc0f337",
   "metadata": {
    "papermill": {
     "duration": 0.097245,
     "end_time": "2024-11-15T20:09:29.637173",
     "exception": false,
     "start_time": "2024-11-15T20:09:29.539928",
     "status": "completed"
    },
    "tags": []
   },
   "source": [
    "7. Traitement des valeurs manquantes des données de test "
   ]
  },
  {
   "cell_type": "code",
   "execution_count": 13,
   "id": "0b42f962",
   "metadata": {
    "execution": {
     "iopub.execute_input": "2024-11-15T20:09:29.832460Z",
     "iopub.status.busy": "2024-11-15T20:09:29.832002Z",
     "iopub.status.idle": "2024-11-15T20:09:29.841451Z",
     "shell.execute_reply": "2024-11-15T20:09:29.839793Z"
    },
    "papermill": {
     "duration": 0.110639,
     "end_time": "2024-11-15T20:09:29.843839",
     "exception": false,
     "start_time": "2024-11-15T20:09:29.733200",
     "status": "completed"
    },
    "tags": []
   },
   "outputs": [
    {
     "name": "stdout",
     "output_type": "stream",
     "text": [
      "Index(['id', 'Basic_Demos-Enroll_Season', 'Basic_Demos-Age', 'Basic_Demos-Sex',\n",
      "       'CGAS-Season', 'CGAS-CGAS_Score', 'Physical-Season', 'Physical-BMI',\n",
      "       'Physical-Height', 'Physical-Weight',\n",
      "       ...\n",
      "       'TS_Feature_86', 'TS_Feature_87', 'TS_Feature_88', 'TS_Feature_89',\n",
      "       'TS_Feature_90', 'TS_Feature_91', 'TS_Feature_92', 'TS_Feature_93',\n",
      "       'TS_Feature_94', 'TS_Feature_95'],\n",
      "      dtype='object', length=155)\n",
      "155\n"
     ]
    }
   ],
   "source": [
    "num_features_test = test_df.select_dtypes(include= ['int64' , 'float64']).columns\n",
    "cat_features_test = test_df.select_dtypes(include = 'object').columns\n",
    "print(test_df.columns)\n",
    "print(test_df.shape[1])"
   ]
  },
  {
   "cell_type": "markdown",
   "id": "9c2c728c",
   "metadata": {
    "papermill": {
     "duration": 0.097587,
     "end_time": "2024-11-15T20:09:30.041242",
     "exception": false,
     "start_time": "2024-11-15T20:09:29.943655",
     "status": "completed"
    },
    "tags": []
   },
   "source": [
    "* les noms des colonnes qui ont des valeurs manquantes des données de test"
   ]
  },
  {
   "cell_type": "code",
   "execution_count": 14,
   "id": "62b694df",
   "metadata": {
    "execution": {
     "iopub.execute_input": "2024-11-15T20:09:30.240788Z",
     "iopub.status.busy": "2024-11-15T20:09:30.239841Z",
     "iopub.status.idle": "2024-11-15T20:09:30.248805Z",
     "shell.execute_reply": "2024-11-15T20:09:30.247650Z"
    },
    "papermill": {
     "duration": 0.111091,
     "end_time": "2024-11-15T20:09:30.252245",
     "exception": false,
     "start_time": "2024-11-15T20:09:30.141154",
     "status": "completed"
    },
    "tags": []
   },
   "outputs": [
    {
     "name": "stdout",
     "output_type": "stream",
     "text": [
      "PAQ_A-PAQ_A_Total    19\n",
      "PAQ_A-Season         19\n",
      "TS_Feature_18        18\n",
      "TS_Feature_47        18\n",
      "TS_Feature_42        18\n",
      "TS_Feature_43        18\n",
      "TS_Feature_44        18\n",
      "TS_Feature_45        18\n",
      "TS_Feature_46        18\n",
      "TS_Feature_48        18\n",
      "TS_Feature_40        18\n",
      "TS_Feature_49        18\n",
      "TS_Feature_50        18\n",
      "TS_Feature_51        18\n",
      "TS_Feature_52        18\n",
      "TS_Feature_53        18\n",
      "TS_Feature_54        18\n",
      "TS_Feature_55        18\n",
      "TS_Feature_41        18\n",
      "TS_Feature_39        18\n",
      "TS_Feature_20        18\n",
      "TS_Feature_29        18\n",
      "TS_Feature_22        18\n",
      "TS_Feature_23        18\n",
      "TS_Feature_24        18\n",
      "TS_Feature_25        18\n",
      "TS_Feature_26        18\n",
      "TS_Feature_27        18\n",
      "TS_Feature_28        18\n",
      "TS_Feature_30        18\n",
      "TS_Feature_38        18\n",
      "TS_Feature_31        18\n",
      "TS_Feature_32        18\n",
      "TS_Feature_33        18\n",
      "TS_Feature_34        18\n",
      "TS_Feature_35        18\n",
      "TS_Feature_36        18\n",
      "TS_Feature_37        18\n",
      "TS_Feature_56        18\n",
      "TS_Feature_57        18\n",
      "TS_Feature_58        18\n",
      "TS_Feature_86        18\n",
      "TS_Feature_79        18\n",
      "TS_Feature_80        18\n",
      "TS_Feature_81        18\n",
      "TS_Feature_82        18\n",
      "TS_Feature_83        18\n",
      "TS_Feature_84        18\n",
      "TS_Feature_85        18\n",
      "TS_Feature_87        18\n",
      "dtype: int64\n"
     ]
    }
   ],
   "source": [
    "print(test_df.isnull().sum().sort_values(ascending=False) [:50])"
   ]
  },
  {
   "cell_type": "markdown",
   "id": "d2b6c8bb",
   "metadata": {
    "papermill": {
     "duration": 0.097202,
     "end_time": "2024-11-15T20:09:30.447432",
     "exception": false,
     "start_time": "2024-11-15T20:09:30.350230",
     "status": "completed"
    },
    "tags": []
   },
   "source": [
    "* Remplacer les valeurs manquantes numériques des données de test avec median d'entrainement"
   ]
  },
  {
   "cell_type": "code",
   "execution_count": 15,
   "id": "1f23695e",
   "metadata": {
    "execution": {
     "iopub.execute_input": "2024-11-15T20:09:30.644350Z",
     "iopub.status.busy": "2024-11-15T20:09:30.643392Z",
     "iopub.status.idle": "2024-11-15T20:09:30.740938Z",
     "shell.execute_reply": "2024-11-15T20:09:30.739904Z"
    },
    "papermill": {
     "duration": 0.199149,
     "end_time": "2024-11-15T20:09:30.743707",
     "exception": false,
     "start_time": "2024-11-15T20:09:30.544558",
     "status": "completed"
    },
    "tags": []
   },
   "outputs": [],
   "source": [
    "for i in num_features_test:\n",
    "    test_df[i] = train_df[i].fillna(train_df[i].median())"
   ]
  },
  {
   "cell_type": "markdown",
   "id": "0369b1a6",
   "metadata": {
    "papermill": {
     "duration": 0.098735,
     "end_time": "2024-11-15T20:09:30.939283",
     "exception": false,
     "start_time": "2024-11-15T20:09:30.840548",
     "status": "completed"
    },
    "tags": []
   },
   "source": [
    "* Remplacer les valeurs manquantes catégorielles dans les données de test  avec la valeur la plus fréquente dans la colonne correspendante (des données d'entrainement toujours)"
   ]
  },
  {
   "cell_type": "code",
   "execution_count": 16,
   "id": "c6f0f902",
   "metadata": {
    "execution": {
     "iopub.execute_input": "2024-11-15T20:09:31.137449Z",
     "iopub.status.busy": "2024-11-15T20:09:31.136731Z",
     "iopub.status.idle": "2024-11-15T20:09:31.163059Z",
     "shell.execute_reply": "2024-11-15T20:09:31.161759Z"
    },
    "papermill": {
     "duration": 0.128408,
     "end_time": "2024-11-15T20:09:31.165436",
     "exception": false,
     "start_time": "2024-11-15T20:09:31.037028",
     "status": "completed"
    },
    "tags": []
   },
   "outputs": [],
   "source": [
    "for col in cat_features_test:\n",
    "    most_frequent_value = train_df[col].mode()[0]  # Trouver la valeur la plus fréquente\n",
    "    test_df[col] = test_df[col].fillna(most_frequent_value)  # Remplacer les valeurs manquantes\n",
    "\n"
   ]
  },
  {
   "cell_type": "markdown",
   "id": "fc299a96",
   "metadata": {
    "papermill": {
     "duration": 0.097419,
     "end_time": "2024-11-15T20:09:31.360071",
     "exception": false,
     "start_time": "2024-11-15T20:09:31.262652",
     "status": "completed"
    },
    "tags": []
   },
   "source": [
    "* Suppression de la colonne **`id`** dans les données de test"
   ]
  },
  {
   "cell_type": "code",
   "execution_count": 17,
   "id": "d2235858",
   "metadata": {
    "execution": {
     "iopub.execute_input": "2024-11-15T20:09:31.554988Z",
     "iopub.status.busy": "2024-11-15T20:09:31.554533Z",
     "iopub.status.idle": "2024-11-15T20:09:31.566415Z",
     "shell.execute_reply": "2024-11-15T20:09:31.565424Z"
    },
    "papermill": {
     "duration": 0.11227,
     "end_time": "2024-11-15T20:09:31.568921",
     "exception": false,
     "start_time": "2024-11-15T20:09:31.456651",
     "status": "completed"
    },
    "tags": []
   },
   "outputs": [],
   "source": [
    "Test_df = test_df.drop(['id'], axis = 1)"
   ]
  },
  {
   "cell_type": "markdown",
   "id": "f143ae6a",
   "metadata": {
    "papermill": {
     "duration": 0.095892,
     "end_time": "2024-11-15T20:09:31.761500",
     "exception": false,
     "start_time": "2024-11-15T20:09:31.665608",
     "status": "completed"
    },
    "tags": []
   },
   "source": [
    "* Normalisation des données numérique de test "
   ]
  },
  {
   "cell_type": "code",
   "execution_count": 18,
   "id": "5e22ec27",
   "metadata": {
    "execution": {
     "iopub.execute_input": "2024-11-15T20:09:31.958933Z",
     "iopub.status.busy": "2024-11-15T20:09:31.958515Z",
     "iopub.status.idle": "2024-11-15T20:09:31.996202Z",
     "shell.execute_reply": "2024-11-15T20:09:31.994899Z"
    },
    "papermill": {
     "duration": 0.141139,
     "end_time": "2024-11-15T20:09:31.998828",
     "exception": false,
     "start_time": "2024-11-15T20:09:31.857689",
     "status": "completed"
    },
    "tags": []
   },
   "outputs": [
    {
     "name": "stdout",
     "output_type": "stream",
     "text": [
      "154\n"
     ]
    }
   ],
   "source": [
    " from sklearn.preprocessing import StandardScaler\n",
    "scaler = StandardScaler()\n",
    "Test_df[num_features_test] = scaler.fit_transform(Test_df[num_features_test])  \n",
    "print(Test_df.shape[1])"
   ]
  },
  {
   "cell_type": "markdown",
   "id": "abc51c65",
   "metadata": {
    "papermill": {
     "duration": 0.096703,
     "end_time": "2024-11-15T20:09:32.193058",
     "exception": false,
     "start_time": "2024-11-15T20:09:32.096355",
     "status": "completed"
    },
    "tags": []
   },
   "source": [
    "* Encodage des variables catégorielles dans les données de test"
   ]
  },
  {
   "cell_type": "code",
   "execution_count": 19,
   "id": "2797b80b",
   "metadata": {
    "execution": {
     "iopub.execute_input": "2024-11-15T20:09:32.389680Z",
     "iopub.status.busy": "2024-11-15T20:09:32.389222Z",
     "iopub.status.idle": "2024-11-15T20:09:32.408096Z",
     "shell.execute_reply": "2024-11-15T20:09:32.406930Z"
    },
    "papermill": {
     "duration": 0.121045,
     "end_time": "2024-11-15T20:09:32.411074",
     "exception": false,
     "start_time": "2024-11-15T20:09:32.290029",
     "status": "completed"
    },
    "tags": []
   },
   "outputs": [],
   "source": [
    "Test_df = pd.get_dummies(Test_df)"
   ]
  },
  {
   "cell_type": "markdown",
   "id": "6f81ae24",
   "metadata": {
    "papermill": {
     "duration": 0.09669,
     "end_time": "2024-11-15T20:09:32.606056",
     "exception": false,
     "start_time": "2024-11-15T20:09:32.509366",
     "status": "completed"
    },
    "tags": []
   },
   "source": [
    "* Aprés avoir encodé les valeurs categorielles , on aura plus de colonnes du coup le num_features_test n'est plus le meme , donc on redefinit num_features "
   ]
  },
  {
   "cell_type": "code",
   "execution_count": 20,
   "id": "4a36306a",
   "metadata": {
    "execution": {
     "iopub.execute_input": "2024-11-15T20:09:32.801388Z",
     "iopub.status.busy": "2024-11-15T20:09:32.800952Z",
     "iopub.status.idle": "2024-11-15T20:09:32.807666Z",
     "shell.execute_reply": "2024-11-15T20:09:32.806644Z"
    },
    "papermill": {
     "duration": 0.10737,
     "end_time": "2024-11-15T20:09:32.810395",
     "exception": false,
     "start_time": "2024-11-15T20:09:32.703025",
     "status": "completed"
    },
    "tags": []
   },
   "outputs": [
    {
     "name": "stdout",
     "output_type": "stream",
     "text": [
      "180\n"
     ]
    }
   ],
   "source": [
    "num_features_test = Test_df.select_dtypes(include=['int64', 'float64']).columns \n",
    "print(Test_df.shape[1])"
   ]
  },
  {
   "cell_type": "code",
   "execution_count": 21,
   "id": "7c2ec6bf",
   "metadata": {
    "execution": {
     "iopub.execute_input": "2024-11-15T20:09:33.008231Z",
     "iopub.status.busy": "2024-11-15T20:09:33.007793Z",
     "iopub.status.idle": "2024-11-15T20:09:33.014007Z",
     "shell.execute_reply": "2024-11-15T20:09:33.012781Z"
    },
    "papermill": {
     "duration": 0.107917,
     "end_time": "2024-11-15T20:09:33.016761",
     "exception": false,
     "start_time": "2024-11-15T20:09:32.908844",
     "status": "completed"
    },
    "tags": []
   },
   "outputs": [
    {
     "name": "stdout",
     "output_type": "stream",
     "text": [
      "Nombre de colonnes dans X_train aprés l'encodage des données  : 209\n",
      "Nombre de colonnes dans test_df aprés l'encodage de données  : 180\n"
     ]
    }
   ],
   "source": [
    "print(\"Nombre de colonnes dans X_train aprés l'encodage des données  :\", X_train.shape[1])\n",
    "print(\"Nombre de colonnes dans test_df aprés l'encodage de données  :\", Test_df.shape[1])"
   ]
  },
  {
   "cell_type": "markdown",
   "id": "a9ca4817",
   "metadata": {
    "papermill": {
     "duration": 0.097746,
     "end_time": "2024-11-15T20:09:33.211994",
     "exception": false,
     "start_time": "2024-11-15T20:09:33.114248",
     "status": "completed"
    },
    "tags": []
   },
   "source": [
    "8. Alignement des colonnes entre les ensembles d'entraînement et de test :\n",
    "\n",
    "    * On remarque que l'ensemble d'entrainement a plus de colonnes que l'ensemble de test\n",
    "    * On Ajoute les colonnes manquantes dans test_df avec des valeurs 0\n",
    "    * On Réorganise les colonnes de test_df pour correspondre à l'ordre de X_train"
   ]
  },
  {
   "cell_type": "code",
   "execution_count": 22,
   "id": "9a6f4a0f",
   "metadata": {
    "execution": {
     "iopub.execute_input": "2024-11-15T20:09:33.411445Z",
     "iopub.status.busy": "2024-11-15T20:09:33.410433Z",
     "iopub.status.idle": "2024-11-15T20:09:33.429414Z",
     "shell.execute_reply": "2024-11-15T20:09:33.428300Z"
    },
    "papermill": {
     "duration": 0.123005,
     "end_time": "2024-11-15T20:09:33.432844",
     "exception": false,
     "start_time": "2024-11-15T20:09:33.309839",
     "status": "completed"
    },
    "tags": []
   },
   "outputs": [
    {
     "name": "stdout",
     "output_type": "stream",
     "text": [
      "Colonnes uniquement dans X_train : {'PCIAT-PCIAT_07', 'PCIAT-PCIAT_05', 'PCIAT-Season_Spring', 'Fitness_Endurance-Season_Winter', 'PCIAT-PCIAT_18', 'PCIAT-PCIAT_20', 'PCIAT-PCIAT_13', 'PCIAT-Season_Summer', 'PCIAT-Season_Fall', 'PAQ_A-Season_Spring', 'PCIAT-PCIAT_Total', 'BIA-Season_Spring', 'PCIAT-PCIAT_11', 'PCIAT-PCIAT_02', 'PCIAT-PCIAT_01', 'PCIAT-PCIAT_10', 'PCIAT-PCIAT_19', 'PCIAT-PCIAT_12', 'PCIAT-PCIAT_04', 'PCIAT-PCIAT_08', 'PCIAT-PCIAT_16', 'PCIAT-PCIAT_06', 'PCIAT-PCIAT_09', 'PCIAT-PCIAT_15', 'PAQ_A-Season_Fall', 'PCIAT-Season_Winter', 'PCIAT-PCIAT_17', 'PCIAT-PCIAT_14', 'PCIAT-PCIAT_03'}\n",
      "Nombre de colonnes dans X_train : 209\n",
      "Nombre de colonnes dans Test_df : 209\n"
     ]
    }
   ],
   "source": [
    "columns_only_in_train = set(X_train.columns) - set(Test_df.columns)\n",
    "print(\"Colonnes uniquement dans X_train :\", columns_only_in_train)\n",
    "\n",
    "\n",
    "for col in columns_only_in_train:\n",
    "    Test_df[col] = 0\n",
    "\n",
    "\n",
    "Test_df = Test_df[X_train.columns]\n",
    "print(\"Nombre de colonnes dans X_train :\", X_train.shape[1])\n",
    "print(\"Nombre de colonnes dans Test_df :\", Test_df.shape[1])"
   ]
  },
  {
   "cell_type": "code",
   "execution_count": 23,
   "id": "641efcfd",
   "metadata": {
    "execution": {
     "iopub.execute_input": "2024-11-15T20:09:33.632134Z",
     "iopub.status.busy": "2024-11-15T20:09:33.631696Z",
     "iopub.status.idle": "2024-11-15T20:10:10.153962Z",
     "shell.execute_reply": "2024-11-15T20:10:10.152453Z"
    },
    "papermill": {
     "duration": 36.624661,
     "end_time": "2024-11-15T20:10:10.156606",
     "exception": false,
     "start_time": "2024-11-15T20:09:33.531945",
     "status": "completed"
    },
    "tags": []
   },
   "outputs": [
    {
     "name": "stderr",
     "output_type": "stream",
     "text": [
      "/opt/conda/lib/python3.10/site-packages/keras/src/layers/core/dense.py:87: UserWarning: Do not pass an `input_shape`/`input_dim` argument to a layer. When using Sequential models, prefer using an `Input(shape)` object as the first layer in the model instead.\n",
      "  super().__init__(activity_regularizer=activity_regularizer, **kwargs)\n"
     ]
    },
    {
     "name": "stdout",
     "output_type": "stream",
     "text": [
      "Epoch 1/100\n",
      "\u001b[1m99/99\u001b[0m \u001b[32m━━━━━━━━━━━━━━━━━━━━\u001b[0m\u001b[37m\u001b[0m \u001b[1m1s\u001b[0m 2ms/step - loss: 1.3819 - mean_absolute_error: 0.7859\n",
      "Epoch 2/100\n",
      "\u001b[1m99/99\u001b[0m \u001b[32m━━━━━━━━━━━━━━━━━━━━\u001b[0m\u001b[37m\u001b[0m \u001b[1m0s\u001b[0m 2ms/step - loss: 0.5816 - mean_absolute_error: 0.4808\n",
      "Epoch 3/100\n",
      "\u001b[1m99/99\u001b[0m \u001b[32m━━━━━━━━━━━━━━━━━━━━\u001b[0m\u001b[37m\u001b[0m \u001b[1m0s\u001b[0m 2ms/step - loss: 0.3604 - mean_absolute_error: 0.3814\n",
      "Epoch 4/100\n",
      "\u001b[1m99/99\u001b[0m \u001b[32m━━━━━━━━━━━━━━━━━━━━\u001b[0m\u001b[37m\u001b[0m \u001b[1m0s\u001b[0m 2ms/step - loss: 0.2476 - mean_absolute_error: 0.3243\n",
      "Epoch 5/100\n",
      "\u001b[1m99/99\u001b[0m \u001b[32m━━━━━━━━━━━━━━━━━━━━\u001b[0m\u001b[37m\u001b[0m \u001b[1m0s\u001b[0m 2ms/step - loss: 0.1837 - mean_absolute_error: 0.2905\n",
      "Epoch 6/100\n",
      "\u001b[1m99/99\u001b[0m \u001b[32m━━━━━━━━━━━━━━━━━━━━\u001b[0m\u001b[37m\u001b[0m \u001b[1m0s\u001b[0m 2ms/step - loss: 0.1457 - mean_absolute_error: 0.2691\n",
      "Epoch 7/100\n",
      "\u001b[1m99/99\u001b[0m \u001b[32m━━━━━━━━━━━━━━━━━━━━\u001b[0m\u001b[37m\u001b[0m \u001b[1m0s\u001b[0m 2ms/step - loss: 0.1228 - mean_absolute_error: 0.2546\n",
      "Epoch 8/100\n",
      "\u001b[1m99/99\u001b[0m \u001b[32m━━━━━━━━━━━━━━━━━━━━\u001b[0m\u001b[37m\u001b[0m \u001b[1m0s\u001b[0m 2ms/step - loss: 0.1090 - mean_absolute_error: 0.2453\n",
      "Epoch 9/100\n",
      "\u001b[1m99/99\u001b[0m \u001b[32m━━━━━━━━━━━━━━━━━━━━\u001b[0m\u001b[37m\u001b[0m \u001b[1m0s\u001b[0m 2ms/step - loss: 0.1005 - mean_absolute_error: 0.2387\n",
      "Epoch 10/100\n",
      "\u001b[1m99/99\u001b[0m \u001b[32m━━━━━━━━━━━━━━━━━━━━\u001b[0m\u001b[37m\u001b[0m \u001b[1m0s\u001b[0m 2ms/step - loss: 0.0952 - mean_absolute_error: 0.2336\n",
      "Epoch 11/100\n",
      "\u001b[1m99/99\u001b[0m \u001b[32m━━━━━━━━━━━━━━━━━━━━\u001b[0m\u001b[37m\u001b[0m \u001b[1m0s\u001b[0m 2ms/step - loss: 0.0917 - mean_absolute_error: 0.2296\n",
      "Epoch 12/100\n",
      "\u001b[1m99/99\u001b[0m \u001b[32m━━━━━━━━━━━━━━━━━━━━\u001b[0m\u001b[37m\u001b[0m \u001b[1m0s\u001b[0m 2ms/step - loss: 0.0893 - mean_absolute_error: 0.2267\n",
      "Epoch 13/100\n",
      "\u001b[1m99/99\u001b[0m \u001b[32m━━━━━━━━━━━━━━━━━━━━\u001b[0m\u001b[37m\u001b[0m \u001b[1m0s\u001b[0m 2ms/step - loss: 0.0876 - mean_absolute_error: 0.2244\n",
      "Epoch 14/100\n",
      "\u001b[1m99/99\u001b[0m \u001b[32m━━━━━━━━━━━━━━━━━━━━\u001b[0m\u001b[37m\u001b[0m \u001b[1m0s\u001b[0m 2ms/step - loss: 0.0863 - mean_absolute_error: 0.2227\n",
      "Epoch 15/100\n",
      "\u001b[1m99/99\u001b[0m \u001b[32m━━━━━━━━━━━━━━━━━━━━\u001b[0m\u001b[37m\u001b[0m \u001b[1m0s\u001b[0m 2ms/step - loss: 0.0852 - mean_absolute_error: 0.2213\n",
      "Epoch 16/100\n",
      "\u001b[1m99/99\u001b[0m \u001b[32m━━━━━━━━━━━━━━━━━━━━\u001b[0m\u001b[37m\u001b[0m \u001b[1m0s\u001b[0m 2ms/step - loss: 0.0843 - mean_absolute_error: 0.2203\n",
      "Epoch 17/100\n",
      "\u001b[1m99/99\u001b[0m \u001b[32m━━━━━━━━━━━━━━━━━━━━\u001b[0m\u001b[37m\u001b[0m \u001b[1m0s\u001b[0m 2ms/step - loss: 0.0836 - mean_absolute_error: 0.2194\n",
      "Epoch 18/100\n",
      "\u001b[1m99/99\u001b[0m \u001b[32m━━━━━━━━━━━━━━━━━━━━\u001b[0m\u001b[37m\u001b[0m \u001b[1m0s\u001b[0m 2ms/step - loss: 0.0830 - mean_absolute_error: 0.2186\n",
      "Epoch 19/100\n",
      "\u001b[1m99/99\u001b[0m \u001b[32m━━━━━━━━━━━━━━━━━━━━\u001b[0m\u001b[37m\u001b[0m \u001b[1m0s\u001b[0m 2ms/step - loss: 0.0825 - mean_absolute_error: 0.2180\n",
      "Epoch 20/100\n",
      "\u001b[1m99/99\u001b[0m \u001b[32m━━━━━━━━━━━━━━━━━━━━\u001b[0m\u001b[37m\u001b[0m \u001b[1m0s\u001b[0m 2ms/step - loss: 0.0821 - mean_absolute_error: 0.2174\n",
      "Epoch 21/100\n",
      "\u001b[1m99/99\u001b[0m \u001b[32m━━━━━━━━━━━━━━━━━━━━\u001b[0m\u001b[37m\u001b[0m \u001b[1m0s\u001b[0m 2ms/step - loss: 0.0818 - mean_absolute_error: 0.2169\n",
      "Epoch 22/100\n",
      "\u001b[1m99/99\u001b[0m \u001b[32m━━━━━━━━━━━━━━━━━━━━\u001b[0m\u001b[37m\u001b[0m \u001b[1m0s\u001b[0m 2ms/step - loss: 0.0814 - mean_absolute_error: 0.2164\n",
      "Epoch 23/100\n",
      "\u001b[1m99/99\u001b[0m \u001b[32m━━━━━━━━━━━━━━━━━━━━\u001b[0m\u001b[37m\u001b[0m \u001b[1m0s\u001b[0m 2ms/step - loss: 0.0811 - mean_absolute_error: 0.2161\n",
      "Epoch 24/100\n",
      "\u001b[1m99/99\u001b[0m \u001b[32m━━━━━━━━━━━━━━━━━━━━\u001b[0m\u001b[37m\u001b[0m \u001b[1m0s\u001b[0m 2ms/step - loss: 0.0809 - mean_absolute_error: 0.2157\n",
      "Epoch 25/100\n",
      "\u001b[1m99/99\u001b[0m \u001b[32m━━━━━━━━━━━━━━━━━━━━\u001b[0m\u001b[37m\u001b[0m \u001b[1m0s\u001b[0m 2ms/step - loss: 0.0807 - mean_absolute_error: 0.2155\n",
      "Epoch 26/100\n",
      "\u001b[1m99/99\u001b[0m \u001b[32m━━━━━━━━━━━━━━━━━━━━\u001b[0m\u001b[37m\u001b[0m \u001b[1m0s\u001b[0m 2ms/step - loss: 0.0805 - mean_absolute_error: 0.2152\n",
      "Epoch 27/100\n",
      "\u001b[1m99/99\u001b[0m \u001b[32m━━━━━━━━━━━━━━━━━━━━\u001b[0m\u001b[37m\u001b[0m \u001b[1m0s\u001b[0m 2ms/step - loss: 0.0803 - mean_absolute_error: 0.2149\n",
      "Epoch 28/100\n",
      "\u001b[1m99/99\u001b[0m \u001b[32m━━━━━━━━━━━━━━━━━━━━\u001b[0m\u001b[37m\u001b[0m \u001b[1m0s\u001b[0m 2ms/step - loss: 0.0801 - mean_absolute_error: 0.2146\n",
      "Epoch 29/100\n",
      "\u001b[1m99/99\u001b[0m \u001b[32m━━━━━━━━━━━━━━━━━━━━\u001b[0m\u001b[37m\u001b[0m \u001b[1m0s\u001b[0m 2ms/step - loss: 0.0800 - mean_absolute_error: 0.2144\n",
      "Epoch 30/100\n",
      "\u001b[1m99/99\u001b[0m \u001b[32m━━━━━━━━━━━━━━━━━━━━\u001b[0m\u001b[37m\u001b[0m \u001b[1m0s\u001b[0m 2ms/step - loss: 0.0798 - mean_absolute_error: 0.2142\n",
      "Epoch 31/100\n",
      "\u001b[1m99/99\u001b[0m \u001b[32m━━━━━━━━━━━━━━━━━━━━\u001b[0m\u001b[37m\u001b[0m \u001b[1m0s\u001b[0m 2ms/step - loss: 0.0797 - mean_absolute_error: 0.2140\n",
      "Epoch 32/100\n",
      "\u001b[1m99/99\u001b[0m \u001b[32m━━━━━━━━━━━━━━━━━━━━\u001b[0m\u001b[37m\u001b[0m \u001b[1m0s\u001b[0m 2ms/step - loss: 0.0796 - mean_absolute_error: 0.2138\n",
      "Epoch 33/100\n",
      "\u001b[1m99/99\u001b[0m \u001b[32m━━━━━━━━━━━━━━━━━━━━\u001b[0m\u001b[37m\u001b[0m \u001b[1m0s\u001b[0m 2ms/step - loss: 0.0795 - mean_absolute_error: 0.2136\n",
      "Epoch 34/100\n",
      "\u001b[1m99/99\u001b[0m \u001b[32m━━━━━━━━━━━━━━━━━━━━\u001b[0m\u001b[37m\u001b[0m \u001b[1m0s\u001b[0m 2ms/step - loss: 0.0793 - mean_absolute_error: 0.2134\n",
      "Epoch 35/100\n",
      "\u001b[1m99/99\u001b[0m \u001b[32m━━━━━━━━━━━━━━━━━━━━\u001b[0m\u001b[37m\u001b[0m \u001b[1m0s\u001b[0m 2ms/step - loss: 0.0792 - mean_absolute_error: 0.2132\n",
      "Epoch 36/100\n",
      "\u001b[1m99/99\u001b[0m \u001b[32m━━━━━━━━━━━━━━━━━━━━\u001b[0m\u001b[37m\u001b[0m \u001b[1m0s\u001b[0m 2ms/step - loss: 0.0791 - mean_absolute_error: 0.2130\n",
      "Epoch 37/100\n",
      "\u001b[1m99/99\u001b[0m \u001b[32m━━━━━━━━━━━━━━━━━━━━\u001b[0m\u001b[37m\u001b[0m \u001b[1m0s\u001b[0m 2ms/step - loss: 0.0790 - mean_absolute_error: 0.2128\n",
      "Epoch 38/100\n",
      "\u001b[1m99/99\u001b[0m \u001b[32m━━━━━━━━━━━━━━━━━━━━\u001b[0m\u001b[37m\u001b[0m \u001b[1m0s\u001b[0m 2ms/step - loss: 0.0790 - mean_absolute_error: 0.2126\n",
      "Epoch 39/100\n",
      "\u001b[1m99/99\u001b[0m \u001b[32m━━━━━━━━━━━━━━━━━━━━\u001b[0m\u001b[37m\u001b[0m \u001b[1m0s\u001b[0m 2ms/step - loss: 0.0789 - mean_absolute_error: 0.2124\n",
      "Epoch 40/100\n",
      "\u001b[1m99/99\u001b[0m \u001b[32m━━━━━━━━━━━━━━━━━━━━\u001b[0m\u001b[37m\u001b[0m \u001b[1m0s\u001b[0m 2ms/step - loss: 0.0788 - mean_absolute_error: 0.2123\n",
      "Epoch 41/100\n",
      "\u001b[1m99/99\u001b[0m \u001b[32m━━━━━━━━━━━━━━━━━━━━\u001b[0m\u001b[37m\u001b[0m \u001b[1m0s\u001b[0m 2ms/step - loss: 0.0787 - mean_absolute_error: 0.2121\n",
      "Epoch 42/100\n",
      "\u001b[1m99/99\u001b[0m \u001b[32m━━━━━━━━━━━━━━━━━━━━\u001b[0m\u001b[37m\u001b[0m \u001b[1m0s\u001b[0m 2ms/step - loss: 0.0786 - mean_absolute_error: 0.2119\n",
      "Epoch 43/100\n",
      "\u001b[1m99/99\u001b[0m \u001b[32m━━━━━━━━━━━━━━━━━━━━\u001b[0m\u001b[37m\u001b[0m \u001b[1m0s\u001b[0m 2ms/step - loss: 0.0786 - mean_absolute_error: 0.2117\n",
      "Epoch 44/100\n",
      "\u001b[1m99/99\u001b[0m \u001b[32m━━━━━━━━━━━━━━━━━━━━\u001b[0m\u001b[37m\u001b[0m \u001b[1m0s\u001b[0m 2ms/step - loss: 0.0785 - mean_absolute_error: 0.2116\n",
      "Epoch 45/100\n",
      "\u001b[1m99/99\u001b[0m \u001b[32m━━━━━━━━━━━━━━━━━━━━\u001b[0m\u001b[37m\u001b[0m \u001b[1m0s\u001b[0m 2ms/step - loss: 0.0784 - mean_absolute_error: 0.2114\n",
      "Epoch 46/100\n",
      "\u001b[1m99/99\u001b[0m \u001b[32m━━━━━━━━━━━━━━━━━━━━\u001b[0m\u001b[37m\u001b[0m \u001b[1m0s\u001b[0m 2ms/step - loss: 0.0783 - mean_absolute_error: 0.2112\n",
      "Epoch 47/100\n",
      "\u001b[1m99/99\u001b[0m \u001b[32m━━━━━━━━━━━━━━━━━━━━\u001b[0m\u001b[37m\u001b[0m \u001b[1m0s\u001b[0m 2ms/step - loss: 0.0783 - mean_absolute_error: 0.2110\n",
      "Epoch 48/100\n",
      "\u001b[1m99/99\u001b[0m \u001b[32m━━━━━━━━━━━━━━━━━━━━\u001b[0m\u001b[37m\u001b[0m \u001b[1m0s\u001b[0m 2ms/step - loss: 0.0782 - mean_absolute_error: 0.2109\n",
      "Epoch 49/100\n",
      "\u001b[1m99/99\u001b[0m \u001b[32m━━━━━━━━━━━━━━━━━━━━\u001b[0m\u001b[37m\u001b[0m \u001b[1m0s\u001b[0m 2ms/step - loss: 0.0781 - mean_absolute_error: 0.2107\n",
      "Epoch 50/100\n",
      "\u001b[1m99/99\u001b[0m \u001b[32m━━━━━━━━━━━━━━━━━━━━\u001b[0m\u001b[37m\u001b[0m \u001b[1m0s\u001b[0m 2ms/step - loss: 0.0781 - mean_absolute_error: 0.2106\n",
      "Epoch 51/100\n",
      "\u001b[1m99/99\u001b[0m \u001b[32m━━━━━━━━━━━━━━━━━━━━\u001b[0m\u001b[37m\u001b[0m \u001b[1m0s\u001b[0m 2ms/step - loss: 0.0780 - mean_absolute_error: 0.2104\n",
      "Epoch 52/100\n",
      "\u001b[1m99/99\u001b[0m \u001b[32m━━━━━━━━━━━━━━━━━━━━\u001b[0m\u001b[37m\u001b[0m \u001b[1m0s\u001b[0m 2ms/step - loss: 0.0779 - mean_absolute_error: 0.2102\n",
      "Epoch 53/100\n",
      "\u001b[1m99/99\u001b[0m \u001b[32m━━━━━━━━━━━━━━━━━━━━\u001b[0m\u001b[37m\u001b[0m \u001b[1m0s\u001b[0m 2ms/step - loss: 0.0779 - mean_absolute_error: 0.2101\n",
      "Epoch 54/100\n",
      "\u001b[1m99/99\u001b[0m \u001b[32m━━━━━━━━━━━━━━━━━━━━\u001b[0m\u001b[37m\u001b[0m \u001b[1m0s\u001b[0m 2ms/step - loss: 0.0778 - mean_absolute_error: 0.2100\n",
      "Epoch 55/100\n",
      "\u001b[1m99/99\u001b[0m \u001b[32m━━━━━━━━━━━━━━━━━━━━\u001b[0m\u001b[37m\u001b[0m \u001b[1m0s\u001b[0m 2ms/step - loss: 0.0781 - mean_absolute_error: 0.2100\n",
      "Epoch 56/100\n",
      "\u001b[1m99/99\u001b[0m \u001b[32m━━━━━━━━━━━━━━━━━━━━\u001b[0m\u001b[37m\u001b[0m \u001b[1m0s\u001b[0m 2ms/step - loss: 0.0819 - mean_absolute_error: 0.2107\n",
      "Epoch 57/100\n",
      "\u001b[1m99/99\u001b[0m \u001b[32m━━━━━━━━━━━━━━━━━━━━\u001b[0m\u001b[37m\u001b[0m \u001b[1m0s\u001b[0m 2ms/step - loss: 0.0934 - mean_absolute_error: 0.2111\n",
      "Epoch 58/100\n",
      "\u001b[1m99/99\u001b[0m \u001b[32m━━━━━━━━━━━━━━━━━━━━\u001b[0m\u001b[37m\u001b[0m \u001b[1m0s\u001b[0m 2ms/step - loss: 0.0859 - mean_absolute_error: 0.2113\n",
      "Epoch 59/100\n",
      "\u001b[1m99/99\u001b[0m \u001b[32m━━━━━━━━━━━━━━━━━━━━\u001b[0m\u001b[37m\u001b[0m \u001b[1m0s\u001b[0m 2ms/step - loss: 0.0797 - mean_absolute_error: 0.2097\n",
      "Epoch 60/100\n",
      "\u001b[1m99/99\u001b[0m \u001b[32m━━━━━━━━━━━━━━━━━━━━\u001b[0m\u001b[37m\u001b[0m \u001b[1m0s\u001b[0m 2ms/step - loss: 0.0781 - mean_absolute_error: 0.2094\n",
      "Epoch 61/100\n",
      "\u001b[1m99/99\u001b[0m \u001b[32m━━━━━━━━━━━━━━━━━━━━\u001b[0m\u001b[37m\u001b[0m \u001b[1m0s\u001b[0m 2ms/step - loss: 0.0775 - mean_absolute_error: 0.2090\n",
      "Epoch 62/100\n",
      "\u001b[1m99/99\u001b[0m \u001b[32m━━━━━━━━━━━━━━━━━━━━\u001b[0m\u001b[37m\u001b[0m \u001b[1m0s\u001b[0m 2ms/step - loss: 0.0773 - mean_absolute_error: 0.2088\n",
      "Epoch 63/100\n",
      "\u001b[1m99/99\u001b[0m \u001b[32m━━━━━━━━━━━━━━━━━━━━\u001b[0m\u001b[37m\u001b[0m \u001b[1m0s\u001b[0m 2ms/step - loss: 0.0772 - mean_absolute_error: 0.2086\n",
      "Epoch 64/100\n",
      "\u001b[1m99/99\u001b[0m \u001b[32m━━━━━━━━━━━━━━━━━━━━\u001b[0m\u001b[37m\u001b[0m \u001b[1m0s\u001b[0m 2ms/step - loss: 0.0772 - mean_absolute_error: 0.2085\n",
      "Epoch 65/100\n",
      "\u001b[1m99/99\u001b[0m \u001b[32m━━━━━━━━━━━━━━━━━━━━\u001b[0m\u001b[37m\u001b[0m \u001b[1m0s\u001b[0m 2ms/step - loss: 0.0771 - mean_absolute_error: 0.2083\n",
      "Epoch 66/100\n",
      "\u001b[1m99/99\u001b[0m \u001b[32m━━━━━━━━━━━━━━━━━━━━\u001b[0m\u001b[37m\u001b[0m \u001b[1m0s\u001b[0m 2ms/step - loss: 0.0771 - mean_absolute_error: 0.2082\n",
      "Epoch 67/100\n",
      "\u001b[1m99/99\u001b[0m \u001b[32m━━━━━━━━━━━━━━━━━━━━\u001b[0m\u001b[37m\u001b[0m \u001b[1m0s\u001b[0m 2ms/step - loss: 0.0770 - mean_absolute_error: 0.2081\n",
      "Epoch 68/100\n",
      "\u001b[1m99/99\u001b[0m \u001b[32m━━━━━━━━━━━━━━━━━━━━\u001b[0m\u001b[37m\u001b[0m \u001b[1m0s\u001b[0m 2ms/step - loss: 0.0770 - mean_absolute_error: 0.2080\n",
      "Epoch 69/100\n",
      "\u001b[1m99/99\u001b[0m \u001b[32m━━━━━━━━━━━━━━━━━━━━\u001b[0m\u001b[37m\u001b[0m \u001b[1m0s\u001b[0m 2ms/step - loss: 0.0769 - mean_absolute_error: 0.2079\n",
      "Epoch 70/100\n",
      "\u001b[1m99/99\u001b[0m \u001b[32m━━━━━━━━━━━━━━━━━━━━\u001b[0m\u001b[37m\u001b[0m \u001b[1m0s\u001b[0m 2ms/step - loss: 0.0771 - mean_absolute_error: 0.2079\n",
      "Epoch 71/100\n",
      "\u001b[1m99/99\u001b[0m \u001b[32m━━━━━━━━━━━━━━━━━━━━\u001b[0m\u001b[37m\u001b[0m \u001b[1m0s\u001b[0m 2ms/step - loss: 0.0772 - mean_absolute_error: 0.2078\n",
      "Epoch 72/100\n",
      "\u001b[1m99/99\u001b[0m \u001b[32m━━━━━━━━━━━━━━━━━━━━\u001b[0m\u001b[37m\u001b[0m \u001b[1m0s\u001b[0m 2ms/step - loss: 0.0780 - mean_absolute_error: 0.2080\n",
      "Epoch 73/100\n",
      "\u001b[1m99/99\u001b[0m \u001b[32m━━━━━━━━━━━━━━━━━━━━\u001b[0m\u001b[37m\u001b[0m \u001b[1m0s\u001b[0m 2ms/step - loss: 0.0794 - mean_absolute_error: 0.2079\n",
      "Epoch 74/100\n",
      "\u001b[1m99/99\u001b[0m \u001b[32m━━━━━━━━━━━━━━━━━━━━\u001b[0m\u001b[37m\u001b[0m \u001b[1m0s\u001b[0m 2ms/step - loss: 0.0818 - mean_absolute_error: 0.2084\n",
      "Epoch 75/100\n",
      "\u001b[1m99/99\u001b[0m \u001b[32m━━━━━━━━━━━━━━━━━━━━\u001b[0m\u001b[37m\u001b[0m \u001b[1m0s\u001b[0m 2ms/step - loss: 0.0818 - mean_absolute_error: 0.2079\n",
      "Epoch 76/100\n",
      "\u001b[1m99/99\u001b[0m \u001b[32m━━━━━━━━━━━━━━━━━━━━\u001b[0m\u001b[37m\u001b[0m \u001b[1m0s\u001b[0m 2ms/step - loss: 0.0803 - mean_absolute_error: 0.2081\n",
      "Epoch 77/100\n",
      "\u001b[1m99/99\u001b[0m \u001b[32m━━━━━━━━━━━━━━━━━━━━\u001b[0m\u001b[37m\u001b[0m \u001b[1m0s\u001b[0m 2ms/step - loss: 0.0784 - mean_absolute_error: 0.2073\n",
      "Epoch 78/100\n",
      "\u001b[1m99/99\u001b[0m \u001b[32m━━━━━━━━━━━━━━━━━━━━\u001b[0m\u001b[37m\u001b[0m \u001b[1m0s\u001b[0m 2ms/step - loss: 0.0776 - mean_absolute_error: 0.2072\n",
      "Epoch 79/100\n",
      "\u001b[1m99/99\u001b[0m \u001b[32m━━━━━━━━━━━━━━━━━━━━\u001b[0m\u001b[37m\u001b[0m \u001b[1m0s\u001b[0m 2ms/step - loss: 0.0770 - mean_absolute_error: 0.2068\n",
      "Epoch 80/100\n",
      "\u001b[1m99/99\u001b[0m \u001b[32m━━━━━━━━━━━━━━━━━━━━\u001b[0m\u001b[37m\u001b[0m \u001b[1m0s\u001b[0m 2ms/step - loss: 0.0768 - mean_absolute_error: 0.2068\n",
      "Epoch 81/100\n",
      "\u001b[1m99/99\u001b[0m \u001b[32m━━━━━━━━━━━━━━━━━━━━\u001b[0m\u001b[37m\u001b[0m \u001b[1m0s\u001b[0m 2ms/step - loss: 0.0766 - mean_absolute_error: 0.2065\n",
      "Epoch 82/100\n",
      "\u001b[1m99/99\u001b[0m \u001b[32m━━━━━━━━━━━━━━━━━━━━\u001b[0m\u001b[37m\u001b[0m \u001b[1m0s\u001b[0m 2ms/step - loss: 0.0766 - mean_absolute_error: 0.2065\n",
      "Epoch 83/100\n",
      "\u001b[1m99/99\u001b[0m \u001b[32m━━━━━━━━━━━━━━━━━━━━\u001b[0m\u001b[37m\u001b[0m \u001b[1m0s\u001b[0m 2ms/step - loss: 0.0765 - mean_absolute_error: 0.2063\n",
      "Epoch 84/100\n",
      "\u001b[1m99/99\u001b[0m \u001b[32m━━━━━━━━━━━━━━━━━━━━\u001b[0m\u001b[37m\u001b[0m \u001b[1m0s\u001b[0m 2ms/step - loss: 0.0767 - mean_absolute_error: 0.2064\n",
      "Epoch 85/100\n",
      "\u001b[1m99/99\u001b[0m \u001b[32m━━━━━━━━━━━━━━━━━━━━\u001b[0m\u001b[37m\u001b[0m \u001b[1m0s\u001b[0m 2ms/step - loss: 0.0768 - mean_absolute_error: 0.2062\n",
      "Epoch 86/100\n",
      "\u001b[1m99/99\u001b[0m \u001b[32m━━━━━━━━━━━━━━━━━━━━\u001b[0m\u001b[37m\u001b[0m \u001b[1m0s\u001b[0m 2ms/step - loss: 0.0772 - mean_absolute_error: 0.2063\n",
      "Epoch 87/100\n",
      "\u001b[1m99/99\u001b[0m \u001b[32m━━━━━━━━━━━━━━━━━━━━\u001b[0m\u001b[37m\u001b[0m \u001b[1m0s\u001b[0m 2ms/step - loss: 0.0776 - mean_absolute_error: 0.2061\n",
      "Epoch 88/100\n",
      "\u001b[1m99/99\u001b[0m \u001b[32m━━━━━━━━━━━━━━━━━━━━\u001b[0m\u001b[37m\u001b[0m \u001b[1m0s\u001b[0m 2ms/step - loss: 0.0785 - mean_absolute_error: 0.2064\n",
      "Epoch 89/100\n",
      "\u001b[1m99/99\u001b[0m \u001b[32m━━━━━━━━━━━━━━━━━━━━\u001b[0m\u001b[37m\u001b[0m \u001b[1m0s\u001b[0m 2ms/step - loss: 0.0788 - mean_absolute_error: 0.2061\n",
      "Epoch 90/100\n",
      "\u001b[1m99/99\u001b[0m \u001b[32m━━━━━━━━━━━━━━━━━━━━\u001b[0m\u001b[37m\u001b[0m \u001b[1m0s\u001b[0m 2ms/step - loss: 0.0790 - mean_absolute_error: 0.2063\n",
      "Epoch 91/100\n",
      "\u001b[1m99/99\u001b[0m \u001b[32m━━━━━━━━━━━━━━━━━━━━\u001b[0m\u001b[37m\u001b[0m \u001b[1m0s\u001b[0m 2ms/step - loss: 0.0783 - mean_absolute_error: 0.2058\n",
      "Epoch 92/100\n",
      "\u001b[1m99/99\u001b[0m \u001b[32m━━━━━━━━━━━━━━━━━━━━\u001b[0m\u001b[37m\u001b[0m \u001b[1m0s\u001b[0m 2ms/step - loss: 0.0778 - mean_absolute_error: 0.2059\n",
      "Epoch 93/100\n",
      "\u001b[1m99/99\u001b[0m \u001b[32m━━━━━━━━━━━━━━━━━━━━\u001b[0m\u001b[37m\u001b[0m \u001b[1m0s\u001b[0m 2ms/step - loss: 0.0771 - mean_absolute_error: 0.2055\n",
      "Epoch 94/100\n",
      "\u001b[1m99/99\u001b[0m \u001b[32m━━━━━━━━━━━━━━━━━━━━\u001b[0m\u001b[37m\u001b[0m \u001b[1m0s\u001b[0m 2ms/step - loss: 0.0769 - mean_absolute_error: 0.2055\n",
      "Epoch 95/100\n",
      "\u001b[1m99/99\u001b[0m \u001b[32m━━━━━━━━━━━━━━━━━━━━\u001b[0m\u001b[37m\u001b[0m \u001b[1m0s\u001b[0m 2ms/step - loss: 0.0765 - mean_absolute_error: 0.2052\n",
      "Epoch 96/100\n",
      "\u001b[1m99/99\u001b[0m \u001b[32m━━━━━━━━━━━━━━━━━━━━\u001b[0m\u001b[37m\u001b[0m \u001b[1m0s\u001b[0m 2ms/step - loss: 0.0765 - mean_absolute_error: 0.2052\n",
      "Epoch 97/100\n",
      "\u001b[1m99/99\u001b[0m \u001b[32m━━━━━━━━━━━━━━━━━━━━\u001b[0m\u001b[37m\u001b[0m \u001b[1m0s\u001b[0m 2ms/step - loss: 0.0763 - mean_absolute_error: 0.2050\n",
      "Epoch 98/100\n",
      "\u001b[1m99/99\u001b[0m \u001b[32m━━━━━━━━━━━━━━━━━━━━\u001b[0m\u001b[37m\u001b[0m \u001b[1m0s\u001b[0m 2ms/step - loss: 0.0765 - mean_absolute_error: 0.2051\n",
      "Epoch 99/100\n",
      "\u001b[1m99/99\u001b[0m \u001b[32m━━━━━━━━━━━━━━━━━━━━\u001b[0m\u001b[37m\u001b[0m \u001b[1m0s\u001b[0m 2ms/step - loss: 0.0765 - mean_absolute_error: 0.2048\n",
      "Epoch 100/100\n",
      "\u001b[1m99/99\u001b[0m \u001b[32m━━━━━━━━━━━━━━━━━━━━\u001b[0m\u001b[37m\u001b[0m \u001b[1m0s\u001b[0m 2ms/step - loss: 0.0768 - mean_absolute_error: 0.2050\n",
      "\u001b[1m25/25\u001b[0m \u001b[32m━━━━━━━━━━━━━━━━━━━━\u001b[0m\u001b[37m\u001b[0m \u001b[1m0s\u001b[0m 1ms/step - loss: 0.0859 - mean_absolute_error: 0.2238  \n",
      "Validation Loss: 0.07988115400075912, Validation MAE: 0.21759197115898132\n"
     ]
    }
   ],
   "source": [
    "import keras\n",
    "import tensorflow as tf\n",
    "from tensorflow import keras\n",
    "# modele lineare \n",
    "model_linear = keras.models.Sequential([\n",
    "    keras.layers.Dense(1, input_dim=x_train.shape[1], activation='linear')  # Modèle linéaire\n",
    "])\n",
    "keras.utils.set_random_seed(42)\n",
    "model_linear.compile(loss='mean_squared_error', \n",
    "              optimizer='adam', \n",
    "              metrics=['mean_absolute_error'])\n",
    "\n",
    "exp_name = \"linear_regression_batch32_epochs100\"\n",
    "model_linear.fit(x_train, y_train, 32, 100,\n",
    "                  callbacks=[keras.callbacks.TensorBoard(log_dir=f'./logs/{exp_name}')])\n",
    "val_loss, val_mae = model_linear.evaluate(x_val, y_val)\n",
    "print(f'Validation Loss: {val_loss}, Validation MAE: {val_mae}')"
   ]
  },
  {
   "cell_type": "markdown",
   "id": "bea20af5",
   "metadata": {
    "papermill": {
     "duration": 0.15655,
     "end_time": "2024-11-15T20:10:10.471111",
     "exception": false,
     "start_time": "2024-11-15T20:10:10.314561",
     "status": "completed"
    },
    "tags": []
   },
   "source": [
    "* Générer les prédictions "
   ]
  },
  {
   "cell_type": "code",
   "execution_count": 24,
   "id": "87b8ade8",
   "metadata": {
    "execution": {
     "iopub.execute_input": "2024-11-15T20:10:10.784694Z",
     "iopub.status.busy": "2024-11-15T20:10:10.783965Z",
     "iopub.status.idle": "2024-11-15T20:10:10.890710Z",
     "shell.execute_reply": "2024-11-15T20:10:10.889706Z"
    },
    "papermill": {
     "duration": 0.265899,
     "end_time": "2024-11-15T20:10:10.893221",
     "exception": false,
     "start_time": "2024-11-15T20:10:10.627322",
     "status": "completed"
    },
    "tags": []
   },
   "outputs": [
    {
     "name": "stdout",
     "output_type": "stream",
     "text": [
      "\u001b[1m1/1\u001b[0m \u001b[32m━━━━━━━━━━━━━━━━━━━━\u001b[0m\u001b[37m\u001b[0m \u001b[1m0s\u001b[0m 41ms/step\n"
     ]
    }
   ],
   "source": [
    "predictions = model_linear.predict(Test_df)"
   ]
  },
  {
   "cell_type": "markdown",
   "id": "c3c54354",
   "metadata": {
    "papermill": {
     "duration": 0.15368,
     "end_time": "2024-11-15T20:10:11.257335",
     "exception": false,
     "start_time": "2024-11-15T20:10:11.103655",
     "status": "completed"
    },
    "tags": []
   },
   "source": [
    "# Submission "
   ]
  },
  {
   "cell_type": "code",
   "execution_count": 25,
   "id": "509fcbd1",
   "metadata": {
    "execution": {
     "iopub.execute_input": "2024-11-15T20:10:11.570263Z",
     "iopub.status.busy": "2024-11-15T20:10:11.569846Z",
     "iopub.status.idle": "2024-11-15T20:10:11.588232Z",
     "shell.execute_reply": "2024-11-15T20:10:11.587005Z"
    },
    "papermill": {
     "duration": 0.176593,
     "end_time": "2024-11-15T20:10:11.590735",
     "exception": false,
     "start_time": "2024-11-15T20:10:11.414142",
     "status": "completed"
    },
    "tags": []
   },
   "outputs": [
    {
     "name": "stdout",
     "output_type": "stream",
     "text": [
      "Taille de predictions avant transformation : (20, 1)\n",
      "Type de predictions avant transformation : <class 'numpy.ndarray'>\n",
      "         id  sii\n",
      "0  00008ff9    0\n",
      "1  000fd460    0\n",
      "2  00105258    0\n",
      "3  00115b9f    0\n",
      "4  0016bb22    0\n",
      "id     object\n",
      "sii     int64\n",
      "dtype: object\n",
      "Submission DataFrame créé avec succès.\n"
     ]
    }
   ],
   "source": [
    "# Vérifiez la taille et le type de predictions\n",
    "print(\"Taille de predictions avant transformation :\", predictions.shape)\n",
    "print(\"Type de predictions avant transformation :\", type(predictions))\n",
    "\n",
    "# Convertir predictions en un tableau unidimensionnel\n",
    "predictions = predictions.ravel()  # Cela transforme (20, 1) en (20,)\n",
    "\n",
    "# Convertir les prédictions en entiers (si c'est un problème de classification avec des classes discrètes)\n",
    "predictions = predictions.round().astype(int)  # Arrondir et convertir en entiers\n",
    "\n",
    "# Créez un DataFrame pour les soumissions\n",
    "submission_df = pd.DataFrame({\n",
    "    'id': test_df['id'].values,  # Utilisez .values pour obtenir un tableau numpy\n",
    "    'sii': predictions  # predictions est maintenant unidimensionnel et entier\n",
    "})\n",
    "\n",
    "# Assurez-vous que 'id' est de type chaîne de caractères et remplissez avec des zéros pour avoir 8 caractères\n",
    "submission_df['id'] = submission_df['id'].astype(str).str.zfill(8)\n",
    "# Vérifiez le contenu et les types de données dans submission_df\n",
    "print(submission_df.head())\n",
    "print(submission_df.dtypes)\n",
    "\n",
    "# Sauvegardez le DataFrame dans un fichier CSV\n",
    "submission_df.to_csv('submission.csv', index=False)\n",
    "\n",
    "print(\"Submission DataFrame créé avec succès.\")"
   ]
  },
  {
   "cell_type": "code",
   "execution_count": 26,
   "id": "15946e4b",
   "metadata": {
    "execution": {
     "iopub.execute_input": "2024-11-15T20:10:11.906468Z",
     "iopub.status.busy": "2024-11-15T20:10:11.905905Z",
     "iopub.status.idle": "2024-11-15T20:10:11.930318Z",
     "shell.execute_reply": "2024-11-15T20:10:11.929102Z"
    },
    "papermill": {
     "duration": 0.186032,
     "end_time": "2024-11-15T20:10:11.933010",
     "exception": false,
     "start_time": "2024-11-15T20:10:11.746978",
     "status": "completed"
    },
    "tags": []
   },
   "outputs": [
    {
     "name": "stdout",
     "output_type": "stream",
     "text": [
      "Les fichiers ont le même nombre de lignes et de colonnes.\n",
      "Les types de colonnes correspondent.\n",
      "Les 10 premières lignes diffèrent.\n",
      "         id  sii\n",
      "0  00008ff9    0\n",
      "1  000fd460    0\n",
      "2  00105258    0\n",
      "3  00115b9f    0\n",
      "4  0016bb22    0\n",
      "5  001f3379    1\n",
      "6  0038ba98    0\n",
      "7  0068a485    0\n",
      "8  0069fbed    0\n",
      "9  0083e397    0\n",
      "         id  sii\n",
      "0  00008ff9    0\n",
      "1  000fd460    1\n",
      "2  00105258    2\n",
      "3  00115b9f    3\n",
      "4  0016bb22    0\n",
      "5  001f3379    1\n",
      "6  0038ba98    2\n",
      "7  0068a485    3\n",
      "8  0069fbed    0\n",
      "9  0083e397    1\n",
      "\n",
      "Les identifiants sont-ils identiques dans les deux fichiers ? : True\n"
     ]
    }
   ],
   "source": [
    "submission_generated = pd.read_csv('/kaggle/working/submission.csv')\n",
    "submission_example = pd.read_csv('/kaggle/input/child-mind-institute-problematic-internet-use/sample_submission.csv')\n",
    "# Vérifier le nombre de lignes et de colonnes\n",
    "if submission_generated.shape == submission_example.shape:\n",
    "    print(\"Les fichiers ont le même nombre de lignes et de colonnes.\")\n",
    "else:\n",
    "    print(\"Les fichiers n'ont pas le même nombre de lignes ou de colonnes.\")\n",
    "\n",
    "# Vérifier les types de colonnes\n",
    "if submission_generated.dtypes.equals(submission_example.dtypes):\n",
    "    print(\"Les types de colonnes correspondent.\")\n",
    "else:\n",
    "    print(\"Les types de colonnes ne correspondent pas.\")\n",
    "    print(\"Types dans le fichier généré:\", submission_generated.dtypes)\n",
    "    print(\"Types dans l'exemple:\", submission_example.dtypes)\n",
    "\n",
    "comparison = submission_generated.head(10) == submission_example.head(10)\n",
    "if comparison.all().all():\n",
    "    print(\"Les 10 premières lignes sont identiques.\")\n",
    "else:\n",
    "    print(\"Les 10 premières lignes diffèrent.\")\n",
    "    print(submission_generated.head(10))\n",
    "    print(submission_example.head(10))\n",
    "\n",
    "# 4. Vérification de l'égalité exacte des identifiants\n",
    "ids_identiques = submission_generated['id'].equals(submission_example['id'])\n",
    "print(\"\\nLes identifiants sont-ils identiques dans les deux fichiers ? :\", ids_identiques)\n",
    "\n"
   ]
  },
  {
   "cell_type": "code",
   "execution_count": null,
   "id": "fce6b0b7",
   "metadata": {
    "papermill": {
     "duration": 0.156304,
     "end_time": "2024-11-15T20:10:12.247582",
     "exception": false,
     "start_time": "2024-11-15T20:10:12.091278",
     "status": "completed"
    },
    "tags": []
   },
   "outputs": [],
   "source": []
  }
 ],
 "metadata": {
  "kaggle": {
   "accelerator": "none",
   "dataSources": [
    {
     "databundleVersionId": 9643020,
     "sourceId": 81933,
     "sourceType": "competition"
    }
   ],
   "dockerImageVersionId": 30786,
   "isGpuEnabled": false,
   "isInternetEnabled": false,
   "language": "python",
   "sourceType": "notebook"
  },
  "kernelspec": {
   "display_name": "Python 3",
   "language": "python",
   "name": "python3"
  },
  "language_info": {
   "codemirror_mode": {
    "name": "ipython",
    "version": 3
   },
   "file_extension": ".py",
   "mimetype": "text/x-python",
   "name": "python",
   "nbconvert_exporter": "python",
   "pygments_lexer": "ipython3",
   "version": "3.10.14"
  },
  "papermill": {
   "default_parameters": {},
   "duration": 267.415864,
   "end_time": "2024-11-15T20:10:14.030096",
   "environment_variables": {},
   "exception": null,
   "input_path": "__notebook__.ipynb",
   "output_path": "__notebook__.ipynb",
   "parameters": {},
   "start_time": "2024-11-15T20:05:46.614232",
   "version": "2.6.0"
  }
 },
 "nbformat": 4,
 "nbformat_minor": 5
}
